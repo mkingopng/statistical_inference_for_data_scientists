{
 "cells": [
  {
   "cell_type": "code",
   "execution_count": 1,
   "metadata": {
    "collapsed": true,
    "pycharm": {
     "name": "#%%\n"
    }
   },
   "outputs": [],
   "source": [
    "from datetime import datetime"
   ]
  },
  {
   "cell_type": "code",
   "execution_count": 2,
   "outputs": [],
   "source": [
    "start = datetime.strptime('May 3 2022  11:59', '%b %d %Y %H:%M')  # utc timezone\n",
    "quiz_3 = datetime.strptime('Jun 15 2022  11:59', '%b %d %Y %H:%M')  # week 6, wednesday 12 pm\n",
    "final_exam = datetime.strptime('Jun 22 2022  11:59', '%b %d %Y %H:%M')  # week 7 tuesday 8am"
   ],
   "metadata": {
    "collapsed": false,
    "pycharm": {
     "name": "#%%\n"
    }
   }
  },
  {
   "cell_type": "code",
   "execution_count": 3,
   "outputs": [],
   "source": [
    "nowdate = datetime.now()\n",
    "count = int((quiz_3-nowdate).total_seconds())"
   ],
   "metadata": {
    "collapsed": false,
    "pycharm": {
     "name": "#%%\n"
    }
   }
  },
  {
   "cell_type": "code",
   "execution_count": 4,
   "outputs": [
    {
     "name": "stdout",
     "output_type": "stream",
     "text": [
      "0 days 10 hours 35 minutes 27 seconds until quiz 3 for Statistical Inference for Data Scientists\n"
     ]
    }
   ],
   "source": [
    "days = count//86400\n",
    "hours = (count-days*86400)//3600\n",
    "minutes = (count-days*86400-hours*3600)//60\n",
    "seconds = count-days*86400-hours*3600-minutes*60\n",
    "print(f\"{days} days {hours} hours {minutes} minutes {seconds} seconds until quiz 3 for Statistical Inference for Data Scientists\")"
   ],
   "metadata": {
    "collapsed": false,
    "pycharm": {
     "name": "#%%\n"
    }
   }
  },
  {
   "cell_type": "code",
   "execution_count": 5,
   "outputs": [],
   "source": [
    "nowdate = datetime.now()\n",
    "count = int((final_exam-nowdate).total_seconds())"
   ],
   "metadata": {
    "collapsed": false,
    "pycharm": {
     "name": "#%%\n"
    }
   }
  },
  {
   "cell_type": "code",
   "execution_count": 6,
   "outputs": [
    {
     "name": "stdout",
     "output_type": "stream",
     "text": [
      "7 days 10 hours 35 minutes 27 seconds until the final exam for Statistical Inference for Data Scientists\n"
     ]
    }
   ],
   "source": [
    "days = count//86400\n",
    "hours = (count-days*86400)//3600\n",
    "minutes = (count-days*86400-hours*3600)//60\n",
    "seconds = count-days*86400-hours*3600-minutes*60\n",
    "print(f\"{days} days {hours} hours {minutes} minutes {seconds} seconds until the final exam for Statistical Inference for Data Scientists\")"
   ],
   "metadata": {
    "collapsed": false,
    "pycharm": {
     "name": "#%%\n"
    }
   }
  }
 ],
 "metadata": {
  "kernelspec": {
   "display_name": "Python 3",
   "language": "python",
   "name": "python3"
  },
  "language_info": {
   "codemirror_mode": {
    "name": "ipython",
    "version": 2
   },
   "file_extension": ".py",
   "mimetype": "text/x-python",
   "name": "python",
   "nbconvert_exporter": "python",
   "pygments_lexer": "ipython2",
   "version": "2.7.6"
  }
 },
 "nbformat": 4,
 "nbformat_minor": 0
}