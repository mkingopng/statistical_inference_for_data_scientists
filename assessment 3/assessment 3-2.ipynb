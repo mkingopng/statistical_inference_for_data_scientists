{
 "cells": [
  {
   "cell_type": "code",
   "execution_count": 6,
   "metadata": {
    "collapsed": true,
    "pycharm": {
     "name": "#%%\n"
    }
   },
   "outputs": [],
   "source": [
    "from sympy import *\n",
    "from sympy import Symbol, Rational, binomial, expand_func, factorial\n",
    "from sympy.abc import *\n",
    "from scipy.stats import binom"
   ]
  },
  {
   "cell_type": "code",
   "execution_count": 5,
   "outputs": [],
   "source": [
    "X = Symbol(\"X\")\n",
    "X_1 = Symbol(\"X_1\")\n",
    "X_2 = Symbol(\"X_2\")\n",
    "X_3 = Symbol(\"X_3\")\n",
    "X_4 = Symbol(\"X\")"
   ],
   "metadata": {
    "collapsed": false,
    "pycharm": {
     "name": "#%%\n"
    }
   }
  },
  {
   "cell_type": "markdown",
   "source": [
    "# Question 2a:\n",
    "\n",
    "Find the probability density function for the price per share $Y$ that you will have to pay."
   ],
   "metadata": {
    "collapsed": false,
    "pycharm": {
     "name": "#%% md\n"
    }
   }
  },
  {
   "cell_type": "code",
   "execution_count": null,
   "outputs": [],
   "source": [],
   "metadata": {
    "collapsed": false,
    "pycharm": {
     "name": "#%%\n"
    }
   }
  },
  {
   "cell_type": "markdown",
   "source": [
    "# Question 2b:\n",
    "\n",
    "From part (a), find the expected value for the price per share that you will have to pay. Enter the exact value."
   ],
   "metadata": {
    "collapsed": false,
    "pycharm": {
     "name": "#%% md\n"
    }
   }
  },
  {
   "cell_type": "code",
   "execution_count": null,
   "outputs": [],
   "source": [],
   "metadata": {
    "collapsed": false,
    "pycharm": {
     "name": "#%%\n"
    }
   }
  },
  {
   "cell_type": "markdown",
   "source": [
    "# Question 2c:\n",
    "\n",
    "Find the probability density function for the price per share that your colleague will have to pay $Z$."
   ],
   "metadata": {
    "collapsed": false,
    "pycharm": {
     "name": "#%% md\n"
    }
   }
  },
  {
   "cell_type": "code",
   "execution_count": null,
   "outputs": [],
   "source": [],
   "metadata": {
    "collapsed": false,
    "pycharm": {
     "name": "#%%\n"
    }
   }
  },
  {
   "cell_type": "markdown",
   "source": [
    "# Question 2d:\n",
    "\n",
    "Suppose $X_1,X_2,X_3,X_4$ has a Multinomial $(6; 0.7, 0.1, 0.1, 0.1)$ distribution. Compute\n",
    "\n",
    "$$P(X_1=3, X_2=1, X_3=1, X_4=1)$$\n",
    "\n",
    "Give your answer to three decimal places."
   ],
   "metadata": {
    "collapsed": false,
    "pycharm": {
     "name": "#%% md\n"
    }
   }
  },
  {
   "cell_type": "code",
   "execution_count": 12,
   "outputs": [
    {
     "data": {
      "text/plain": "a**X_1*b**X_2*c**X_3*d**X/(factorial(X_1)*factorial(X_2)*factorial(X_3))",
      "text/latex": "$\\displaystyle \\frac{a^{X_{1}} b^{X_{2}} c^{X_{3}} d^{X}}{X_{1}! X_{2}! X_{3}!}$"
     },
     "execution_count": 12,
     "metadata": {},
     "output_type": "execute_result"
    }
   ],
   "source": [
    "expr = factorial(X) / (factorial(X_1) * factorial(X_2) * factorial(X_3) * factorial(X_4)) * a**X_1 * b**X_2 * c**X_3 * d**X_4\n",
    "\n",
    "expr"
   ],
   "metadata": {
    "collapsed": false,
    "pycharm": {
     "name": "#%%\n"
    }
   }
  },
  {
   "cell_type": "code",
   "execution_count": 13,
   "outputs": [
    {
     "data": {
      "text/plain": "5.71666666666667e-10",
      "text/latex": "$\\displaystyle 5.71666666666667 \\cdot 10^{-10}$"
     },
     "execution_count": 13,
     "metadata": {},
     "output_type": "execute_result"
    }
   ],
   "source": [
    "expr.subs(X, 6).subs(X_1, 3).subs(X_2, 1).subs(X_3, 1).subs(X_4, 1).subs(a, 0.7).subs(b, 0.1).subs(c, 0.1).subs(d, 0.1)"
   ],
   "metadata": {
    "collapsed": false,
    "pycharm": {
     "name": "#%%\n"
    }
   }
  },
  {
   "cell_type": "code",
   "execution_count": 20,
   "outputs": [
    {
     "data": {
      "text/plain": "0.02592"
     },
     "execution_count": 20,
     "metadata": {},
     "output_type": "execute_result"
    }
   ],
   "source": [
    "(720/6) * (0.6**3) * 0.1 * 0.1 * 0.1"
   ],
   "metadata": {
    "collapsed": false,
    "pycharm": {
     "name": "#%%\n"
    }
   }
  },
  {
   "cell_type": "markdown",
   "source": [
    "# Question 2e:\n",
    "\n",
    "Suppose $X_1, X_2, X_3, X_4$ has a Multinomial $(12;0.4,0.2,0.1,0.3)$ distribution. Compute\n",
    "\n",
    "$$P(X_2 + X_3 + X_4 = 8)$$\n",
    "\n",
    "Give your answer to three decimal places."
   ],
   "metadata": {
    "collapsed": false,
    "pycharm": {
     "name": "#%% md\n"
    }
   }
  },
  {
   "cell_type": "code",
   "execution_count": null,
   "outputs": [],
   "source": [],
   "metadata": {
    "collapsed": false,
    "pycharm": {
     "name": "#%%\n"
    }
   }
  },
  {
   "cell_type": "code",
   "execution_count": null,
   "outputs": [],
   "source": [],
   "metadata": {
    "collapsed": false,
    "pycharm": {
     "name": "#%%\n"
    }
   }
  }
 ],
 "metadata": {
  "kernelspec": {
   "display_name": "Python 3",
   "language": "python",
   "name": "python3"
  },
  "language_info": {
   "codemirror_mode": {
    "name": "ipython",
    "version": 2
   },
   "file_extension": ".py",
   "mimetype": "text/x-python",
   "name": "python",
   "nbconvert_exporter": "python",
   "pygments_lexer": "ipython2",
   "version": "2.7.6"
  }
 },
 "nbformat": 4,
 "nbformat_minor": 0
}