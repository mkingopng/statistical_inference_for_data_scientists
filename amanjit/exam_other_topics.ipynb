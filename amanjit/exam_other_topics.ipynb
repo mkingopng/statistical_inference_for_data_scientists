{
 "cells": [
  {
   "cell_type": "markdown",
   "id": "15dd4b02-d427-4530-97fe-f9f18a06c2d1",
   "metadata": {
    "pycharm": {
     "name": "#%% md\n"
    },
    "tags": []
   },
   "source": [
    "## Other Topics"
   ]
  },
  {
   "cell_type": "markdown",
   "id": "3c85baa3-fd25-4f29-9696-bc679e20b2a2",
   "metadata": {
    "pycharm": {
     "name": "#%% md\n"
    },
    "tags": []
   },
   "source": [
    "#### Posterior Distribution\n",
    "##### Proportionality method"
   ]
  },
  {
   "cell_type": "code",
   "execution_count": null,
   "id": "3e1beaa0-d3b2-43f8-aeb4-5253bca88df2",
   "metadata": {
    "pycharm": {
     "name": "#%%\n"
    }
   },
   "outputs": [],
   "source": [
    "%reset -f\n",
    "\n",
    "from sympy import *\n",
    "from sympy.stats import *\n",
    "from sympy.functions import *\n",
    "from sympy.integrals import *"
   ]
  },
  {
   "cell_type": "code",
   "execution_count": null,
   "id": "4a1bb523-1ae4-49da-aa4c-26bc51ca3e50",
   "metadata": {
    "pycharm": {
     "name": "#%%\n"
    }
   },
   "outputs": [],
   "source": [
    "# Symbols\n",
    "\n",
    "theta = Symbol('theta', positive=True)\n",
    "i = Symbol('i', positive=True, Set=S.Naturals)\n",
    "x = Indexed('x', i) # need indexed variable for summation and product\n",
    "k = Symbol('k')\n",
    "t = Symbol('t')\n",
    "\n",
    "t1 = Symbol('theta1')\n",
    "t2 = Symbol('theta2')\n",
    "tau = Symbol('tau')\n",
    "lm = Symbol('lambda')\n",
    "al = Symbol('alpha')\n",
    "be = Symbol('beta')"
   ]
  },
  {
   "cell_type": "code",
   "execution_count": null,
   "id": "328c605f-2324-4940-aec5-6c76f79b7f2f",
   "metadata": {
    "pycharm": {
     "name": "#%%\n"
    }
   },
   "outputs": [],
   "source": [
    "# density for 1 RV\n",
    "# UNCOMMENT here to use density function from an inbuilt distribution\n",
    "X = Normal('x', 0, 1/theta)\n",
    "pdf = simplify(density(X)(x))\n",
    "# UNCOMMENT here to define manually\n",
    "#pdf = 1/gamma(al)*\n",
    "pdf"
   ]
  },
  {
   "cell_type": "code",
   "execution_count": null,
   "id": "cc3a59fe-f9fd-4088-96b7-aa1413f3b6b4",
   "metadata": {
    "pycharm": {
     "name": "#%%\n"
    }
   },
   "outputs": [],
   "source": [
    "# pdf for n RVs\n",
    "pdf = simplify(Product(pdf, (i, 1, t)))\n",
    "pdf"
   ]
  },
  {
   "cell_type": "code",
   "execution_count": null,
   "id": "6a660e5a-93e8-4848-be19-18cd1da2a69d",
   "metadata": {
    "pycharm": {
     "name": "#%%\n"
    }
   },
   "outputs": [],
   "source": [
    "# tau (prior of parameter)\n",
    "G = Gamma('g',3,1/4)\n",
    "tau = density(G)(x)\n",
    "tau"
   ]
  },
  {
   "cell_type": "code",
   "execution_count": null,
   "id": "a84fbd0c-2b8e-468e-8e19-54e71168bf07",
   "metadata": {
    "pycharm": {
     "name": "#%%\n"
    }
   },
   "outputs": [],
   "source": [
    "# h(𝜃|W)*tau(𝜃)\n",
    "# then match terms to the suggested distribution\n",
    "product = simplify(pdf*tau)\n",
    "product"
   ]
  },
  {
   "cell_type": "markdown",
   "id": "c4cd9b64-2f83-4a5c-a4db-0e551890ec5b",
   "metadata": {
    "pycharm": {
     "name": "#%% md\n"
    },
    "tags": []
   },
   "source": [
    "#### Random Variables"
   ]
  },
  {
   "cell_type": "code",
   "execution_count": null,
   "id": "655f02e6-8536-43b4-9840-155d7796fdb8",
   "metadata": {
    "pycharm": {
     "name": "#%%\n"
    }
   },
   "outputs": [],
   "source": [
    "%reset -f\n",
    "\n",
    "from sympy import *\n",
    "from sympy.stats import *\n",
    "from sympy.stats import E, P\n",
    "from sympy.functions import *\n",
    "from sympy.integrals import *"
   ]
  },
  {
   "cell_type": "code",
   "execution_count": null,
   "id": "8b9e49e2-a0a4-4960-8b96-9e0088ea8526",
   "metadata": {
    "pycharm": {
     "name": "#%%\n"
    }
   },
   "outputs": [],
   "source": [
    "theta = Symbol('theta', positive=True)\n",
    "x = Symbol('x')\n",
    "y = Symbol('y')"
   ]
  },
  {
   "cell_type": "markdown",
   "id": "fc6c9f5f-ba8a-4d67-a9f7-ca9395a43fc2",
   "metadata": {
    "pycharm": {
     "name": "#%% md\n"
    },
    "tags": []
   },
   "source": [
    "##### Random Variable With Custom PDF"
   ]
  },
  {
   "cell_type": "code",
   "execution_count": null,
   "id": "eb6f5f53-a095-4824-bca8-97f4eee5752d",
   "metadata": {
    "pycharm": {
     "name": "#%%\n"
    }
   },
   "outputs": [],
   "source": [
    "pdf = 4*exp(-4*(x-6))\n",
    "\n",
    "X = ContinuousRV(x, pdf, positive=True, set=Interval(6, oo))\n",
    "\n",
    "Expectation(X).doit().evalf()"
   ]
  },
  {
   "cell_type": "code",
   "execution_count": null,
   "id": "91900b3a-d962-45a5-83db-423b38017240",
   "metadata": {
    "pycharm": {
     "name": "#%%\n"
    }
   },
   "outputs": [],
   "source": [
    "P(X < 8).evalf(5)"
   ]
  },
  {
   "cell_type": "code",
   "execution_count": null,
   "id": "ca22cfee-21d3-4fc2-b10f-f2cf504d1ae9",
   "metadata": {
    "pycharm": {
     "name": "#%%\n"
    }
   },
   "outputs": [],
   "source": [
    "# free space\n",
    "\n"
   ]
  },
  {
   "cell_type": "markdown",
   "id": "76c05c34-84e7-4af0-a0d4-01b74c0c2257",
   "metadata": {
    "pycharm": {
     "name": "#%% md\n"
    },
    "tags": []
   },
   "source": [
    "##### Random Variable With Built-In Distribution"
   ]
  },
  {
   "cell_type": "code",
   "execution_count": null,
   "id": "a546d619-8e73-4c7e-866e-4beb349b67a6",
   "metadata": {
    "pycharm": {
     "name": "#%%\n"
    }
   },
   "outputs": [],
   "source": [
    "# Normal\n",
    "mean = 0\n",
    "variance = 1/theta\n",
    "X = Normal(x, mean, variance)\n",
    "# P(X > 5).evalf(5)\n",
    "density(X)(x)"
   ]
  },
  {
   "cell_type": "code",
   "execution_count": null,
   "id": "e96dc01d-bb68-4fa8-be44-4594debbe969",
   "metadata": {
    "pycharm": {
     "name": "#%%\n"
    }
   },
   "outputs": [],
   "source": [
    "# Binomial\n",
    "n = 12\n",
    "p = 0.4\n",
    "X = Binomial(x, 12, 0.4)\n",
    "# both of the below expressions work\n",
    "density(X)(4)\n",
    "P(Eq(X, 4)).evalf(5)"
   ]
  },
  {
   "cell_type": "code",
   "execution_count": null,
   "id": "f28c324b-10ed-44b0-854e-1ece907dbb86",
   "metadata": {
    "pycharm": {
     "name": "#%%\n"
    }
   },
   "outputs": [],
   "source": [
    "# Bernoulli\n",
    "p = 0.4\n",
    "X = Bernoulli(x, p)\n",
    "P(X > 0)"
   ]
  },
  {
   "cell_type": "code",
   "execution_count": null,
   "id": "8812ee6f-e09f-4a6f-b62c-281aaea286f7",
   "metadata": {
    "pycharm": {
     "name": "#%%\n"
    }
   },
   "outputs": [],
   "source": [
    "# Multinomial\n",
    "# probability for each outcome\n",
    "# must add to 1\n",
    "p1 = nsimplify(0.4)\n",
    "p2 = nsimplify(0.1)\n",
    "p3 = nsimplify(0.2)\n",
    "p4 = nsimplify(0.3)\n",
    "\n",
    "# number of trials\n",
    "n = 8\n",
    "\n",
    "# tally/count for each outcome\n",
    "# must equal number of trials\n",
    "x1 = 3\n",
    "x2 = 1\n",
    "x3 = 2\n",
    "x4 = 2\n",
    "\n",
    "# create distribution\n",
    "X = Multinomial('m', n, p1, p2, p3, p4)\n",
    "\n",
    "# probability of that combination of counts\n",
    "density(X)(x1, x2, x3, x4).evalf(5)"
   ]
  },
  {
   "cell_type": "code",
   "execution_count": null,
   "id": "439ef6e5-8777-4bda-a4fd-d92659c30c1b",
   "metadata": {
    "pycharm": {
     "name": "#%%\n"
    }
   },
   "outputs": [],
   "source": []
  }
 ],
 "metadata": {
  "kernelspec": {
   "display_name": "Python 3 (ipykernel)",
   "language": "python",
   "name": "python3"
  },
  "language_info": {
   "codemirror_mode": {
    "name": "ipython",
    "version": 3
   },
   "file_extension": ".py",
   "mimetype": "text/x-python",
   "name": "python",
   "nbconvert_exporter": "python",
   "pygments_lexer": "ipython3",
   "version": "3.9.12"
  }
 },
 "nbformat": 4,
 "nbformat_minor": 5
}