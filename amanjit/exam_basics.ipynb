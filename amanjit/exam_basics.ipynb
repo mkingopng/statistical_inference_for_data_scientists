{
 "cells": [
  {
   "cell_type": "markdown",
   "id": "3c6d4dad",
   "metadata": {
    "pycharm": {
     "name": "#%% md\n"
    }
   },
   "source": [
    "# Imports"
   ]
  },
  {
   "cell_type": "code",
   "execution_count": 1,
   "id": "4cb84bdd",
   "metadata": {
    "pycharm": {
     "name": "#%%\n"
    }
   },
   "outputs": [],
   "source": [
    "%reset -f\n",
    "from sympy import *\n",
    "from sympy.stats import *\n",
    "from sympy.functions import *\n",
    "from sympy.functions.combinatorial.numbers import *\n",
    "from sympy.integrals import *"
   ]
  },
  {
   "cell_type": "markdown",
   "id": "3a8b5c63",
   "metadata": {
    "pycharm": {
     "name": "#%% md\n"
    }
   },
   "source": [
    "## define symbols"
   ]
  },
  {
   "cell_type": "code",
   "execution_count": null,
   "outputs": [],
   "source": [
    "# Symbols\n",
    "theta = Symbol('theta', positive=True)\n",
    "x = Symbol('x')\n",
    "n = Symbol('n', positive=True)\n",
    "t = Symbol('t', positive=True)\n",
    "p = Symbol('p', positive=True)"
   ],
   "metadata": {
    "collapsed": false,
    "pycharm": {
     "name": "#%%\n"
    }
   }
  },
  {
   "cell_type": "markdown",
   "source": [
    "## Basic Calculations\n",
    "#### Algebra and Counting\n",
    "#### Combinatorics"
   ],
   "metadata": {
    "collapsed": false,
    "pycharm": {
     "name": "#%% md\n"
    }
   }
  },
  {
   "cell_type": "code",
   "execution_count": null,
   "outputs": [],
   "source": [
    "# nCr\n",
    "nC(3,2)"
   ],
   "metadata": {
    "collapsed": false,
    "pycharm": {
     "name": "#%%\n"
    }
   }
  },
  {
   "cell_type": "code",
   "execution_count": null,
   "outputs": [],
   "source": [
    "# nPr\n",
    "nP(3,2)"
   ],
   "metadata": {
    "collapsed": false,
    "pycharm": {
     "name": "#%%\n"
    }
   }
  },
  {
   "cell_type": "code",
   "execution_count": null,
   "outputs": [],
   "source": [
    "# factorial\n",
    "factorial(5)"
   ],
   "metadata": {
    "collapsed": false,
    "pycharm": {
     "name": "#%%\n"
    }
   }
  },
  {
   "cell_type": "markdown",
   "source": [
    "## Expected Value, Variance and Moments\n",
    "#### density"
   ],
   "metadata": {
    "collapsed": false,
    "pycharm": {
     "name": "#%% md\n"
    }
   }
  },
  {
   "cell_type": "code",
   "execution_count": null,
   "outputs": [],
   "source": [
    "# density\n",
    "\n",
    "# UNCOMMENT here to use an inbuilt distribution\n",
    "# X = Normal('x', 0, theta)\n",
    "# likelihood = simplify(density(X)(x))\n",
    "\n",
    "# UNCOMMENT here to define manually\n",
    "pdf = theta ** x * (1 - theta) ** (1 - x)\n",
    "pdf"
   ],
   "metadata": {
    "collapsed": false,
    "pycharm": {
     "name": "#%%\n"
    }
   }
  },
  {
   "cell_type": "code",
   "execution_count": null,
   "outputs": [],
   "source": [
    "# MUST RUN BEFORE VARIANCE/MOMENTS\n",
    "# expected value\n",
    "# also works for g(x) transformed RV\n",
    "def expected_value(of, pdf, wrt, lower, upper):\n",
    "    \"\"\"\n",
    "\n",
    "    :param of:\n",
    "    :param pdf:\n",
    "    :param wrt:\n",
    "    :param lower:\n",
    "    :param upper:\n",
    "    :return:\n",
    "    \"\"\"\n",
    "    return integrate(exped_value_of * pdf, (wrt, lower, upper), conds='none').doit()\n",
    "\n",
    "# what you're finding expected value of i.e. x, 1/x, x**2, etc\n",
    "exped_value_of = x\n",
    "\n",
    "# define variable and bounds\n",
    "wrt = x\n",
    "lower = 0\n",
    "upper = 1"
   ],
   "metadata": {
    "collapsed": false,
    "pycharm": {
     "name": "#%%\n"
    }
   }
  },
  {
   "cell_type": "code",
   "execution_count": null,
   "outputs": [],
   "source": [
    "# calculate the expected valu (mean)\n",
    "exp_val = expected_value(exped_value_of, pdf, wrt, lower, upper)\n",
    "exp_val = simplify(exp_val)\n",
    "exp_val"
   ],
   "metadata": {
    "collapsed": false,
    "pycharm": {
     "name": "#%%\n"
    }
   }
  },
  {
   "cell_type": "code",
   "execution_count": null,
   "outputs": [],
   "source": [
    "# calculate the variance\n",
    "variance = expected_value(wrt ** 2, pdf, wrt, lower, upper) - exp_val ** 2\n",
    "variance = simplify(variance)\n",
    "variance"
   ],
   "metadata": {
    "collapsed": false,
    "pycharm": {
     "name": "#%%\n"
    }
   }
  },
  {
   "cell_type": "code",
   "execution_count": null,
   "outputs": [],
   "source": [
    "# rth raw moment\n",
    "r = 3\n",
    "raw_moment = expected_value(wrt ** r, pdf, wrt, lower, upper)\n",
    "raw_moment = simplify(raw_moment)\n",
    "raw_moment"
   ],
   "metadata": {
    "collapsed": false,
    "pycharm": {
     "name": "#%%\n"
    }
   }
  },
  {
   "cell_type": "code",
   "execution_count": null,
   "outputs": [],
   "source": [
    "# rth central moment\n",
    "# uses the risch algorithm to allow integration by parts\n",
    "r = 1\n",
    "integrand = ((wrt - exp_val)**r)*pdf\n",
    "cent_moment = integrate(integrand, wrt, risch=True, conds='none').doit()\n",
    "cent_moment = simplify(cent_moment)\n",
    "cent_moment"
   ],
   "metadata": {
    "collapsed": false,
    "pycharm": {
     "name": "#%%\n"
    }
   }
  },
  {
   "cell_type": "markdown",
   "source": [
    "# Calculus"
   ],
   "metadata": {
    "collapsed": false,
    "pycharm": {
     "name": "#%% md\n"
    }
   }
  },
  {
   "cell_type": "markdown",
   "source": [
    "## Derivatives\n",
    "first derivative of f"
   ],
   "metadata": {
    "collapsed": false,
    "pycharm": {
     "name": "#%% md\n"
    }
   }
  },
  {
   "cell_type": "code",
   "execution_count": null,
   "outputs": [],
   "source": [
    "# first derivative of f\n",
    "f = x ** 2 - 2 * x + 1\n",
    "wrt = x\n",
    "\n",
    "diff1 = diff(f, wrt)\n",
    "diff1"
   ],
   "metadata": {
    "collapsed": false,
    "pycharm": {
     "name": "#%%\n"
    }
   }
  },
  {
   "cell_type": "markdown",
   "source": [
    "second derivative of f"
   ],
   "metadata": {
    "collapsed": false,
    "pycharm": {
     "name": "#%% md\n"
    }
   }
  },
  {
   "cell_type": "code",
   "execution_count": null,
   "outputs": [],
   "source": [
    "# second derivative of f\n",
    "wrt = x\n",
    "diff2 = diff(diff1, wrt)\n",
    "diff2"
   ],
   "metadata": {
    "collapsed": false,
    "pycharm": {
     "name": "#%%\n"
    }
   }
  },
  {
   "cell_type": "markdown",
   "source": [
    "## Integral\n",
    "- indefinite integral of f\n",
    "- automatically has the risch algorithm available in case of integration by parts"
   ],
   "metadata": {
    "collapsed": false,
    "pycharm": {
     "name": "#%% md\n"
    }
   }
  },
  {
   "cell_type": "code",
   "execution_count": null,
   "outputs": [],
   "source": [
    "# indefinite integral of f\n",
    "# automatically has the risch algorithm available in case of integration by parts\n",
    "\n",
    "f = x ** 2 - 2 * x + 1\n",
    "wrt = x\n",
    "integrate(f, wrt, conds='none', risch=True).doit()"
   ],
   "metadata": {
    "collapsed": false,
    "pycharm": {
     "name": "#%%\n"
    }
   }
  },
  {
   "cell_type": "markdown",
   "source": [
    "definite integral of f"
   ],
   "metadata": {
    "collapsed": false,
    "pycharm": {
     "name": "#%% md\n"
    }
   }
  },
  {
   "cell_type": "code",
   "execution_count": null,
   "outputs": [],
   "source": [
    "# definite integral of f\n",
    "f = x ** 2 - 2 * x + 1\n",
    "wrt = x\n",
    "lower = 0\n",
    "upper = 10\n",
    "\n",
    "integrate(f, (wrt, lower, upper), conds='none').doit()"
   ],
   "metadata": {
    "collapsed": false,
    "pycharm": {
     "name": "#%%\n"
    }
   }
  },
  {
   "cell_type": "markdown",
   "source": [
    "indefinite integral of the product of two expressions"
   ],
   "metadata": {
    "collapsed": false,
    "pycharm": {
     "name": "#%% md\n"
    }
   }
  },
  {
   "cell_type": "code",
   "execution_count": null,
   "outputs": [],
   "source": [
    "# indefinite integral of the product of two expressions\n",
    "f = theta ** 2\n",
    "g = exp(-theta / x)\n",
    "wrt = theta\n",
    "\n",
    "integrate(f * g, wrt, conds='none', risch=True).doit()"
   ],
   "metadata": {
    "collapsed": false,
    "pycharm": {
     "name": "#%%\n"
    }
   }
  },
  {
   "cell_type": "markdown",
   "source": [
    "definite integral of the product of two expressions"
   ],
   "metadata": {
    "collapsed": false,
    "pycharm": {
     "name": "#%% md\n"
    }
   }
  },
  {
   "cell_type": "code",
   "execution_count": null,
   "outputs": [],
   "source": [
    "# definite integral of the product of two expressions\n",
    "f = theta ** 2\n",
    "g = exp(-theta / (x + 5))\n",
    "\n",
    "wrt = theta\n",
    "lower = 0\n",
    "upper = oo\n",
    "\n",
    "integrate(f * g, (wrt, lower, upper), conds='none').doit()"
   ],
   "metadata": {
    "collapsed": false,
    "pycharm": {
     "name": "#%%\n"
    }
   }
  },
  {
   "cell_type": "markdown",
   "source": [
    "plot if needed"
   ],
   "metadata": {
    "collapsed": false,
    "pycharm": {
     "name": "#%% md\n"
    }
   }
  },
  {
   "cell_type": "code",
   "execution_count": null,
   "outputs": [],
   "source": [
    "# plot if needed\n",
    "\n",
    "plot(f, xlim=(0, 10), ylim=(0, 20), adaptive=False, nb_of_points=500)"
   ],
   "metadata": {
    "collapsed": false,
    "pycharm": {
     "name": "#%%\n"
    }
   }
  },
  {
   "cell_type": "code",
   "execution_count": null,
   "outputs": [],
   "source": [
    "expr = p*(1-2*t)**(-1)\n",
    "expr"
   ],
   "metadata": {
    "collapsed": false,
    "pycharm": {
     "name": "#%%\n"
    }
   }
  },
  {
   "cell_type": "code",
   "execution_count": null,
   "outputs": [],
   "source": [
    "diff(expr)"
   ],
   "metadata": {
    "collapsed": false,
    "pycharm": {
     "name": "#%%\n"
    }
   }
  },
  {
   "cell_type": "code",
   "execution_count": 16,
   "id": "3b37ec97",
   "metadata": {},
   "outputs": [
    {
     "data": {
      "text/latex": [
       "$\\displaystyle \\frac{p}{1 - 2 t}$"
      ],
      "text/plain": [
       "p/(1 - 2*t)"
      ]
     },
     "execution_count": 16,
     "metadata": {},
     "output_type": "execute_result"
    }
   ],
   "source": [
    "expr = p*(1-2*t)**(-1)\n",
    "expr"
   ]
  },
  {
   "cell_type": "code",
   "execution_count": 18,
   "id": "111223f9",
   "metadata": {},
   "outputs": [
    {
     "ename": "ValueError",
     "evalue": "\nSince there is more than one variable in the expression, the\nvariable(s) of differentiation must be supplied to differentiate p/(1\n- 2*t)",
     "output_type": "error",
     "traceback": [
      "\u001B[0;31m---------------------------------------------------------------------------\u001B[0m",
      "\u001B[0;31mValueError\u001B[0m                                Traceback (most recent call last)",
      "Input \u001B[0;32mIn [18]\u001B[0m, in \u001B[0;36m<cell line: 1>\u001B[0;34m()\u001B[0m\n\u001B[0;32m----> 1\u001B[0m \u001B[43mdiff\u001B[49m\u001B[43m(\u001B[49m\u001B[43mexpr\u001B[49m\u001B[43m)\u001B[49m\n",
      "File \u001B[0;32m~/anaconda3/envs/standardenvironment/lib/python3.9/site-packages/sympy/core/function.py:2491\u001B[0m, in \u001B[0;36mdiff\u001B[0;34m(f, *symbols, **kwargs)\u001B[0m\n\u001B[1;32m   2427\u001B[0m \u001B[38;5;124;03m\"\"\"\u001B[39;00m\n\u001B[1;32m   2428\u001B[0m \u001B[38;5;124;03mDifferentiate f with respect to symbols.\u001B[39;00m\n\u001B[1;32m   2429\u001B[0m \n\u001B[0;32m   (...)\u001B[0m\n\u001B[1;32m   2488\u001B[0m \n\u001B[1;32m   2489\u001B[0m \u001B[38;5;124;03m\"\"\"\u001B[39;00m\n\u001B[1;32m   2490\u001B[0m \u001B[38;5;28;01mif\u001B[39;00m \u001B[38;5;28mhasattr\u001B[39m(f, \u001B[38;5;124m'\u001B[39m\u001B[38;5;124mdiff\u001B[39m\u001B[38;5;124m'\u001B[39m):\n\u001B[0;32m-> 2491\u001B[0m     \u001B[38;5;28;01mreturn\u001B[39;00m \u001B[43mf\u001B[49m\u001B[38;5;241;43m.\u001B[39;49m\u001B[43mdiff\u001B[49m\u001B[43m(\u001B[49m\u001B[38;5;241;43m*\u001B[39;49m\u001B[43msymbols\u001B[49m\u001B[43m,\u001B[49m\u001B[43m \u001B[49m\u001B[38;5;241;43m*\u001B[39;49m\u001B[38;5;241;43m*\u001B[39;49m\u001B[43mkwargs\u001B[49m\u001B[43m)\u001B[49m\n\u001B[1;32m   2492\u001B[0m kwargs\u001B[38;5;241m.\u001B[39msetdefault(\u001B[38;5;124m'\u001B[39m\u001B[38;5;124mevaluate\u001B[39m\u001B[38;5;124m'\u001B[39m, \u001B[38;5;28;01mTrue\u001B[39;00m)\n\u001B[1;32m   2493\u001B[0m \u001B[38;5;28;01mreturn\u001B[39;00m _derivative_dispatch(f, \u001B[38;5;241m*\u001B[39msymbols, \u001B[38;5;241m*\u001B[39m\u001B[38;5;241m*\u001B[39mkwargs)\n",
      "File \u001B[0;32m~/anaconda3/envs/standardenvironment/lib/python3.9/site-packages/sympy/core/expr.py:3526\u001B[0m, in \u001B[0;36mExpr.diff\u001B[0;34m(self, *symbols, **assumptions)\u001B[0m\n\u001B[1;32m   3524\u001B[0m \u001B[38;5;28;01mdef\u001B[39;00m \u001B[38;5;21mdiff\u001B[39m(\u001B[38;5;28mself\u001B[39m, \u001B[38;5;241m*\u001B[39msymbols, \u001B[38;5;241m*\u001B[39m\u001B[38;5;241m*\u001B[39massumptions):\n\u001B[1;32m   3525\u001B[0m     assumptions\u001B[38;5;241m.\u001B[39msetdefault(\u001B[38;5;124m\"\u001B[39m\u001B[38;5;124mevaluate\u001B[39m\u001B[38;5;124m\"\u001B[39m, \u001B[38;5;28;01mTrue\u001B[39;00m)\n\u001B[0;32m-> 3526\u001B[0m     \u001B[38;5;28;01mreturn\u001B[39;00m \u001B[43m_derivative_dispatch\u001B[49m\u001B[43m(\u001B[49m\u001B[38;5;28;43mself\u001B[39;49m\u001B[43m,\u001B[49m\u001B[43m \u001B[49m\u001B[38;5;241;43m*\u001B[39;49m\u001B[43msymbols\u001B[49m\u001B[43m,\u001B[49m\u001B[43m \u001B[49m\u001B[38;5;241;43m*\u001B[39;49m\u001B[38;5;241;43m*\u001B[39;49m\u001B[43massumptions\u001B[49m\u001B[43m)\u001B[49m\n",
      "File \u001B[0;32m~/anaconda3/envs/standardenvironment/lib/python3.9/site-packages/sympy/core/function.py:1919\u001B[0m, in \u001B[0;36m_derivative_dispatch\u001B[0;34m(expr, *variables, **kwargs)\u001B[0m\n\u001B[1;32m   1917\u001B[0m     \u001B[38;5;28;01mfrom\u001B[39;00m \u001B[38;5;21;01msympy\u001B[39;00m\u001B[38;5;21;01m.\u001B[39;00m\u001B[38;5;21;01mtensor\u001B[39;00m\u001B[38;5;21;01m.\u001B[39;00m\u001B[38;5;21;01marray\u001B[39;00m\u001B[38;5;21;01m.\u001B[39;00m\u001B[38;5;21;01marray_derivatives\u001B[39;00m \u001B[38;5;28;01mimport\u001B[39;00m ArrayDerivative\n\u001B[1;32m   1918\u001B[0m     \u001B[38;5;28;01mreturn\u001B[39;00m ArrayDerivative(expr, \u001B[38;5;241m*\u001B[39mvariables, \u001B[38;5;241m*\u001B[39m\u001B[38;5;241m*\u001B[39mkwargs)\n\u001B[0;32m-> 1919\u001B[0m \u001B[38;5;28;01mreturn\u001B[39;00m \u001B[43mDerivative\u001B[49m\u001B[43m(\u001B[49m\u001B[43mexpr\u001B[49m\u001B[43m,\u001B[49m\u001B[43m \u001B[49m\u001B[38;5;241;43m*\u001B[39;49m\u001B[43mvariables\u001B[49m\u001B[43m,\u001B[49m\u001B[43m \u001B[49m\u001B[38;5;241;43m*\u001B[39;49m\u001B[38;5;241;43m*\u001B[39;49m\u001B[43mkwargs\u001B[49m\u001B[43m)\u001B[49m\n",
      "File \u001B[0;32m~/anaconda3/envs/standardenvironment/lib/python3.9/site-packages/sympy/core/function.py:1269\u001B[0m, in \u001B[0;36mDerivative.__new__\u001B[0;34m(cls, expr, *variables, **kwargs)\u001B[0m\n\u001B[1;32m   1264\u001B[0m             \u001B[38;5;28;01mraise\u001B[39;00m \u001B[38;5;167;01mValueError\u001B[39;00m(filldedent(\u001B[38;5;124m'''\u001B[39m\n\u001B[1;32m   1265\u001B[0m \u001B[38;5;124m                Since there are no variables in the expression,\u001B[39m\n\u001B[1;32m   1266\u001B[0m \u001B[38;5;124m                the variable(s) of differentiation must be supplied\u001B[39m\n\u001B[1;32m   1267\u001B[0m \u001B[38;5;124m                to differentiate \u001B[39m\u001B[38;5;132;01m%s\u001B[39;00m\u001B[38;5;124m'''\u001B[39m \u001B[38;5;241m%\u001B[39m expr))\n\u001B[1;32m   1268\u001B[0m         \u001B[38;5;28;01melse\u001B[39;00m:\n\u001B[0;32m-> 1269\u001B[0m             \u001B[38;5;28;01mraise\u001B[39;00m \u001B[38;5;167;01mValueError\u001B[39;00m(filldedent(\u001B[38;5;124m'''\u001B[39m\n\u001B[1;32m   1270\u001B[0m \u001B[38;5;124m                Since there is more than one variable in the\u001B[39m\n\u001B[1;32m   1271\u001B[0m \u001B[38;5;124m                expression, the variable(s) of differentiation\u001B[39m\n\u001B[1;32m   1272\u001B[0m \u001B[38;5;124m                must be supplied to differentiate \u001B[39m\u001B[38;5;132;01m%s\u001B[39;00m\u001B[38;5;124m'''\u001B[39m \u001B[38;5;241m%\u001B[39m expr))\n\u001B[1;32m   1274\u001B[0m \u001B[38;5;66;03m# Standardize the variables by sympifying them:\u001B[39;00m\n\u001B[1;32m   1275\u001B[0m variables \u001B[38;5;241m=\u001B[39m \u001B[38;5;28mlist\u001B[39m(sympify(variables))\n",
      "\u001B[0;31mValueError\u001B[0m: \nSince there is more than one variable in the expression, the\nvariable(s) of differentiation must be supplied to differentiate p/(1\n- 2*t)"
     ]
    }
   ],
   "source": [
    "diff(expr)"
   ]
  }
 ],
 "metadata": {
  "kernelspec": {
   "display_name": "Python 3 (ipykernel)",
   "language": "python",
   "name": "python3"
  },
  "language_info": {
   "codemirror_mode": {
    "name": "ipython",
    "version": 3
   },
   "file_extension": ".py",
   "mimetype": "text/x-python",
   "name": "python",
   "nbconvert_exporter": "python",
   "pygments_lexer": "ipython3",
   "version": "3.9.12"
  }
 },
 "nbformat": 4,
 "nbformat_minor": 5
}