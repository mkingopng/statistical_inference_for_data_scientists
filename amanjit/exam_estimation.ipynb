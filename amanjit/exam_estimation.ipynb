{
 "cells": [
  {
   "cell_type": "markdown",
   "id": "2921c772-4a42-4c7b-9f0e-eb4928495f9b",
   "metadata": {
    "pycharm": {
     "name": "#%% md\n"
    },
    "tags": []
   },
   "source": [
    "## Sufficiency and Estimation"
   ]
  },
  {
   "cell_type": "markdown",
   "id": "aac892d9-6d7a-4f49-89b9-557d8e43743c",
   "metadata": {
    "jp-MarkdownHeadingCollapsed": true,
    "pycharm": {
     "name": "#%% md\n"
    },
    "tags": []
   },
   "source": [
    "#### Neyman-Fisher Factorisation Criterion\n",
    "##### Includes likelihood L(X;$\\theta$) for 1 RV and n RVs"
   ]
  },
  {
   "cell_type": "code",
   "execution_count": 95,
   "id": "8693819e-4ebf-4dc5-a429-906176d4028e",
   "metadata": {
    "pycharm": {
     "name": "#%%\n"
    }
   },
   "outputs": [],
   "source": [
    "%reset -f\n",
    "\n",
    "from sympy import *\n",
    "from sympy.stats import *\n",
    "from sympy.functions import *\n",
    "from sympy.integrals import *"
   ]
  },
  {
   "cell_type": "code",
   "execution_count": 96,
   "id": "aefc306c-0733-4182-b7da-3cf3339b543e",
   "metadata": {
    "pycharm": {
     "name": "#%%\n"
    }
   },
   "outputs": [],
   "source": [
    "# Symbols\n",
    "\n",
    "theta = Symbol('theta', positive=True)\n",
    "i = Symbol('i', positive=True, Set=S.Naturals)\n",
    "x = Indexed('x', i) # need indexed variable for summation and product\n",
    "n = Symbol('n', positive=True, Set=S.Naturals)"
   ]
  },
  {
   "cell_type": "code",
   "execution_count": 97,
   "id": "c4450900-4add-40a3-bef7-11bed2b5e02c",
   "metadata": {
    "pycharm": {
     "name": "#%%\n"
    }
   },
   "outputs": [
    {
     "data": {
      "text/latex": [
       "$\\displaystyle \\theta e^{\\left(\\theta - 1\\right) \\log{\\left({x}_{i} \\right)}}$"
      ],
      "text/plain": [
       "theta*exp((theta - 1)*log(x[i]))"
      ]
     },
     "execution_count": 97,
     "metadata": {},
     "output_type": "execute_result"
    }
   ],
   "source": [
    "# likelihood for 1 RV\n",
    "\n",
    "# UNCOMMENT here to use an inbuilt distribution\n",
    "#X = Normal('x', 0, theta)\n",
    "#lhood = simplify(density(X)(x))\n",
    "\n",
    "# UNCOMMENT here to define manually\n",
    "likelihood = theta * exp((theta - 1) * log(x))\n",
    "\n",
    "likelihood"
   ]
  },
  {
   "cell_type": "code",
   "execution_count": 98,
   "id": "1ca97aec-c540-465c-a208-7a05d73776a0",
   "metadata": {
    "pycharm": {
     "name": "#%%\n"
    }
   },
   "outputs": [
    {
     "data": {
      "text/latex": [
       "$\\displaystyle \\theta^{n} \\prod_{i=1}^{n} e^{\\left(\\theta - 1\\right) \\log{\\left({x}_{i} \\right)}}$"
      ],
      "text/plain": [
       "theta**n*Product(exp((theta - 1)*log(x[i])), (i, 1, n))"
      ]
     },
     "execution_count": 98,
     "metadata": {},
     "output_type": "execute_result"
    }
   ],
   "source": [
    "# likelihood for n RVs\n",
    "# then analyse by hand to break into g(T(X),theta) and h(X)\n",
    "\n",
    "likelihood = Product(likelihood, (i, 1, n)).doit()\n",
    "likelihood"
   ]
  },
  {
   "cell_type": "markdown",
   "id": "f768f7c0-c897-4985-a026-f7dcba9241bf",
   "metadata": {
    "jp-MarkdownHeadingCollapsed": true,
    "pycharm": {
     "name": "#%% md\n"
    },
    "tags": []
   },
   "source": [
    "#### Cramer-Rao Lower Bound (CRLB)\n",
    "##### Includes log-likelihood and Fisher"
   ]
  },
  {
   "cell_type": "code",
   "execution_count": 99,
   "id": "7db48493-c934-412c-a60f-c28400b6b036",
   "metadata": {
    "pycharm": {
     "name": "#%%\n"
    }
   },
   "outputs": [],
   "source": [
    "%reset -f\n",
    "\n",
    "from sympy import *\n",
    "from sympy.stats import *"
   ]
  },
  {
   "cell_type": "code",
   "execution_count": 100,
   "id": "e45f8770-a51f-4073-b6ac-94190c130dee",
   "metadata": {
    "pycharm": {
     "name": "#%%\n"
    }
   },
   "outputs": [],
   "source": [
    "# Symbols\n",
    "theta = Symbol('theta', positive=True)\n",
    "x = Symbol('x')\n",
    "n = Symbol('n', positive=True)"
   ]
  },
  {
   "cell_type": "code",
   "execution_count": 101,
   "id": "5034fc3a-918a-4c49-a3a2-d01f873f1bd7",
   "metadata": {
    "pycharm": {
     "name": "#%%\n"
    }
   },
   "outputs": [
    {
     "data": {
      "text/latex": [
       "$\\displaystyle \\theta^{x} \\left(1 - \\theta\\right)^{1 - x}$"
      ],
      "text/plain": [
       "theta**x*(1 - theta)**(1 - x)"
      ]
     },
     "execution_count": 101,
     "metadata": {},
     "output_type": "execute_result"
    }
   ],
   "source": [
    "# likelihood\n",
    "\n",
    "# UNCOMMENT here to use an inbuilt distribution\n",
    "#X = Normal('x', 0, theta)\n",
    "#lhood = simplify(density(X)(x))\n",
    "\n",
    "# UNCOMMENT here to define manually\n",
    "likelihood = theta ** x * (1 - theta) ** (1 - x)\n",
    "\n",
    "likelihood"
   ]
  },
  {
   "cell_type": "code",
   "execution_count": 102,
   "id": "069e0767-1cc5-4a79-a3bc-b5d141ac10d9",
   "metadata": {
    "pycharm": {
     "name": "#%%\n"
    }
   },
   "outputs": [
    {
     "data": {
      "text/latex": [
       "$\\displaystyle x \\log{\\left(\\theta \\right)} + \\left(1 - x\\right) \\log{\\left(1 - \\theta \\right)}$"
      ],
      "text/plain": [
       "x*log(theta) + (1 - x)*log(1 - theta)"
      ]
     },
     "execution_count": 102,
     "metadata": {},
     "output_type": "execute_result"
    }
   ],
   "source": [
    "# log likelihood\n",
    "\n",
    "log_likelihood = expand_log(log(likelihood), force=True)\n",
    "log_likelihood"
   ]
  },
  {
   "cell_type": "code",
   "execution_count": 103,
   "id": "e318b2b6-deaf-4c26-9aa2-9661f1c1d04d",
   "metadata": {
    "pycharm": {
     "name": "#%%\n"
    }
   },
   "outputs": [
    {
     "data": {
      "text/latex": [
       "$\\displaystyle - \\frac{1 - x}{1 - \\theta} + \\frac{x}{\\theta}$"
      ],
      "text/plain": [
       "-(1 - x)/(1 - theta) + x/theta"
      ]
     },
     "execution_count": 103,
     "metadata": {},
     "output_type": "execute_result"
    }
   ],
   "source": [
    "# first derivative of logl wrt theta\n",
    "\n",
    "diff1 = diff(log_likelihood, theta)\n",
    "diff1"
   ]
  },
  {
   "cell_type": "code",
   "execution_count": 104,
   "id": "3deb720e-4cd9-4dd6-ba23-05d07ffe533a",
   "metadata": {
    "pycharm": {
     "name": "#%%\n"
    }
   },
   "outputs": [
    {
     "data": {
      "text/latex": [
       "$\\displaystyle - \\frac{1 - x}{\\left(1 - \\theta\\right)^{2}} - \\frac{x}{\\theta^{2}}$"
      ],
      "text/plain": [
       "-(1 - x)/(1 - theta)**2 - x/theta**2"
      ]
     },
     "execution_count": 104,
     "metadata": {},
     "output_type": "execute_result"
    }
   ],
   "source": [
    "# second derivative of logl wrt theta\n",
    "\n",
    "diff2 = diff(diff1, theta)\n",
    "diff2"
   ]
  },
  {
   "cell_type": "code",
   "execution_count": 105,
   "id": "d913b643-f9b7-421e-9fdf-14b5cf1cdf7b",
   "metadata": {
    "pycharm": {
     "name": "#%%\n"
    }
   },
   "outputs": [
    {
     "data": {
      "text/latex": [
       "$\\displaystyle - \\frac{1}{\\theta \\left(\\theta - 1\\right)}$"
      ],
      "text/plain": [
       "-1/(theta*(theta - 1))"
      ]
     },
     "execution_count": 105,
     "metadata": {},
     "output_type": "execute_result"
    }
   ],
   "source": [
    "# Fisher information I(theta) 1 RV\n",
    "# for n iids, just multiply by n\n",
    "# sub theta into x and simplify\n",
    "\n",
    "fisher = -simplify(diff2.subs(x, theta))\n",
    "fisher"
   ]
  },
  {
   "cell_type": "code",
   "execution_count": 106,
   "id": "7aaaa49a-e5ca-41e5-8448-a717701f4bb5",
   "metadata": {
    "pycharm": {
     "name": "#%%\n"
    }
   },
   "outputs": [
    {
     "data": {
      "text/latex": [
       "$\\displaystyle - \\frac{4 \\theta^{3} \\left(\\theta - 1\\right)}{n}$"
      ],
      "text/plain": [
       "-4*theta**3*(theta - 1)/n"
      ]
     },
     "execution_count": 106,
     "metadata": {},
     "output_type": "execute_result"
    }
   ],
   "source": [
    "# CRLB\n",
    "\n",
    "# function of theta\n",
    "tau = theta**2\n",
    "\n",
    "crlb = diff(tau, theta)**2 / (n*fisher)\n",
    "crlb"
   ]
  },
  {
   "cell_type": "markdown",
   "id": "ccaf2f64-d1bd-47b0-a5f6-f3f599b1b3c1",
   "metadata": {
    "jp-MarkdownHeadingCollapsed": true,
    "pycharm": {
     "name": "#%% md\n"
    },
    "tags": []
   },
   "source": [
    "#### Score and CRLB Attainability\n",
    "##### Includes score for 1 RV and n RVs"
   ]
  },
  {
   "cell_type": "code",
   "execution_count": 107,
   "id": "b9a49c8a-e182-49fd-bff2-c8f4629d7439",
   "metadata": {
    "pycharm": {
     "name": "#%%\n"
    }
   },
   "outputs": [],
   "source": [
    "%reset -f\n",
    "\n",
    "from sympy import *\n",
    "from sympy.stats import *\n",
    "from sympy.functions.combinatorial.numbers import *"
   ]
  },
  {
   "cell_type": "code",
   "execution_count": 108,
   "id": "347c754b-aede-4399-92c5-d3cfe120131a",
   "metadata": {
    "pycharm": {
     "name": "#%%\n"
    }
   },
   "outputs": [],
   "source": [
    "# Symbols\n",
    "theta = Symbol('theta', positive=True)\n",
    "x = Symbol('x')\n",
    "n = Symbol('n', positive=True)"
   ]
  },
  {
   "cell_type": "code",
   "execution_count": 109,
   "id": "d6c1a071-c6e9-4a35-b560-1db53ea702c5",
   "metadata": {
    "pycharm": {
     "name": "#%%\n"
    }
   },
   "outputs": [
    {
     "data": {
      "text/latex": [
       "$\\displaystyle \\theta e^{\\left(\\theta - 1\\right) \\log{\\left(x \\right)}}$"
      ],
      "text/plain": [
       "theta*exp((theta - 1)*log(x))"
      ]
     },
     "execution_count": 109,
     "metadata": {},
     "output_type": "execute_result"
    }
   ],
   "source": [
    "# likelihood\n",
    "# UNCOMMENT here to use an inbuilt distribution\n",
    "# X = Normal('x', 0, theta)\n",
    "# lhood = simplify(density(X)(x))\n",
    "\n",
    "# UNCOMMENT here to define manually\n",
    "likelihood = theta * exp((theta - 1) * log(x))\n",
    "likelihood"
   ]
  },
  {
   "cell_type": "code",
   "execution_count": 110,
   "id": "d32bd737-f137-4139-96c2-2ebfce7e6944",
   "metadata": {
    "pycharm": {
     "name": "#%%\n"
    }
   },
   "outputs": [
    {
     "data": {
      "text/latex": [
       "$\\displaystyle \\left(\\theta - 1\\right) \\log{\\left(x \\right)} + \\log{\\left(\\theta \\right)}$"
      ],
      "text/plain": [
       "(theta - 1)*log(x) + log(theta)"
      ]
     },
     "execution_count": 110,
     "metadata": {},
     "output_type": "execute_result"
    }
   ],
   "source": [
    "# log likelihood\n",
    "\n",
    "log_likelihood = expand_log(log(likelihood), force=True)\n",
    "log_likelihood"
   ]
  },
  {
   "cell_type": "code",
   "execution_count": 111,
   "id": "780676a9-fed3-4c80-bcfc-aa971c380b36",
   "metadata": {
    "pycharm": {
     "name": "#%%\n"
    }
   },
   "outputs": [
    {
     "data": {
      "text/latex": [
       "$\\displaystyle \\log{\\left(x \\right)} + \\frac{1}{\\theta}$"
      ],
      "text/plain": [
       "log(x) + 1/theta"
      ]
     },
     "execution_count": 111,
     "metadata": {},
     "output_type": "execute_result"
    }
   ],
   "source": [
    "# score for 1 RV\n",
    "# first derivative of logl wrt theta\n",
    "\n",
    "score = diff(log_likelihood, theta)\n",
    "score"
   ]
  },
  {
   "cell_type": "code",
   "execution_count": 112,
   "id": "23ca8606-1021-456e-9a11-bb016e9d4bfc",
   "metadata": {
    "pycharm": {
     "name": "#%%\n"
    }
   },
   "outputs": [
    {
     "data": {
      "text/latex": [
       "$\\displaystyle \\frac{n}{\\theta} + \\sum_{i=1}^{n} \\log{\\left({x}_{i} \\right)}$"
      ],
      "text/plain": [
       "n/theta + Sum(log(x[i]), (i, 1, n))"
      ]
     },
     "execution_count": 112,
     "metadata": {},
     "output_type": "execute_result"
    }
   ],
   "source": [
    "# score for n RVs\n",
    "i = Symbol('i')\n",
    "xi = Indexed('x', i) # need indexed variable for summation and product\n",
    "\n",
    "score = score.subs(x, xi)\n",
    "sum_x = Sum(score, (i, 1, n))\n",
    "sum_x = simplify(sum_x).doit()\n",
    "score = ratsimp(sum_x).doit()\n",
    "score"
   ]
  },
  {
   "cell_type": "markdown",
   "id": "d945d4d6-90a7-41f8-9c47-3975f7e9ce50",
   "metadata": {
    "pycharm": {
     "name": "#%% md\n"
    },
    "tags": []
   },
   "source": [
    "#### Maximum Likelihood Estimator (MLE)\n",
    "##### Takes derivative of log-likelihood and solves for parameter to yield statistic"
   ]
  },
  {
   "cell_type": "code",
   "execution_count": 113,
   "id": "e0b77c30-d342-463e-b8b0-8ac4dbbc74fe",
   "metadata": {
    "pycharm": {
     "name": "#%%\n"
    }
   },
   "outputs": [],
   "source": [
    "%reset -f\n",
    "\n",
    "from sympy import *\n",
    "from sympy.stats import *\n",
    "from sympy.functions.combinatorial.numbers import *"
   ]
  },
  {
   "cell_type": "code",
   "execution_count": 114,
   "id": "c0e55629-90be-4f1d-86e3-87c5ee385237",
   "metadata": {
    "pycharm": {
     "name": "#%%\n"
    }
   },
   "outputs": [],
   "source": [
    "# Symbols\n",
    "\n",
    "theta = Symbol('theta', positive=True)\n",
    "i = Symbol('i', positive=True, Set=S.Naturals)\n",
    "x = Indexed('x', i) # need indexed variable for summation and product\n",
    "n = Symbol('n', positive=True, Set=S.Naturals)"
   ]
  },
  {
   "cell_type": "code",
   "execution_count": 115,
   "id": "55677354-bb1b-4207-973c-410b17f86ae0",
   "metadata": {
    "pycharm": {
     "name": "#%%\n"
    }
   },
   "outputs": [
    {
     "data": {
      "text/latex": [
       "$\\displaystyle \\frac{\\sqrt{2} \\theta e^{- \\frac{\\theta^{2} {x}_{i}^{2}}{2}}}{2 \\sqrt{\\pi}}$"
      ],
      "text/plain": [
       "sqrt(2)*theta*exp(-theta**2*x[i]**2/2)/(2*sqrt(pi))"
      ]
     },
     "execution_count": 115,
     "metadata": {},
     "output_type": "execute_result"
    }
   ],
   "source": [
    "# likelihood for 1 RV\n",
    "# UNCOMMENT here to use an inbuilt distribution\n",
    "X = Normal('x',0, 1/theta)\n",
    "likelihood = simplify(density(X)(x))\n",
    "# UNCOMMENT here to define manually\n",
    "# lhood = sqrt(theta/(2*pi))*exp(-(theta*x**2)/2)\n",
    "likelihood"
   ]
  },
  {
   "cell_type": "code",
   "execution_count": 116,
   "id": "9667a352-ff79-4f68-bcf5-d8114037bce1",
   "metadata": {
    "pycharm": {
     "name": "#%%\n"
    }
   },
   "outputs": [
    {
     "data": {
      "text/latex": [
       "$\\displaystyle \\left(\\frac{\\sqrt{2} \\theta}{2 \\sqrt{\\pi}}\\right)^{n} \\prod_{i=1}^{n} e^{- \\frac{\\theta^{2} {x}_{i}^{2}}{2}}$"
      ],
      "text/plain": [
       "(sqrt(2)*theta/(2*sqrt(pi)))**n*Product(exp(-theta**2*x[i]**2/2), (i, 1, n))"
      ]
     },
     "execution_count": 116,
     "metadata": {},
     "output_type": "execute_result"
    }
   ],
   "source": [
    "# likelihood for n RVs\n",
    "likelihood = Product(likelihood, (i, 1, n)).doit()\n",
    "likelihood"
   ]
  },
  {
   "cell_type": "code",
   "execution_count": 117,
   "id": "b463554c-4605-40d8-96a2-264b762eb847",
   "metadata": {
    "pycharm": {
     "name": "#%%\n"
    }
   },
   "outputs": [
    {
     "data": {
      "text/latex": [
       "$\\displaystyle n \\log{\\left(\\theta \\right)} - \\frac{n \\log{\\left(\\pi \\right)}}{2} - \\frac{n \\log{\\left(2 \\right)}}{2} + \\sum_{i=1}^{n} - \\frac{\\theta^{2} {x}_{i}^{2}}{2}$"
      ],
      "text/plain": [
       "n*log(theta) - n*log(pi)/2 - n*log(2)/2 + Sum(-theta**2*x[i]**2/2, (i, 1, n))"
      ]
     },
     "execution_count": 117,
     "metadata": {},
     "output_type": "execute_result"
    }
   ],
   "source": [
    "# log likelihood\n",
    "\n",
    "# either do expand() or expand_log() here\n",
    "log_likelihood = expand(log(likelihood), force=True)\n",
    "log_likelihood"
   ]
  },
  {
   "cell_type": "code",
   "execution_count": 118,
   "id": "8d167dc2-043d-4bc4-a53d-90a373dddf96",
   "metadata": {
    "pycharm": {
     "name": "#%%\n"
    }
   },
   "outputs": [
    {
     "data": {
      "text/latex": [
       "$\\displaystyle \\frac{n}{\\theta} - \\theta \\sum_{i=1}^{n} {x}_{i}^{2}$"
      ],
      "text/plain": [
       "n/theta - theta*Sum(x[i]**2, (i, 1, n))"
      ]
     },
     "execution_count": 118,
     "metadata": {},
     "output_type": "execute_result"
    }
   ],
   "source": [
    "# derivative of logl\n",
    "diff1 = simplify(diff(log_likelihood, theta))\n",
    "diff1"
   ]
  },
  {
   "cell_type": "code",
   "execution_count": 119,
   "id": "8cb5ac40-c385-4780-bc3a-636ef0613b83",
   "metadata": {
    "pycharm": {
     "name": "#%%\n"
    }
   },
   "outputs": [
    {
     "name": "stdout",
     "output_type": "stream",
     "text": [
      "⎡               _____________                _____________⎤\n",
      "⎢              ╱      1                     ╱      1      ⎥\n",
      "⎢-√n⋅         ╱  ─────────── , √n⋅         ╱  ─────────── ⎥\n",
      "⎢            ╱     n                      ╱     n         ⎥\n",
      "⎢           ╱     ___                    ╱     ___        ⎥\n",
      "⎢          ╱      ╲                     ╱      ╲          ⎥\n",
      "⎢         ╱        ╲       2           ╱        ╲       2 ⎥\n",
      "⎢        ╱         ╱   x[i]           ╱         ╱   x[i]  ⎥\n",
      "⎢       ╱         ╱                  ╱         ╱          ⎥\n",
      "⎢      ╱          ‾‾‾               ╱          ‾‾‾        ⎥\n",
      "⎣    ╲╱          i = 1            ╲╱          i = 1       ⎦\n"
     ]
    }
   ],
   "source": [
    "# set derivative to zero, then solve for theta to identify MLE\n",
    "mle = solve(diff1, theta)\n",
    "pprint(mle)\n",
    "# mle"
   ]
  },
  {
   "cell_type": "markdown",
   "id": "792fa746-24e5-4f17-961c-0793111d5530",
   "metadata": {
    "pycharm": {
     "name": "#%% md\n"
    },
    "tags": []
   },
   "source": [
    "#### Monotone Likelihood Ratio (MLR) Test"
   ]
  },
  {
   "cell_type": "code",
   "execution_count": 120,
   "id": "9ee701da-7cac-47b1-a192-37a9580cb4e2",
   "metadata": {
    "pycharm": {
     "name": "#%%\n"
    }
   },
   "outputs": [],
   "source": [
    "%reset -f\n",
    "\n",
    "from sympy import *\n",
    "from sympy.stats import *\n",
    "from sympy.functions.combinatorial.numbers import *"
   ]
  },
  {
   "cell_type": "code",
   "execution_count": 121,
   "id": "3a9ffb3a-8fd7-4ab4-8ad1-fa400e531c08",
   "metadata": {
    "pycharm": {
     "name": "#%%\n"
    }
   },
   "outputs": [],
   "source": [
    "# Symbols\n",
    "theta = Symbol('theta', positive=True)\n",
    "i = Symbol('i', positive=True, Set=S.Naturals)\n",
    "x = Indexed('x', i) # need indexed variable for summation and product\n",
    "n = Symbol('n', positive=True, Set=S.Naturals)\n",
    "t1 = Symbol('theta1')\n",
    "t2 = Symbol('theta2')"
   ]
  },
  {
   "cell_type": "code",
   "execution_count": 122,
   "id": "770c9626-ea29-4f43-ba97-b1c8f4071e3a",
   "metadata": {
    "pycharm": {
     "name": "#%%\n"
    }
   },
   "outputs": [
    {
     "data": {
      "text/latex": [
       "$\\displaystyle \\frac{\\sqrt{2} e^{- \\frac{\\left(\\theta - {x}_{i}\\right)^{2}}{8}}}{4 \\sqrt{\\pi}}$"
      ],
      "text/plain": [
       "sqrt(2)*exp(-(theta - x[i])**2/8)/(4*sqrt(pi))"
      ]
     },
     "execution_count": 122,
     "metadata": {},
     "output_type": "execute_result"
    }
   ],
   "source": [
    "# likelihood for 1 RV\n",
    "# UNCOMMENT here to use density function from an inbuilt distribution\n",
    "X = Normal('x', theta, 2)\n",
    "likelihood = simplify(density(X)(x))\n",
    "\n",
    "# UNCOMMENT here to define manually\n",
    "# lhood = theta*exp((theta-1)*log(x))\n",
    "\n",
    "likelihood"
   ]
  },
  {
   "cell_type": "code",
   "execution_count": 123,
   "id": "6b312066-d1a5-4a4d-9ea2-b1d2784b92f0",
   "metadata": {
    "pycharm": {
     "name": "#%%\n"
    }
   },
   "outputs": [
    {
     "data": {
      "text/latex": [
       "$\\displaystyle \\left(\\frac{\\sqrt{2}}{4 \\sqrt{\\pi}}\\right)^{n} \\prod_{i=1}^{n} e^{- \\frac{\\left(\\theta - {x}_{i}\\right)^{2}}{8}}$"
      ],
      "text/plain": [
       "(sqrt(2)/(4*sqrt(pi)))**n*Product(exp(-(theta - x[i])**2/8), (i, 1, n))"
      ]
     },
     "execution_count": 123,
     "metadata": {},
     "output_type": "execute_result"
    }
   ],
   "source": [
    "# likelihood for n RVs\n",
    "likelihood = Product(likelihood, (i, 1, n)).doit()\n",
    "likelihood"
   ]
  },
  {
   "cell_type": "code",
   "execution_count": 124,
   "id": "26b609f6-264f-4e4f-8239-8195eb82e68d",
   "metadata": {
    "pycharm": {
     "name": "#%%\n"
    }
   },
   "outputs": [
    {
     "name": "stdout",
     "output_type": "stream",
     "text": [
      "             n                     \n",
      "        ─┬───────┬─                \n",
      "      n  │       │               2 \n",
      "⎛ √2 ⎞   │       │   -(θ₁ - x[i])  \n",
      "⎜────⎟ ⋅ │       │   ──────────────\n",
      "⎝4⋅√π⎠   │       │         8       \n",
      "         │       │  ℯ              \n",
      "         │       │                 \n",
      "           i = 1                   \n",
      "             n                     \n",
      "        ─┬───────┬─                \n",
      "      n  │       │               2 \n",
      "⎛ √2 ⎞   │       │   -(θ₂ - x[i])  \n",
      "⎜────⎟ ⋅ │       │   ──────────────\n",
      "⎝4⋅√π⎠   │       │         8       \n",
      "         │       │  ℯ              \n",
      "         │       │                 \n",
      "           i = 1                   \n"
     ]
    }
   ],
   "source": [
    "# sub in t1 and t2\n",
    "lhood1 = likelihood.subs(theta, t1)\n",
    "lhood2 = likelihood.subs(theta, t2)\n",
    "pprint(lhood1)\n",
    "pprint(lhood2)"
   ]
  },
  {
   "cell_type": "code",
   "execution_count": 125,
   "id": "617484bd-554f-4bbd-92d7-34f23d141e3b",
   "metadata": {
    "pycharm": {
     "name": "#%%\n"
    }
   },
   "outputs": [
    {
     "data": {
      "text/latex": [
       "$\\displaystyle \\frac{\\prod_{i=1}^{n} e^{- \\frac{\\left(\\theta_{2} - {x}_{i}\\right)^{2}}{8}}}{\\prod_{i=1}^{n} e^{- \\frac{\\left(\\theta_{1} - {x}_{i}\\right)^{2}}{8}}}$"
      ],
      "text/plain": [
       "Product(exp(-(theta2 - x[i])**2/8), (i, 1, n))/Product(exp(-(theta1 - x[i])**2/8), (i, 1, n))"
      ]
     },
     "execution_count": 125,
     "metadata": {},
     "output_type": "execute_result"
    }
   ],
   "source": [
    "# do the ratio\n",
    "# then assess, by hand, whether it's increasing wrt T\n",
    "\n",
    "# can do simplify() or powsimp()\n",
    "powsimp(lhood2/lhood1, force=True)"
   ]
  }
 ],
 "metadata": {
  "kernelspec": {
   "display_name": "Python 3 (ipykernel)",
   "language": "python",
   "name": "python3"
  },
  "language_info": {
   "codemirror_mode": {
    "name": "ipython",
    "version": 3
   },
   "file_extension": ".py",
   "mimetype": "text/x-python",
   "name": "python",
   "nbconvert_exporter": "python",
   "pygments_lexer": "ipython3",
   "version": "3.9.12"
  }
 },
 "nbformat": 4,
 "nbformat_minor": 5
}