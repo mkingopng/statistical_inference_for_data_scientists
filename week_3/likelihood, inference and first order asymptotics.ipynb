{
 "cells": [
  {
   "cell_type": "markdown",
   "id": "d2710c1e",
   "metadata": {},
   "source": [
    "**Regular Case**"
   ]
  },
  {
   "cell_type": "markdown",
   "id": "251a744b",
   "metadata": {},
   "source": [
    "Let $X \\sim \\text{ Poisson }(\\lambda)$, where parameter $\\lambda > 0$ and pmf\n",
    "\n",
    "$$f(x,\\lambda) = \\dfrac{\\lambda^x e^{-\\lambda}}{x!}, x \\in \\{\\ 0, 1, 2,...\\}\\$$\n",
    "\n",
    "let $(X_1,...,X_n)$ denote a size *n* random sample drawn on $X$. Derive $\\hat{\\lambda}$ the MLE of $\\lambda$"
   ]
  },
  {
   "cell_type": "markdown",
   "id": "4e7f4bde",
   "metadata": {},
   "source": [
    "**solution**\n",
    "\n",
    "First we compute the likelihood as follows:\n",
    "\n",
    "$$\n",
    "\\begin{aligned} L(X, \\lambda) &= \\prod_{i=1}^{n} f(x_i, \\lambda) \\\\\n",
    "&= \\prod_{i=1}^{n} \\dfrac{\\lambda^{x_i}x^{-\\lambda}}{x_i!} \\\\\n",
    "&= \\dfrac{\\lambda^{\\sum_{i=1}^{n}x_i}e^{-n\\lambda}}{\\prod_{i=1}^n x_i!} \\\\\n",
    "\\end{aligned}$$\n",
    "\n",
    "and the log-likelihood as\n",
    "\n",
    "$$$$\n",
    "\n",
    "therefore the score function is \n",
    "\n",
    "$$$$\n",
    "\n",
    "Then set the score to zero to obtain the MLE:\n",
    "\n",
    "$$$$\n",
    "\n",
    "we should check that this is a maximum stationary point by checking that second derivative evaluated as $\\hat{\\lambda}$ is less than zero\n",
    "\n",
    "$$\\dfrac{\\partial^2}{\\partial \\lambda^2} \\log L (X, \\hat{\\lambda}) = - \\dfrac{\\sum_{i=1}^n X_i}{\\lambda^2} < 0$$"
   ]
  },
  {
   "cell_type": "code",
   "execution_count": null,
   "id": "637b83be",
   "metadata": {},
   "outputs": [],
   "source": []
  },
  {
   "cell_type": "markdown",
   "id": "339fee28",
   "metadata": {},
   "source": [
    "**irregular case**"
   ]
  },
  {
   "cell_type": "markdown",
   "id": "566a33b0",
   "metadata": {},
   "source": [
    "Let $X_1, X_2, ..., X_n$ be a sample from the density\n",
    "\n",
    "$$f(x; \\theta) = \\theta x^{-2}I_{\\theta, \\infty} (x)$$\n",
    "\n",
    "where $\\theta > 0$. Find the MLE of $\\theta$"
   ]
  },
  {
   "cell_type": "markdown",
   "id": "e7a3b954",
   "metadata": {},
   "source": [
    "**solution**\n",
    "\n",
    "the likelihood function is \n",
    "\n",
    "$$L(X;\\theta) = \\theta^n \\prod_{i=1}^n X_i^{-2}I_{[\\theta, \\infty)}(x_{(1)})$$\n",
    "\n",
    "Note that now the **smallest** of the n observations $(x_{(1)})$ comes into play. Indeed, since now $\\theta$ is on the left hand side end of the support, we need all observations to be not smaller than $\\theta$, which logically implies that even the smallest of them should be not smaller than $\\theta$.\n",
    "\n",
    "We consider $L$ as a function of $\\theta$ after the sample has been substituted. When $\\theta$ moves on the positive half-axis, this function first grows monotonically (when $\\theta$ moves between 0 and $x_{(i)}$) and then drops to zero onward since the indicator becomes equal to zero. Hence $L$ is a discontinuous function of $\\theta$ and its maximum likelihood is attained at $X_{(1)}$. This means that $\\hat{\\theta}_{mle} = X_{(1)}$."
   ]
  },
  {
   "cell_type": "code",
   "execution_count": null,
   "id": "b7206251",
   "metadata": {},
   "outputs": [],
   "source": []
  }
 ],
 "metadata": {
  "kernelspec": {
   "display_name": "Python 3 (ipykernel)",
   "language": "python",
   "name": "python3"
  },
  "language_info": {
   "codemirror_mode": {
    "name": "ipython",
    "version": 3
   },
   "file_extension": ".py",
   "mimetype": "text/x-python",
   "name": "python",
   "nbconvert_exporter": "python",
   "pygments_lexer": "ipython3",
   "version": "3.9.12"
  }
 },
 "nbformat": 4,
 "nbformat_minor": 5
}
