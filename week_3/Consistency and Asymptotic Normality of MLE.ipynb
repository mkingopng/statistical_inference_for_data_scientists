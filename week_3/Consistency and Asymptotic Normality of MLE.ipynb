{
 "cells": [
  {
   "cell_type": "markdown",
   "id": "17f74149",
   "metadata": {
    "pycharm": {
     "name": "#%% md\n"
    }
   },
   "source": [
    "### MLE of the transformed parameter\n",
    "Let $X_1, X_2,...X_n$ be a sample from the density function:\n",
    "\n",
    "$$f(x; \\theta) = \\theta X^{\\theta - 1} I_{0,1}(x)$$\n",
    "\n",
    "where $\\theta > 0$\n",
    "\n",
    "**question 1**\n",
    "\n",
    "Find the MLE of $\\tau(\\theta) = \\dfrac{\\theta}{1+\\theta}$"
   ]
  },
  {
   "cell_type": "markdown",
   "id": "7f9928c6",
   "metadata": {
    "pycharm": {
     "name": "#%% md\n"
    }
   },
   "source": [
    "**solution**\n",
    "\n",
    "The likelihood function is \n",
    "\n",
    "$$L(X;\\theta) = \\theta^n \\bigg( \\prod_{i=1}^{n} x_i \\bigg)^{\\theta - 1}$$\n",
    "\n",
    "its logarithm is:\n",
    "\n",
    "$$\\ln L (X;\\theta) = n \\ln \\theta + (\\theta - 1) \\sum_{i=1}^{n} \\ln x_i$$\n",
    "\n",
    "Consequently\n",
    "\n",
    "$$\\dfrac{\\partial}{\\partial \\theta} \\ln L = \\dfrac{n}{\\theta} + \\sum_{i=1}^{n} \\ln x_i = 0$$\n",
    "\n",
    "gives the root\n",
    "\n",
    "$$\\hat{\\theta} = \\hat{\\theta_{mle}} = \\dfrac{-n}{\\sum_{i=1}^{n} \\ln x_i}$$\n",
    "\n",
    "Then, using the transation invariance property, we get\n",
    "\n",
    "$$\\tau(\\hat{\\theta}) = \\dfrac{\\hat{\\theta}}{\\hat{\\theta}+1}$$"
   ]
  },
  {
   "cell_type": "code",
   "execution_count": null,
   "id": "de60f92c",
   "metadata": {
    "pycharm": {
     "name": "#%%\n"
    }
   },
   "outputs": [],
   "source": []
  },
  {
   "cell_type": "markdown",
   "id": "0ccaa12e",
   "metadata": {
    "pycharm": {
     "name": "#%% md\n"
    }
   },
   "source": [
    "**Question 2**\n",
    "\n",
    "state the asymptotic distribution of the MLE of $\\tau(\\theta)$ in question 1"
   ]
  },
  {
   "cell_type": "markdown",
   "id": "e2bd72c7",
   "metadata": {
    "pycharm": {
     "name": "#%% md\n"
    }
   },
   "source": [
    "**solution**\n",
    "\n",
    "The delta method states that\n",
    "\n",
    "$$\\sqrt{n} (\\hat{\\theta}-\\theta) \\to^d N \\bigg( 0, \\dfrac{1}{I_{X_1} (\\theta)} \\bigg)$$\n",
    "\n",
    "we need to find $I_{X_1} (\\theta)$. To this end we take:\n",
    "\n",
    "$$\\ln f(x; \\theta) = \\ln \\theta + (\\theta - 1) \\ln x$$\n",
    "\n",
    "$$\\dfrac{\\partial}{\\partial \\theta} \\ln(x;\\theta) = \\dfrac{1}{\\theta} + \\ln x$$\n",
    "\n",
    "$$\\dfrac{\\partial^2}{\\partial \\theta^2} \\ln f(x; \\theta) = -\\dfrac{1}{\\theta^2}$$\n",
    "\n",
    "this means that \n",
    "\n",
    "$$I_{X_1}(\\theta) = \\dfrac{1}{\\theta^2}$$\n",
    "\n",
    "and \n",
    "\n",
    "$$\\sqrt{n}(\\hat{\\theta} - \\theta) = \\dfrac{1}{\\theta^2}$$\n",
    "\n",
    "and\n",
    "\n",
    "$$\\sqrt{n} (\\hat{\\theta} - \\theta) \\to^d N(0,\\theta^2)$$\n",
    "\n",
    "since $\\tau (\\theta) = \\dfrac{\\theta}{\\theta - 1}$ by applying the delta method we get:\n",
    "\n",
    "$$\\sqrt{n} (\\hat{\\tau} - \\tau) \\to^d N \\bigg(0, \\dfrac{\\theta^2}{1 + \\theta)^4} \\bigg)$$"
   ]
  },
  {
   "cell_type": "code",
   "execution_count": null,
   "id": "1ede8773",
   "metadata": {
    "pycharm": {
     "name": "#%%\n"
    }
   },
   "outputs": [],
   "source": []
  },
  {
   "cell_type": "markdown",
   "id": "dbfc7386",
   "metadata": {
    "pycharm": {
     "name": "#%% md\n"
    }
   },
   "source": [
    "# MLE of the Transformed Parameter\n",
    "\n",
    "**question 1**: consider *n* iid observations for a Poisson ($\\lambda$) distribution. Suppose the parameter of interest is $\\tau(\\lambda) = \\dfrac{1}{\\lambda}$"
   ]
  },
  {
   "cell_type": "markdown",
   "id": "90aaf87d",
   "metadata": {
    "pycharm": {
     "name": "#%% md\n"
    }
   },
   "source": [
    "**solution**: \n",
    "\n",
    "the MLE of $\\lambda$ is $\\bar{X}$ hence of $\\tau(\\lambda) = \\dfrac{1}{\\lambda}$ would be $\\hat{\\tau} = \\dfrac{1}{X}$ by the transformation invariance property of the MLE."
   ]
  },
  {
   "cell_type": "code",
   "execution_count": null,
   "id": "3172306f",
   "metadata": {
    "pycharm": {
     "name": "#%%\n"
    }
   },
   "outputs": [],
   "source": []
  },
  {
   "cell_type": "markdown",
   "id": "1c92256e",
   "metadata": {
    "pycharm": {
     "name": "#%% md\n"
    }
   },
   "source": [
    "**question 2**: what is its variance?"
   ]
  },
  {
   "cell_type": "markdown",
   "id": "1be4443a",
   "metadata": {
    "pycharm": {
     "name": "#%% md\n"
    }
   },
   "source": [
    "**solution**\n",
    "\n",
    "Since $P(\\bar{X} = 0) > 0$ we get that even the first moment is infinite (not to mention the second) and there is no finite variance"
   ]
  },
  {
   "cell_type": "code",
   "execution_count": null,
   "id": "bca0fb76",
   "metadata": {
    "pycharm": {
     "name": "#%%\n"
    }
   },
   "outputs": [],
   "source": []
  },
  {
   "cell_type": "markdown",
   "id": "48b14fe6",
   "metadata": {
    "pycharm": {
     "name": "#%% md\n"
    }
   },
   "source": [
    "**question 3**: what is its asymptotic variance?"
   ]
  },
  {
   "cell_type": "markdown",
   "id": "3ad47006",
   "metadata": {
    "pycharm": {
     "name": "#%% md\n"
    }
   },
   "source": [
    "**solution**\n",
    "\n",
    "the delta method gives us:\n",
    "\n",
    "$$\\sqrt{n} \\bigg( \\dfrac{1}{\\bar{X}} - \\dfrac{1}{\\lambda} \\bigg) \\to^d N \\bigg(0, \\dfrac{1}{\\lambda^4}I_{X_1}^{-1}(\\lambda) \\bigg)$$\n",
    "\n",
    "Since in our case $h(\\lambda) = \\dfrac{1}{\\lambda}$ and so\n",
    "\n",
    "$$\\dfrac{\\partial}{\\partial \\lambda}h(\\lambda) = -\\dfrac{1}{\\lambda^2}$$\n",
    "\n",
    "but, as we have seen before, for Poisson ($\\lambda$), we have $I_{X_1}(\\lambda) = \\dfrac{1}{\\lambda}$, therefore:\n",
    "\n",
    "$$\\sqrt{n} \\bigg( \\dfrac{1}{\\bar{X}} - \\dfrac{1}{\\lambda} \\bigg) \\to^d N \\bigg( 0, \\dfrac{1}{\\lambda^3} \\bigg)$$\n",
    "\n",
    "Comparing the outcomes of question 2 and question 3, we see that although the finite variance does not exist, the asymptotic variance is well defined ($=\\dfrac{1}{\\lambda^3}$)"
   ]
  },
  {
   "cell_type": "code",
   "execution_count": null,
   "id": "d9a270cd",
   "metadata": {
    "pycharm": {
     "name": "#%%\n"
    }
   },
   "outputs": [],
   "source": []
  },
  {
   "cell_type": "markdown",
   "id": "29f94440",
   "metadata": {
    "pycharm": {
     "name": "#%% md\n"
    }
   },
   "source": [
    "# MLE of the transformed Parameter of a Normal Distribution\n",
    "**question 1**\n",
    "Find the MLE and state its asymptotic distribution"
   ]
  },
  {
   "cell_type": "markdown",
   "id": "95571525",
   "metadata": {
    "pycharm": {
     "name": "#%% md\n"
    }
   },
   "source": [
    "**solution**\n",
    "\n",
    "the density of a single observation is \n",
    "\n",
    "$$f(x; \\mu, \\sigma^2) = \\dfrac{1}{\\sqrt{2\\pi}\\sigma} e^{\\dfrac{(x-\\mu)^2}{2\\sigma^2}}$$\n",
    "\n",
    "where only $\\sigma^2$ is assumed unknown\n",
    "\n",
    "Then:\n",
    "\n",
    "$$\\ln L(X; \\sigma^2) = -n \\ln(\\sqrt{2\\pi}) - \\dfrac{n}{2} \\ln (\\sigma^2) - \\dfrac{1}{2} \\sum_{i=1}^{n} \\dfrac{x_i - \\mu)^2}{\\sigma^2}$$\n",
    "\n",
    "Then the equation\n",
    "\n",
    "$$\\dfrac{\\partial}{\\partial \\sigma^2}\\ln L = - \\dfrac{n}{2 \\sigma^2} + \\dfrac{1}{2} \\sum_{n}^{i=1} \\dfrac{(x_i - \\mu)^2)}{\\sigma^4} = 0$$\n",
    "\n",
    "has a root\n",
    "\n",
    "$$\\hat{\\sigma} = \\dfrac{1}{n} \\sum_{i=1}^{n} (x_i - \\mu)^2)$$\n",
    "\n",
    "which is also the MLE\n",
    "\n",
    "Further,\n",
    "\n",
    "$$\n",
    "\\begin{aligned}\n",
    "\\ln f(x; \\mu, \\sigma^2) &= -\\ln(\\sqrt{2\\pi}) - \\dfrac{1}{2} \\ln (\\sigma^2) - \\dfrac{1}{2} \\dfrac{(x - \\mu)^2}{\\sigma^2} \\\\\n",
    "\\dfrac{\\partial}{\\partial \\sigma^2} \\ln f &= - \\dfrac{1}{2\\sigma^2} + \\dfrac{1}{2} \\dfrac{(x - \\mu)^2}{\\sigma^4} \\\\\n",
    "\\dfrac{\\partial^2}{\\partial\\sigma^2 \\partial\\sigma^2} \\ln f &= \\dfrac{1}{2\\sigma^4} - \\dfrac{(x - \\mu)^2}{\\sigma^6}\n",
    "\\end{aligned}\n",
    "$$\n",
    "\n",
    "Taking $-E(...)$ into the last equation gives\n",
    "\n",
    "$$I_{X_1}(\\sigma^2) = \\dfrac{1}{2\\sigma^4}$$\n",
    "\n",
    "Hence:\n",
    "\n",
    "$$\\sqrt{n}(\\hat{\\sigma}^2 - \\sigma^2) \\to^d N(0,2\\sigma^4)$$"
   ]
  },
  {
   "cell_type": "code",
   "execution_count": null,
   "id": "a378e838",
   "metadata": {
    "pycharm": {
     "name": "#%%\n"
    }
   },
   "outputs": [],
   "source": []
  },
  {
   "cell_type": "markdown",
   "id": "a6a94273",
   "metadata": {
    "pycharm": {
     "name": "#%% md\n"
    }
   },
   "source": [
    "**question 2**\n",
    "\n",
    "assume now that $\\sigma$ is to be estimated. FInd the MLE and state its asymptotic distribution"
   ]
  },
  {
   "cell_type": "markdown",
   "id": "c70b8f72",
   "metadata": {
    "pycharm": {
     "name": "#%% md\n"
    }
   },
   "source": [
    "**solution**\n",
    "\n",
    "We apply the delta method. First we notice that \n",
    "\n",
    "$$\\hat{\\sigma}_{mle} = \\hat{\\sigma} = \\sqrt{\\hat{\\sigma}^2} = \\sqrt{\\dfrac{1}{2} \\sum_{i=1}^{n}(X_i - \\mu)^2}$$\n",
    "\n",
    "is the MLE due to the transformation invariance property\n",
    "Now:\n",
    "\n",
    "$$\\sqrt{n}(\\hat{\\sigma} - \\sigma) \\to^d N \\bigg(0, \\big( ( \\dfrac{\\partial}{\\partial\\sigma^2}h (\\sigma^2) \\big)^2 2 \\sigma^4 \\bigg)$$\n",
    "\n",
    "where $h(\\sigma^2) = \\sqrt{\\sigma^2}$. Hence $\\dfrac{\\partial}{\\partial \\sigma^2}h(\\sigma^2) = \\dfrac{1}{2\\sigma}$ and we get, after substitution:\n",
    "\n",
    "$$\\sqrt{n}(\\hat{\\sigma} - \\sigma) \\to^d N(0, \\sigma^2/2)$$"
   ]
  },
  {
   "cell_type": "code",
   "execution_count": null,
   "id": "24210b1b",
   "metadata": {
    "pycharm": {
     "name": "#%%\n"
    }
   },
   "outputs": [],
   "source": []
  },
  {
   "cell_type": "markdown",
   "id": "3098c307",
   "metadata": {
    "pycharm": {
     "name": "#%% md\n"
    }
   },
   "source": [
    "# Deviance of a normal Distribution mean MLE\n",
    "**question**: Find the deviance $D(\\mu)$ for *n* iid observations from a $N(\\mu \\sigma^2)$ with $\\sigma^2$"
   ]
  },
  {
   "cell_type": "markdown",
   "id": "0eaecc41",
   "metadata": {
    "pycharm": {
     "name": "#%% md\n"
    }
   },
   "source": [
    "Then the likelihood function is\n",
    "\n",
    "$$L(X, \\mu) = (2 \\pi \\sigma^2)^{-n/2} \\text{exp} \\bigg( -\\dfrac{1}{2\\sigma^2} \\sum_{i=1}^{n} (x_i - \\mu)^2 \\bigg)$$\n",
    "\n",
    "with the log-likelihood\n",
    "\n",
    "$$\\log L(X, \\mu) = - \\dfrac{n}{2} \\log(2 \\pi \\sigma^2) - \\dfrac{1}{2 \\sigma^2} \\sum_{i=1}^{n} (x_i - \\mu)^2$$\n",
    "\n",
    "by setting the derivative of the log likelihood with respect to $\\theta$ to zero we obtain the MLE for $\\mu$ as $\\hat{mu} = \\hat{X}$. Then the deviance is:\n",
    "\n",
    "$$\n",
    "\\begin{aligned}\n",
    "D(\\mu) &= -2[\\log L (\\mu) - \\log L (\\hat{\\mu})] \\\\\n",
    "&= -2 \\bigg[ - \\dfrac{n}{2} \\log(2 \\pi \\sigma^2) - \\frac{1}{2 \\sigma^2} \\sum_{i=1}^{n} (x_i - \\mu)^2 - \\bigg( -\\dfrac{n}{2} \\log (2 \\pi \\sigma^2) - \\dfrac{1}{2 \\sigma^2} \\sum_{i=1}^{n} (x \\\\\n",
    "&=-2 \\bigg[ - \\dfrac{1}{2 \\sigma^2} \\bigg( \\sum_{i=1}^{n} x_i^2 - 2\\mu ( \\sum_{i=1}^{n} x_i^2 - 2 \\bar{x} ( \\sum_{i=1}^{n} x_i ) + n\\bar{x}^2) \\\\\n",
    "&= \\dfrac{n}{\\sigma^2} \\bigg( -2n \\mu \\bar{x} + n\\mu^2 + 2n \\bar{x}^2 - n\\bar{x}^2 \\bigg) \\\\\n",
    "&= \\dfrac{n}{\\sigma^2} (\\bar{x}^2 - 2\\mu \\bar{x} + \\mu^2) \\\\\n",
    "&= \\dfrac{n(\\bar{x} - \\mu)^2}{\\sigma^2} \\\\\n",
    "\\end{aligned}\n",
    "$$\n",
    "\n",
    "Now, suppose the true mean $\\mu_0$ so that $\\bar{X} \\sim N(\\mu_0, \\sigma^2/n)$, then $D(\\mu_0) \\sim \\chi^2(1)$ chi-squared with one d.f.) this is an **exact** (not asymptotic) result due to us dealing with normal sample)"
   ]
  },
  {
   "cell_type": "code",
   "execution_count": null,
   "id": "5fc48aeb",
   "metadata": {
    "pycharm": {
     "name": "#%%\n"
    }
   },
   "outputs": [],
   "source": []
  }
 ],
 "metadata": {
  "kernelspec": {
   "display_name": "Python 3 (ipykernel)",
   "language": "python",
   "name": "python3"
  },
  "language_info": {
   "codemirror_mode": {
    "name": "ipython",
    "version": 3
   },
   "file_extension": ".py",
   "mimetype": "text/x-python",
   "name": "python",
   "nbconvert_exporter": "python",
   "pygments_lexer": "ipython3",
   "version": "3.9.12"
  }
 },
 "nbformat": 4,
 "nbformat_minor": 5
}