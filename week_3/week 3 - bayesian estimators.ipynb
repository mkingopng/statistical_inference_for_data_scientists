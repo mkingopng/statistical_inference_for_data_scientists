{
 "cells": [
  {
   "cell_type": "code",
   "execution_count": 1,
   "id": "54fea334",
   "metadata": {
    "pycharm": {
     "name": "#%%\n"
    }
   },
   "outputs": [],
   "source": [
    "from sympy import *"
   ]
  },
  {
   "cell_type": "markdown",
   "id": "84df4e6e",
   "metadata": {
    "pycharm": {
     "name": "#%% md\n"
    }
   },
   "source": [
    "# Quadratic and Absolute Value Loss minimisation\n",
    "\n",
    "**question 1**: show that for a given random variable $Y$ with a finite second moment, the function $q_1(a) = E[(Y-a)^2]$ is minimised for $a* = E(Y)$"
   ]
  },
  {
   "cell_type": "markdown",
   "id": "9cdb526f",
   "metadata": {
    "pycharm": {
     "name": "#%% md\n"
    }
   },
   "source": [
    "**solution**\n",
    "setting the derivative with respect to *a*to zero we get\n",
    "\n",
    "$$\n",
    "\\begin{aligned}\n",
    "\\dfrac{\\partial}{\\partial a} E(Y - a)^2 &= \\dfrac{\\partial}{\\partial a} \\bigg[E(Y)^2 - 2E(Y^2) - 2E(Y)a+a^2 \\bigg] \\\\\n",
    "&= -2E(Y) + 2a \\\\\n",
    "&= 0 \\\\\n",
    "\\end{aligned}\n",
    "$$\n",
    "\n",
    "from which we deduce that the stationary point is $a* = E(Y)$ and this stationary point gives rise to a minimum"
   ]
  },
  {
   "cell_type": "code",
   "execution_count": null,
   "id": "9783be7b",
   "metadata": {
    "pycharm": {
     "name": "#%%\n"
    }
   },
   "outputs": [],
   "source": []
  },
  {
   "cell_type": "markdown",
   "id": "2e96ccf7",
   "metadata": {
    "pycharm": {
     "name": "#%% md\n"
    }
   },
   "source": [
    "**Question 2**: show that for a given random variable $Y$ with $E|Y| < \\infty$, the function $q_2(b) = E|Y - b|$ is minimised for $b* = \\text{median}(Y)$"
   ]
  },
  {
   "cell_type": "markdown",
   "id": "328c8342",
   "metadata": {
    "pycharm": {
     "name": "#%% md\n"
    }
   },
   "source": [
    "**solution**\n",
    "continuous case for simplicity. Denote the density of Y by $f(y)$ and the cdf by $F(y)$. Having in mind the definition of absolute value we have:\n",
    "\n",
    "$$\n",
    "\\begin{aligned}\n",
    "\\dfrac{\\partial}{\\partial b}E(|Y-b|) &= \\dfrac{\\partial}{\\partial b} \\bigg[ \\int_{-infty}^{b} (b-y)f(y)dy + \\int_b^{\\infty} (y - b)f(y)dy \\bigg] \\\\\n",
    "&= \\dfrac{\\partial}{\\partial b} \\bigg[bF(b) - \\int_{-\\infty}^{b} yf(y)dy - b(1 - F(b)) \\bigg] \\\\\n",
    "&= F(b) - 1 - F(b)) \\\\\n",
    "&= 2F(b) - 1 \\\\\n",
    "&= 0\n",
    "\\end{aligned}\n",
    "$$\n",
    "\n",
    "from which we can deduce that the stationary point $b*$ satisfies $F(b*)=0.5$, ie $b*$ is the mediam and the stationary point $b*$ gives rise to a minimum."
   ]
  },
  {
   "cell_type": "code",
   "execution_count": null,
   "id": "2a16efda",
   "metadata": {
    "pycharm": {
     "name": "#%%\n"
    }
   },
   "outputs": [],
   "source": []
  },
  {
   "cell_type": "markdown",
   "id": "a7b7af6b",
   "metadata": {
    "pycharm": {
     "name": "#%% md\n"
    }
   },
   "source": [
    "# Bayes Estimator\n",
    "\n",
    "suppose a *single* observation $x$ is available from the uniform distribution with a density\n",
    "\n",
    "$$f(x|\\theta) = \\dfrac{1}{(\\theta}I_{x,\\infty)}(\\theta), \\theta > 0$$\n",
    "\n",
    "the prior on $\\theta$ has density:\n",
    "\n",
    "$$\\tau()\\theta) = \\theta \\text{exp}(-\\theta), \\theta > 0$$\n",
    "\n",
    "**Question 1**: find the Bayes Estimator of $\\theta$ with respect to quadratic loss"
   ]
  },
  {
   "cell_type": "markdown",
   "id": "efa6bb0f",
   "metadata": {
    "pycharm": {
     "name": "#%% md\n"
    }
   },
   "source": [
    "**Solution**\n",
    "Note that we have a *single* observation $X$ only. Now $f(x|\\theta) = \\dfrac{1}{\\theta}i_{(x,\\infty)}(\\theta)$ implies that \n",
    "\n",
    "$$g(x) = \\int_{0}^{\\infty} f(x|\\theta) \\tau (\\theta) d\\theta = \\int_{x}^{\\infty} \\dfrac{1}{\\theta}\\theta e^{-\\theta} d\\theta = e^{-x}, x > 0 $$\n",
    "\n",
    "hence\n",
    "\n",
    "$$h(\\theta | x) = \\dfrac{f(x|\\theta) \\tau(\\theta)}{g(x)} = \n",
    "\\begin{Bmatrix} e^{x-\\theta} & \\text{ if } & \\theta > x \\\\ 0 & \\text{ if } & 0 < \\theta < x \\\\ \\end{Bmatrix} $$\n",
    "\n",
    "with respect to quadratic loss, the Bayesian estimator $\\delta_{\\tau}(x)$ is given by:\n",
    "\n",
    "$$\n",
    "\\begin{aligned}\n",
    "\\delta_{\\tau}(x) &= \\int_x^{\\infty} \\theta(\\theta|x)d\\theta \\\\\n",
    "&= \\int_{x}^{\\infty} \\theta e^{x-\\theta}d\\theta \\\\\n",
    "&= e^x \\int_{x}^{\\infty} \\theta e^{-\\theta} d\\theta \\\\\n",
    "&= e^x(xe^{-x} + x^{-x}) \\\\\n",
    "&= x+1 \n",
    "\\end{aligned}\n",
    "$$"
   ]
  },
  {
   "cell_type": "code",
   "execution_count": null,
   "id": "ad99bc7c",
   "metadata": {
    "pycharm": {
     "name": "#%%\n"
    }
   },
   "outputs": [],
   "source": []
  },
  {
   "cell_type": "markdown",
   "id": "bb2f70c5",
   "metadata": {
    "pycharm": {
     "name": "#%% md\n"
    }
   },
   "source": [
    "**Question 2**: Find the Bayes estimator of $\\theta$ with respect to absolute value loss $L(\\theta, a) = |\\theta - a|$"
   ]
  },
  {
   "cell_type": "markdown",
   "id": "b8c5c5c5",
   "metadata": {
    "pycharm": {
     "name": "#%% md\n"
    }
   },
   "source": [
    "**Solution**\n",
    "\n",
    "with respect to absolute value loss, the Bayesian estimator $m$ solves the equation\n",
    "\n",
    "$$\\int_m^{\\infty} e^{x - \\theta} d \\theta = \\dfrac{1}{2}$$\n",
    "\n",
    "and we get:\n",
    "\n",
    "$$e^{x-m} = \\dfrac{1}{2} \\Rightarrow m - x = \\ln 2 \\Rightarrow m = x + \\ln 2$$"
   ]
  },
  {
   "cell_type": "code",
   "execution_count": null,
   "id": "45f52081",
   "metadata": {
    "pycharm": {
     "name": "#%%\n"
    }
   },
   "outputs": [],
   "source": []
  },
  {
   "cell_type": "markdown",
   "id": "2598a21d",
   "metadata": {
    "pycharm": {
     "name": "#%% md\n"
    }
   },
   "source": [
    "**question**\n",
    "Let $X_1, X_2,..., X_n$ be a random sample from the normal density with mean $mu$ and variance 1. Consider estimating $\\mu$ with a squared-error loss. Assume that the prior $\\tau(\\mu)$ is a normal density with mean $\\mu_0$ and variance 1\n",
    "\n",
    "Show that the Bayes Estimator of $\\mu$ is \n",
    "\n",
    "$$\\dfrac{\\mu_0 + \\sum_{i=1}^{n} X_i}{n+1}$$"
   ]
  },
  {
   "cell_type": "markdown",
   "id": "af96ca25",
   "metadata": {
    "pycharm": {
     "name": "#%% md\n"
    }
   },
   "source": [
    "**Solution**\n",
    "\n",
    "Let $X = (X_1,...,X_n)$ be the random variables. Setting $\\mu_0 = x_0$ for convenience of the notation, we can write:\n",
    "\n",
    "$$\n",
    "\\begin{aligned}\n",
    "h(\\mu|X=x) &\\propto \\text{exp} \\bigg\\{\\ -\\dfrac{1}{2} \\sum_{i=1}^{n} (x_i - \\mu)^2 \\bigg\\}\\ \\\\\n",
    "&\\propto \\text{exp} \\bigg\\{\\ - \\dfrac{n+1}{2} \\bigg[\\mu - \\dfrac{\\sum_{i=1}^{n}X_i}{n+1} \\bigg] \\bigg\\}\\\n",
    "\\end{aligned}\n",
    "$$\n",
    "\n",
    "This also means (by completing the square with the expression that does not depend on $\\mu$)\n",
    "\n",
    "$$h\\mu|X=x) \\propto \\text{exp} \\bigg\\[\\ - \\dfrac{n+1}{2} [ \\mu - \\dfrac{\\sum_{i=1}^{n}X_i}{n + 1} ]^2 \\bigg\\]\\$$\n",
    "\n",
    "which implies that $h\\mu|X=x)$ (being a density), must be the density of\n",
    "\n",
    "$$N \\bigg( \\dfrac{\\sum_{i=1}^{n}X_i}{n+1}, \\dfrac{1}{n+1} \\bigg)$$\n",
    "\n",
    "hence the Bayes estimator (being the posterior mean) would be\n",
    "\n",
    "$$\\dfrac{(\\sum_{i=1}^{n} X_i)}{(n+1)} = \\dfrac{(\\mu_0 + \\sum_{i=1}^{n} x_i)}{n + 1} = \\dfrac{1}{n+1} \\mu_0 + \\dfrac{n}{n+1} \\bar{X}$$\n",
    "\n",
    "that is, the Bayes estimator is a convex combination of the mean of the prior and of $\\bar{X}$. In this combination, the weight of the prior information diminishes quickly when the sample size increases. The same estimator is obtained with respect to absolute value loss."
   ]
  },
  {
   "cell_type": "code",
   "execution_count": null,
   "id": "4bc629c4",
   "metadata": {
    "pycharm": {
     "name": "#%%\n"
    }
   },
   "outputs": [],
   "source": []
  }
 ],
 "metadata": {
  "kernelspec": {
   "display_name": "Python 3 (ipykernel)",
   "language": "python",
   "name": "python3"
  },
  "language_info": {
   "codemirror_mode": {
    "name": "ipython",
    "version": 3
   },
   "file_extension": ".py",
   "mimetype": "text/x-python",
   "name": "python",
   "nbconvert_exporter": "python",
   "pygments_lexer": "ipython3",
   "version": "3.9.12"
  }
 },
 "nbformat": 4,
 "nbformat_minor": 5
}