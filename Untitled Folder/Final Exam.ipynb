{
 "cells": [
  {
   "cell_type": "code",
   "execution_count": 1,
   "id": "39ab6915",
   "metadata": {},
   "outputs": [],
   "source": [
    "from sympy import *\n",
    "from sympy.stats import *\n",
    "from sympy.functions import *\n",
    "from sympy.integrals import *\n",
    "from sympy.functions.combinatorial.numbers import *\n",
    "from sympy.stats import Normal, Poisson, density, E, std, cdf, skewness, quantile, marginal_distribution\n",
    "from sympy import Symbol, simplify, pprint\n",
    "from sympy.abc import * "
   ]
  },
  {
   "cell_type": "code",
   "execution_count": 2,
   "id": "76232d0c",
   "metadata": {},
   "outputs": [],
   "source": [
    "# symbols\n",
    "theta = Symbol('theta', positive=True)\n",
    "sigma = Symbol('sigma', positive=True)\n",
    "mu = Symbol('mu', positive=True)\n",
    "gamma = Symbol('Gamma', positive=True)\n",
    "i = Symbol('i', positive=True)\n",
    "n = Symbol('n', positive=True)\n",
    "x = Indexed('x', i) # need indexed variable for summation and product\n",
    "a, b, c, d, e, f, g, h, i, j, k, t, y, z, p = symbols('a b c d e f g h i j k t y z p')\n",
    "t1, t2 = symbols('theta1 theta2')\n",
    "tau = Symbol('tau')\n",
    "lm = Symbol('lambda')\n",
    "al = Symbol('alpha')\n",
    "be = Symbol('beta')"
   ]
  },
  {
   "cell_type": "code",
   "execution_count": 3,
   "id": "8091ba6a",
   "metadata": {},
   "outputs": [],
   "source": [
    "# distributions (normal)\n",
    "X = Normal('X', mu, sigma)"
   ]
  },
  {
   "cell_type": "code",
   "execution_count": 4,
   "id": "e79a15ec",
   "metadata": {},
   "outputs": [],
   "source": [
    "# distributions\n",
    "rate = Symbol('lambda', positive=True)\n",
    "Y = Poisson('Y', rate)"
   ]
  },
  {
   "cell_type": "markdown",
   "id": "c86783b5",
   "metadata": {},
   "source": [
    "# q1"
   ]
  },
  {
   "cell_type": "code",
   "execution_count": null,
   "id": "4c631f86",
   "metadata": {},
   "outputs": [],
   "source": []
  },
  {
   "cell_type": "markdown",
   "id": "72a74b70",
   "metadata": {},
   "source": [
    "## 1a"
   ]
  },
  {
   "cell_type": "code",
   "execution_count": null,
   "id": "19090e03",
   "metadata": {},
   "outputs": [],
   "source": []
  },
  {
   "cell_type": "markdown",
   "id": "5099e437",
   "metadata": {},
   "source": [
    "# 1b"
   ]
  },
  {
   "cell_type": "code",
   "execution_count": 5,
   "id": "2ee02244",
   "metadata": {},
   "outputs": [
    {
     "data": {
      "text/latex": [
       "$\\displaystyle n \\theta$"
      ],
      "text/plain": [
       "n*theta"
      ]
     },
     "execution_count": 5,
     "metadata": {},
     "output_type": "execute_result"
    }
   ],
   "source": [
    "a = n*theta\n",
    "a"
   ]
  },
  {
   "cell_type": "code",
   "execution_count": 6,
   "id": "392e0a00",
   "metadata": {},
   "outputs": [
    {
     "data": {
      "text/latex": [
       "$\\displaystyle e^{- \\theta} \\theta$"
      ],
      "text/plain": [
       "theta/e**theta"
      ]
     },
     "execution_count": 6,
     "metadata": {},
     "output_type": "execute_result"
    }
   ],
   "source": [
    "h = theta * e ** -theta\n",
    "h"
   ]
  },
  {
   "cell_type": "code",
   "execution_count": null,
   "id": "76cbfaed",
   "metadata": {},
   "outputs": [],
   "source": []
  },
  {
   "cell_type": "markdown",
   "id": "c17c6cec",
   "metadata": {},
   "source": [
    "# 1c"
   ]
  },
  {
   "cell_type": "code",
   "execution_count": 7,
   "id": "d1e1dc28",
   "metadata": {},
   "outputs": [
    {
     "data": {
      "text/latex": [
       "$\\displaystyle \\frac{e^{- \\theta} \\theta^{{x}_{i}}}{{x}_{i}!}$"
      ],
      "text/plain": [
       "theta**x[i]/(e**theta*factorial(x[i]))"
      ]
     },
     "execution_count": 7,
     "metadata": {},
     "output_type": "execute_result"
    }
   ],
   "source": [
    "# likelihood\n",
    "likelihood = (e**(-theta) * theta ** x)/factorial(x)\n",
    "likelihood "
   ]
  },
  {
   "cell_type": "code",
   "execution_count": 8,
   "id": "bc830073",
   "metadata": {},
   "outputs": [
    {
     "data": {
      "text/latex": [
       "$\\displaystyle - \\theta \\log{\\left(e \\right)} + \\log{\\left(\\theta \\right)} {x}_{i} - \\log{\\left({x}_{i}! \\right)}$"
      ],
      "text/plain": [
       "-theta*log(e) + log(theta)*x[i] - log(factorial(x[i]))"
      ]
     },
     "execution_count": 8,
     "metadata": {},
     "output_type": "execute_result"
    }
   ],
   "source": [
    "# log likelihood\n",
    "log_likelihood = expand_log(log(likelihood), force=True)\n",
    "log_likelihood"
   ]
  },
  {
   "cell_type": "code",
   "execution_count": 9,
   "id": "b5ad9c5e",
   "metadata": {},
   "outputs": [
    {
     "data": {
      "text/latex": [
       "$\\displaystyle - \\log{\\left(e \\right)} + \\frac{{x}_{i}}{\\theta}$"
      ],
      "text/plain": [
       "-log(e) + x[i]/theta"
      ]
     },
     "execution_count": 9,
     "metadata": {},
     "output_type": "execute_result"
    }
   ],
   "source": [
    "# first derivative of logl wrt theta\n",
    "diff1 = diff(log_likelihood, theta)\n",
    "diff1"
   ]
  },
  {
   "cell_type": "code",
   "execution_count": 10,
   "id": "e22e991f",
   "metadata": {},
   "outputs": [
    {
     "data": {
      "text/latex": [
       "$\\displaystyle - \\frac{{x}_{i}}{\\theta^{2}}$"
      ],
      "text/plain": [
       "-x[i]/theta**2"
      ]
     },
     "execution_count": 10,
     "metadata": {},
     "output_type": "execute_result"
    }
   ],
   "source": [
    "# second derivative of logl wrt theta\n",
    "diff2 = diff(diff1, theta)\n",
    "diff2"
   ]
  },
  {
   "cell_type": "code",
   "execution_count": 11,
   "id": "e8e7ee63",
   "metadata": {},
   "outputs": [
    {
     "data": {
      "text/latex": [
       "$\\displaystyle \\frac{1}{\\theta}$"
      ],
      "text/plain": [
       "1/theta"
      ]
     },
     "execution_count": 11,
     "metadata": {},
     "output_type": "execute_result"
    }
   ],
   "source": [
    "# Fisher information I(theta) 1 RV\n",
    "# for n iids, just multiply by n\n",
    "# sub theta into x and simplify\n",
    "fisher = -simplify(diff2.subs(x, theta))\n",
    "fisher"
   ]
  },
  {
   "cell_type": "code",
   "execution_count": 12,
   "id": "ff989e74",
   "metadata": {},
   "outputs": [
    {
     "data": {
      "text/latex": [
       "$\\displaystyle \\frac{4 \\theta^{3}}{n}$"
      ],
      "text/plain": [
       "4*theta**3/n"
      ]
     },
     "execution_count": 12,
     "metadata": {},
     "output_type": "execute_result"
    }
   ],
   "source": [
    "# CRLB\n",
    "# function of theta\n",
    "tau = theta**2\n",
    "crlb = diff(tau, theta)**2 / (n*fisher)\n",
    "crlb"
   ]
  },
  {
   "cell_type": "markdown",
   "id": "f6d33a6f",
   "metadata": {},
   "source": [
    "## 1d"
   ]
  },
  {
   "cell_type": "code",
   "execution_count": 29,
   "id": "b57231a3",
   "metadata": {},
   "outputs": [
    {
     "data": {
      "text/latex": [
       "$\\displaystyle e^{- \\theta} \\theta$"
      ],
      "text/plain": [
       "theta/e**theta"
      ]
     },
     "execution_count": 29,
     "metadata": {},
     "output_type": "execute_result"
    }
   ],
   "source": [
    "# likelihood\n",
    "likelihood = theta * e ** (-theta)\n",
    "likelihood"
   ]
  },
  {
   "cell_type": "code",
   "execution_count": 30,
   "id": "e9fab1f1",
   "metadata": {},
   "outputs": [
    {
     "data": {
      "text/latex": [
       "$\\displaystyle - \\theta \\log{\\left(e \\right)} + \\log{\\left(\\theta \\right)}$"
      ],
      "text/plain": [
       "-theta*log(e) + log(theta)"
      ]
     },
     "execution_count": 30,
     "metadata": {},
     "output_type": "execute_result"
    }
   ],
   "source": [
    "# log likelihood\n",
    "log_likelihood = expand_log(log(likelihood), force=True)\n",
    "log_likelihood"
   ]
  },
  {
   "cell_type": "code",
   "execution_count": 31,
   "id": "f71a1bdd",
   "metadata": {},
   "outputs": [
    {
     "data": {
      "text/latex": [
       "$\\displaystyle - \\log{\\left(e \\right)} + \\frac{1}{\\theta}$"
      ],
      "text/plain": [
       "-log(e) + 1/theta"
      ]
     },
     "execution_count": 31,
     "metadata": {},
     "output_type": "execute_result"
    }
   ],
   "source": [
    "# first derivative of logl wrt theta\n",
    "diff1 = diff(log_likelihood, theta)\n",
    "diff1"
   ]
  },
  {
   "cell_type": "code",
   "execution_count": 32,
   "id": "90f4ed64",
   "metadata": {},
   "outputs": [
    {
     "data": {
      "text/latex": [
       "$\\displaystyle - \\frac{1}{\\theta^{2}}$"
      ],
      "text/plain": [
       "-1/theta**2"
      ]
     },
     "execution_count": 32,
     "metadata": {},
     "output_type": "execute_result"
    }
   ],
   "source": [
    "# second derivative of logl wrt theta\n",
    "diff2 = diff(diff1, theta)\n",
    "diff2"
   ]
  },
  {
   "cell_type": "code",
   "execution_count": 33,
   "id": "51aa507f",
   "metadata": {},
   "outputs": [
    {
     "data": {
      "text/latex": [
       "$\\displaystyle \\frac{1}{\\theta^{2}}$"
      ],
      "text/plain": [
       "theta**(-2)"
      ]
     },
     "execution_count": 33,
     "metadata": {},
     "output_type": "execute_result"
    }
   ],
   "source": [
    "# Fisher information I(theta) 1 RV\n",
    "# for n iids, just multiply by n\n",
    "# sub theta into x and simplify\n",
    "fisher = -simplify(diff2.subs(x, theta))\n",
    "fisher"
   ]
  },
  {
   "cell_type": "code",
   "execution_count": 18,
   "id": "6b7dd365",
   "metadata": {},
   "outputs": [
    {
     "data": {
      "text/latex": [
       "$\\displaystyle \\frac{4 \\theta^{4}}{n}$"
      ],
      "text/plain": [
       "4*theta**4/n"
      ]
     },
     "execution_count": 18,
     "metadata": {},
     "output_type": "execute_result"
    }
   ],
   "source": [
    "# CRLB\n",
    "# function of theta\n",
    "tau = theta**2\n",
    "crlb = diff(tau, theta)**2 / (n*fisher)\n",
    "crlb"
   ]
  },
  {
   "cell_type": "markdown",
   "id": "30615920",
   "metadata": {},
   "source": [
    "# 1e"
   ]
  },
  {
   "cell_type": "code",
   "execution_count": 19,
   "id": "55395286",
   "metadata": {},
   "outputs": [
    {
     "data": {
      "text/latex": [
       "$\\displaystyle e^{- \\theta} \\theta$"
      ],
      "text/plain": [
       "theta/e**theta"
      ]
     },
     "execution_count": 19,
     "metadata": {},
     "output_type": "execute_result"
    }
   ],
   "source": [
    "# likelihood for 1 RV\n",
    "# UNCOMMENT here to use an inbuilt distribution\n",
    "# X = Normal('x',0, 1/theta)\n",
    "# likelihood = simplify(density(X)(x))\n",
    "# UNCOMMENT here to define manually\n",
    "lhood = theta * e ** (-theta)\n",
    "likelihood"
   ]
  },
  {
   "cell_type": "code",
   "execution_count": 20,
   "id": "18524978",
   "metadata": {},
   "outputs": [
    {
     "data": {
      "text/latex": [
       "$\\displaystyle \\left(e^{- \\theta} \\theta\\right)^{n}$"
      ],
      "text/plain": [
       "(theta/e**theta)**n"
      ]
     },
     "execution_count": 20,
     "metadata": {},
     "output_type": "execute_result"
    }
   ],
   "source": [
    "# likelihood for n RVs\n",
    "likelihood = Product(likelihood, (i, 1, n)).doit()\n",
    "likelihood"
   ]
  },
  {
   "cell_type": "code",
   "execution_count": 21,
   "id": "9421991a",
   "metadata": {},
   "outputs": [
    {
     "data": {
      "text/latex": [
       "$\\displaystyle - n \\theta \\log{\\left(e \\right)} + n \\log{\\left(\\theta \\right)}$"
      ],
      "text/plain": [
       "-n*theta*log(e) + n*log(theta)"
      ]
     },
     "execution_count": 21,
     "metadata": {},
     "output_type": "execute_result"
    }
   ],
   "source": [
    "# log likelihood\n",
    "\n",
    "# either do expand() or expand_log() here\n",
    "log_likelihood = expand(log(likelihood), force=True)\n",
    "log_likelihood"
   ]
  },
  {
   "cell_type": "code",
   "execution_count": 22,
   "id": "b0402f4e",
   "metadata": {},
   "outputs": [
    {
     "data": {
      "text/latex": [
       "$\\displaystyle - n \\log{\\left(e \\right)} + \\frac{n}{\\theta}$"
      ],
      "text/plain": [
       "-n*log(e) + n/theta"
      ]
     },
     "execution_count": 22,
     "metadata": {},
     "output_type": "execute_result"
    }
   ],
   "source": [
    "# derivative of logl\n",
    "diff1 = simplify(diff(log_likelihood, theta))\n",
    "diff1"
   ]
  },
  {
   "cell_type": "code",
   "execution_count": 23,
   "id": "71dbf7c5",
   "metadata": {},
   "outputs": [
    {
     "name": "stdout",
     "output_type": "stream",
     "text": [
      "⎡  1   ⎤\n",
      "⎢──────⎥\n",
      "⎣log(e)⎦\n"
     ]
    }
   ],
   "source": [
    "# set derivative to zero, then solve for theta to identify MLE\n",
    "mle = solve(diff1, theta)\n",
    "pprint(mle)\n",
    "# mle"
   ]
  },
  {
   "cell_type": "markdown",
   "id": "a2efef62",
   "metadata": {},
   "source": [
    "# q2"
   ]
  },
  {
   "cell_type": "code",
   "execution_count": null,
   "id": "d3907247",
   "metadata": {},
   "outputs": [],
   "source": []
  },
  {
   "cell_type": "markdown",
   "id": "0944bebc",
   "metadata": {},
   "source": [
    "# 2a"
   ]
  },
  {
   "cell_type": "code",
   "execution_count": 38,
   "id": "b466fce9",
   "metadata": {},
   "outputs": [
    {
     "data": {
      "text/latex": [
       "$\\displaystyle \\frac{e^{- \\theta} \\theta^{{x}_{i}}}{{x}_{i}!}$"
      ],
      "text/plain": [
       "theta**x[i]/(e**theta*factorial(x[i]))"
      ]
     },
     "execution_count": 38,
     "metadata": {},
     "output_type": "execute_result"
    }
   ],
   "source": [
    "# likelihood for 1 RV\n",
    "# UNCOMMENT here to use an inbuilt distribution\n",
    "# X = Normal('x',0, 1/theta)\n",
    "# likelihood = simplify(density(X)(x))\n",
    "# UNCOMMENT here to define manually\n",
    "likelihood = (e** (- theta) * theta ** x)/(factorial(x))\n",
    "likelihood"
   ]
  },
  {
   "cell_type": "code",
   "execution_count": 39,
   "id": "4ceb9cb5",
   "metadata": {},
   "outputs": [
    {
     "data": {
      "text/latex": [
       "$\\displaystyle \\left(\\frac{e^{- \\theta} \\theta^{{x}_{i}}}{{x}_{i}!}\\right)^{n}$"
      ],
      "text/plain": [
       "(theta**x[i]/(e**theta*factorial(x[i])))**n"
      ]
     },
     "execution_count": 39,
     "metadata": {},
     "output_type": "execute_result"
    }
   ],
   "source": [
    "# likelihood for n RVs\n",
    "likelihood = Product(likelihood, (i, 1, n)).doit()\n",
    "likelihood"
   ]
  },
  {
   "cell_type": "code",
   "execution_count": 40,
   "id": "5dd274e7",
   "metadata": {},
   "outputs": [
    {
     "data": {
      "text/latex": [
       "$\\displaystyle - n \\theta \\log{\\left(e \\right)} + n \\log{\\left(\\theta \\right)} {x}_{i} - n \\log{\\left({x}_{i}! \\right)}$"
      ],
      "text/plain": [
       "-n*theta*log(e) + n*log(theta)*x[i] - n*log(factorial(x[i]))"
      ]
     },
     "execution_count": 40,
     "metadata": {},
     "output_type": "execute_result"
    }
   ],
   "source": [
    "# log likelihood\n",
    "\n",
    "# either do expand() or expand_log() here\n",
    "log_likelihood = expand(log(likelihood), force=True)\n",
    "log_likelihood"
   ]
  },
  {
   "cell_type": "code",
   "execution_count": 41,
   "id": "2c433cc5",
   "metadata": {},
   "outputs": [
    {
     "data": {
      "text/latex": [
       "$\\displaystyle \\frac{n \\left(- \\theta \\log{\\left(e \\right)} + {x}_{i}\\right)}{\\theta}$"
      ],
      "text/plain": [
       "n*(-theta*log(e) + x[i])/theta"
      ]
     },
     "execution_count": 41,
     "metadata": {},
     "output_type": "execute_result"
    }
   ],
   "source": [
    "# derivative of logl\n",
    "diff1 = simplify(diff(log_likelihood, theta))\n",
    "diff1"
   ]
  },
  {
   "cell_type": "code",
   "execution_count": 42,
   "id": "1f03625c",
   "metadata": {},
   "outputs": [
    {
     "name": "stdout",
     "output_type": "stream",
     "text": [
      "⎡ x[i] ⎤\n",
      "⎢──────⎥\n",
      "⎣log(e)⎦\n"
     ]
    }
   ],
   "source": [
    "# set derivative to zero, then solve for theta to identify MLE\n",
    "mle = solve(diff1, theta)\n",
    "pprint(mle)\n",
    "# mle"
   ]
  },
  {
   "cell_type": "markdown",
   "id": "acffe3e3",
   "metadata": {},
   "source": [
    "# 2b"
   ]
  },
  {
   "cell_type": "code",
   "execution_count": 24,
   "id": "ebc1c4ba",
   "metadata": {},
   "outputs": [
    {
     "data": {
      "text/latex": [
       "$\\displaystyle \\frac{\\beta^{- \\alpha} \\theta^{\\alpha - 1}}{\\Gamma \\alpha}$"
      ],
      "text/plain": [
       "theta**(alpha - 1)/(Gamma*alpha*beta**alpha)"
      ]
     },
     "execution_count": 24,
     "metadata": {},
     "output_type": "execute_result"
    }
   ],
   "source": [
    "# density for 1 RV\n",
    "# UNCOMMENT here to use density function from an inbuilt distribution\n",
    "# X = Normal('x', 0, 1/theta)\n",
    "# pdf = simplify(density(X)(x))\n",
    "# UNCOMMENT here to define manually\n",
    "pdf = 1/(gamma * (al) * be ** al)* theta ** (al -1)\n",
    "pdf"
   ]
  },
  {
   "cell_type": "code",
   "execution_count": 25,
   "id": "05a55e7d",
   "metadata": {},
   "outputs": [
    {
     "data": {
      "text/latex": [
       "$\\displaystyle \\left(\\frac{\\beta^{- \\alpha} \\theta^{\\alpha - 1}}{\\Gamma \\alpha}\\right)^{t}$"
      ],
      "text/plain": [
       "(theta**(alpha - 1)/(Gamma*alpha*beta**alpha))**t"
      ]
     },
     "execution_count": 25,
     "metadata": {},
     "output_type": "execute_result"
    }
   ],
   "source": [
    "# pdf for n RVs\n",
    "pdf = simplify(Product(pdf, (i, 1, t)))\n",
    "pdf"
   ]
  },
  {
   "cell_type": "code",
   "execution_count": 26,
   "id": "f466647e",
   "metadata": {},
   "outputs": [
    {
     "data": {
      "text/latex": [
       "$\\displaystyle 32.0 e^{- 4.0 {x}_{i}} {x}_{i}^{2}$"
      ],
      "text/plain": [
       "32.0*exp(-4.0*x[i])*x[i]**2"
      ]
     },
     "execution_count": 26,
     "metadata": {},
     "output_type": "execute_result"
    }
   ],
   "source": [
    "# tau (prior of parameter)\n",
    "G = Gamma('g',3,1/4)\n",
    "tau = density(G)(x)\n",
    "tau"
   ]
  },
  {
   "cell_type": "code",
   "execution_count": 27,
   "id": "44587670",
   "metadata": {},
   "outputs": [
    {
     "data": {
      "text/latex": [
       "$\\displaystyle 32.0 \\left(\\frac{\\beta^{- \\alpha} \\theta^{\\alpha - 1}}{\\Gamma \\alpha}\\right)^{t} e^{- 4.0 {x}_{i}} {x}_{i}^{2}$"
      ],
      "text/plain": [
       "32.0*(theta**(alpha - 1)/(Gamma*alpha*beta**alpha))**t*exp(-4.0*x[i])*x[i]**2"
      ]
     },
     "execution_count": 27,
     "metadata": {},
     "output_type": "execute_result"
    }
   ],
   "source": [
    "# h(𝜃|W)*tau(𝜃)\n",
    "# then match terms to the suggested distribution\n",
    "product = simplify(pdf*tau)\n",
    "product"
   ]
  },
  {
   "cell_type": "markdown",
   "id": "1db52872",
   "metadata": {},
   "source": [
    "# 2c"
   ]
  },
  {
   "cell_type": "code",
   "execution_count": null,
   "id": "8373e0ae",
   "metadata": {},
   "outputs": [],
   "source": []
  },
  {
   "cell_type": "markdown",
   "id": "14b5094d",
   "metadata": {},
   "source": [
    "# 2d"
   ]
  },
  {
   "cell_type": "code",
   "execution_count": null,
   "id": "0322a5b9",
   "metadata": {},
   "outputs": [],
   "source": []
  },
  {
   "cell_type": "markdown",
   "id": "1cfae3f7",
   "metadata": {},
   "source": [
    "# 2e"
   ]
  },
  {
   "cell_type": "code",
   "execution_count": null,
   "id": "e9402007",
   "metadata": {},
   "outputs": [],
   "source": []
  },
  {
   "cell_type": "markdown",
   "id": "35e2741f",
   "metadata": {},
   "source": [
    "# 3a"
   ]
  },
  {
   "cell_type": "code",
   "execution_count": null,
   "id": "030f4d1d",
   "metadata": {},
   "outputs": [],
   "source": []
  },
  {
   "cell_type": "markdown",
   "id": "2090eb16",
   "metadata": {},
   "source": [
    "# 3b"
   ]
  },
  {
   "cell_type": "code",
   "execution_count": 28,
   "id": "843a5470",
   "metadata": {},
   "outputs": [
    {
     "ename": "SyntaxError",
     "evalue": "invalid syntax (1965612491.py, line 1)",
     "output_type": "error",
     "traceback": [
      "\u001b[0;36m  Input \u001b[0;32mIn [28]\u001b[0;36m\u001b[0m\n\u001b[0;31m    expr = (theta / x) **\u001b[0m\n\u001b[0m                         ^\u001b[0m\n\u001b[0;31mSyntaxError\u001b[0m\u001b[0;31m:\u001b[0m invalid syntax\n"
     ]
    }
   ],
   "source": [
    "expr = (theta / x) **"
   ]
  },
  {
   "cell_type": "markdown",
   "id": "0d2af10d",
   "metadata": {},
   "source": [
    "# 3c"
   ]
  },
  {
   "cell_type": "code",
   "execution_count": null,
   "id": "60764906",
   "metadata": {},
   "outputs": [],
   "source": []
  },
  {
   "cell_type": "markdown",
   "id": "2e05a131",
   "metadata": {},
   "source": [
    "# 3d"
   ]
  },
  {
   "cell_type": "code",
   "execution_count": null,
   "id": "e1224e3c",
   "metadata": {},
   "outputs": [],
   "source": []
  },
  {
   "cell_type": "markdown",
   "id": "d9d7768b",
   "metadata": {},
   "source": [
    "# 3e"
   ]
  },
  {
   "cell_type": "code",
   "execution_count": null,
   "id": "8ca1c90a",
   "metadata": {},
   "outputs": [],
   "source": []
  },
  {
   "cell_type": "markdown",
   "id": "2b4be6de",
   "metadata": {},
   "source": [
    "# 4a"
   ]
  },
  {
   "cell_type": "code",
   "execution_count": null,
   "id": "52fc0645",
   "metadata": {},
   "outputs": [],
   "source": []
  },
  {
   "cell_type": "markdown",
   "id": "d793119f",
   "metadata": {},
   "source": [
    "# 4b"
   ]
  },
  {
   "cell_type": "code",
   "execution_count": null,
   "id": "316a98ec",
   "metadata": {},
   "outputs": [],
   "source": []
  },
  {
   "cell_type": "markdown",
   "id": "22e31cad",
   "metadata": {},
   "source": [
    "# 4c"
   ]
  },
  {
   "cell_type": "code",
   "execution_count": null,
   "id": "eab9cedd",
   "metadata": {},
   "outputs": [],
   "source": []
  },
  {
   "cell_type": "markdown",
   "id": "b6974181",
   "metadata": {},
   "source": [
    "# 4e"
   ]
  },
  {
   "cell_type": "code",
   "execution_count": null,
   "id": "dcfe824e",
   "metadata": {},
   "outputs": [],
   "source": []
  },
  {
   "cell_type": "markdown",
   "id": "ce317dc6",
   "metadata": {},
   "source": [
    "# 5a"
   ]
  },
  {
   "cell_type": "code",
   "execution_count": null,
   "id": "dae9a9e6",
   "metadata": {},
   "outputs": [],
   "source": []
  },
  {
   "cell_type": "markdown",
   "id": "49686a7f",
   "metadata": {},
   "source": [
    "# 5b"
   ]
  },
  {
   "cell_type": "code",
   "execution_count": null,
   "id": "11fb5613",
   "metadata": {},
   "outputs": [],
   "source": []
  },
  {
   "cell_type": "markdown",
   "id": "7260208f",
   "metadata": {},
   "source": [
    "# 5c"
   ]
  },
  {
   "cell_type": "code",
   "execution_count": null,
   "id": "d68b6750",
   "metadata": {},
   "outputs": [],
   "source": []
  },
  {
   "cell_type": "markdown",
   "id": "820c137e",
   "metadata": {},
   "source": [
    "# 5d"
   ]
  },
  {
   "cell_type": "code",
   "execution_count": null,
   "id": "67ed5df3",
   "metadata": {},
   "outputs": [],
   "source": []
  },
  {
   "cell_type": "markdown",
   "id": "874a017d",
   "metadata": {},
   "source": [
    "# 5e"
   ]
  },
  {
   "cell_type": "code",
   "execution_count": null,
   "id": "81e7c8d5",
   "metadata": {},
   "outputs": [],
   "source": []
  },
  {
   "cell_type": "code",
   "execution_count": null,
   "id": "24a93191",
   "metadata": {},
   "outputs": [],
   "source": []
  }
 ],
 "metadata": {
  "kernelspec": {
   "display_name": "Python 3 (ipykernel)",
   "language": "python",
   "name": "python3"
  },
  "language_info": {
   "codemirror_mode": {
    "name": "ipython",
    "version": 3
   },
   "file_extension": ".py",
   "mimetype": "text/x-python",
   "name": "python",
   "nbconvert_exporter": "python",
   "pygments_lexer": "ipython3",
   "version": "3.9.12"
  }
 },
 "nbformat": 4,
 "nbformat_minor": 5
}
