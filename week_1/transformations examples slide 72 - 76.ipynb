{
 "cells": [
  {
   "cell_type": "code",
   "execution_count": 220,
   "metadata": {
    "collapsed": true,
    "pycharm": {
     "name": "#%%\n"
    }
   },
   "outputs": [],
   "source": [
    "from sympy import *\n",
    "from sympy import symbols\n",
    "init_printing()\n",
    "from Cython import declare\n",
    "from sympy.stats import Expectation, Normal, Probability, Poisson\n",
    "from sympy import symbols, Integral, Sum, Rational, E"
   ]
  },
  {
   "cell_type": "code",
   "execution_count": 221,
   "outputs": [],
   "source": [
    "n, c, t, x, y, z = symbols(\"n, c, t, x, y, z\")\n",
    "mu = symbols(\"mu\")\n",
    "sigma = symbols(\"sigma\", positive=True)\n",
    "theta = symbols(\"theta\", positive=True)"
   ],
   "metadata": {
    "collapsed": false,
    "pycharm": {
     "name": "#%%\n"
    }
   }
  },
  {
   "cell_type": "markdown",
   "source": [
    "Suppose that X has the density function\n",
    "\n",
    "$$f_X(x) = 42x^5(1-x), 0 < x < 1$$\n",
    "\n",
    "find the pdf of $Y=X^3$, then using R, plot the density function and show that the pdf integrates to one"
   ],
   "metadata": {
    "collapsed": false,
    "pycharm": {
     "name": "#%% md\n"
    }
   }
  },
  {
   "cell_type": "code",
   "execution_count": 222,
   "outputs": [
    {
     "data": {
      "text/plain": "    5        \n42⋅x ⋅(1 - x)",
      "image/png": "[encoded data removed]",
      "text/latex": "$\\displaystyle 42 x^{5} \\left(1 - x\\right)$"
     },
     "execution_count": 222,
     "metadata": {},
     "output_type": "execute_result"
    }
   ],
   "source": [
    "pdf = 42*x**5 * (1 - x)\n",
    "pdf"
   ],
   "metadata": {
    "collapsed": false,
    "pycharm": {
     "name": "#%%\n"
    }
   }
  },
  {
   "cell_type": "markdown",
   "source": [
    "integrate to get the cdf"
   ],
   "metadata": {
    "collapsed": false,
    "pycharm": {
     "name": "#%% md\n"
    }
   }
  },
  {
   "cell_type": "code",
   "execution_count": 223,
   "outputs": [
    {
     "data": {
      "text/plain": "     7      6\n- 6⋅x  + 7⋅x ",
      "image/png": "[encoded data removed]",
      "text/latex": "$\\displaystyle - 6 x^{7} + 7 x^{6}$"
     },
     "execution_count": 223,
     "metadata": {},
     "output_type": "execute_result"
    }
   ],
   "source": [
    "cdf = integrate(pdf, x)\n",
    "cdf"
   ],
   "metadata": {
    "collapsed": false,
    "pycharm": {
     "name": "#%%\n"
    }
   }
  },
  {
   "cell_type": "markdown",
   "source": [
    "i take the cdf and substitute in the g inverse which is $y^{1/3}$"
   ],
   "metadata": {
    "collapsed": false,
    "pycharm": {
     "name": "#%% md\n"
    }
   }
  },
  {
   "cell_type": "code",
   "execution_count": 224,
   "outputs": [
    {
     "data": {
      "text/plain": "   2.0      2.33333333333333\n7⋅y    - 6⋅y                ",
      "image/png": "[encoded data removed]",
      "text/latex": "$\\displaystyle 7 y^{2.0} - 6 y^{2.33333333333333}$"
     },
     "execution_count": 224,
     "metadata": {},
     "output_type": "execute_result"
    }
   ],
   "source": [
    "y_cdf = cdf.subs(x, y**(1/3))\n",
    "y_cdf  # correct. matches Tom's notes"
   ],
   "metadata": {
    "collapsed": false,
    "pycharm": {
     "name": "#%%\n"
    }
   }
  },
  {
   "cell_type": "markdown",
   "source": [
    "if i take the derivative of this transform, i get the density function for the transformed variable"
   ],
   "metadata": {
    "collapsed": false,
    "pycharm": {
     "name": "#%% md\n"
    }
   }
  },
  {
   "cell_type": "code",
   "execution_count": 225,
   "outputs": [
    {
     "data": {
      "text/plain": "      1.0         1.33333333333333\n14.0⋅y    - 14.0⋅y                ",
      "image/png": "[encoded data removed]",
      "text/latex": "$\\displaystyle 14.0 y^{1.0} - 14.0 y^{1.33333333333333}$"
     },
     "execution_count": 225,
     "metadata": {},
     "output_type": "execute_result"
    }
   ],
   "source": [
    "y_pdf = diff(y_cdf)\n",
    "y_pdf  # this should be equivalent"
   ],
   "metadata": {
    "collapsed": false,
    "pycharm": {
     "name": "#%%\n"
    }
   }
  },
  {
   "cell_type": "code",
   "execution_count": 226,
   "outputs": [
    {
     "data": {
      "text/plain": "     ⎛     0.333333333333333⎞\n14⋅y⋅⎝1 - y                 ⎠",
      "image/png": "[encoded data removed]",
      "text/latex": "$\\displaystyle 14 y \\left(1 - y^{0.333333333333333}\\right)$"
     },
     "execution_count": 226,
     "metadata": {},
     "output_type": "execute_result"
    }
   ],
   "source": [
    "alt = 14*y**1 * (1 - y**(1/3))  # this is correct per Tom's slides. are they equivalent?\n",
    "alt"
   ],
   "metadata": {
    "collapsed": false,
    "pycharm": {
     "name": "#%%\n"
    }
   }
  },
  {
   "cell_type": "code",
   "execution_count": 227,
   "outputs": [
    {
     "data": {
      "text/plain": "1.00000000000000",
      "image/png": "[encoded data removed]",
      "text/latex": "$\\displaystyle 1.0$"
     },
     "execution_count": 227,
     "metadata": {},
     "output_type": "execute_result"
    }
   ],
   "source": [
    "integrate(y_pdf, (y, 0, 1))"
   ],
   "metadata": {
    "collapsed": false,
    "pycharm": {
     "name": "#%%\n"
    }
   }
  },
  {
   "cell_type": "code",
   "execution_count": 228,
   "outputs": [
    {
     "data": {
      "text/plain": "0.999999999999998",
      "image/png": "[encoded data removed]",
      "text/latex": "$\\displaystyle 0.999999999999998$"
     },
     "execution_count": 228,
     "metadata": {},
     "output_type": "execute_result"
    }
   ],
   "source": [
    "integrate(alt, (y, 0, 1))"
   ],
   "metadata": {
    "collapsed": false,
    "pycharm": {
     "name": "#%%\n"
    }
   }
  },
  {
   "cell_type": "markdown",
   "source": [
    "# slide 74 example\n",
    "suppose that $X$ has the density function\n",
    "$$f_X(x) = 2e^{-7x} 0 < x < \\infty$$\n",
    "\n",
    "Find the pdf of $Y = 4X + 3$, then using R plot the density function show that the pdf integrates to 1"
   ],
   "metadata": {
    "collapsed": false,
    "pycharm": {
     "name": "#%% md\n"
    }
   }
  },
  {
   "cell_type": "code",
   "execution_count": 229,
   "outputs": [
    {
     "data": {
      "text/plain": "   -7⋅x\n7⋅ℯ    ",
      "image/png": "[encoded data removed]",
      "text/latex": "$\\displaystyle 7 e^{- 7 x}$"
     },
     "execution_count": 229,
     "metadata": {},
     "output_type": "execute_result"
    }
   ],
   "source": [
    "pdf = 7*E**(-7*x)\n",
    "pdf"
   ],
   "metadata": {
    "collapsed": false,
    "pycharm": {
     "name": "#%%\n"
    }
   }
  },
  {
   "cell_type": "code",
   "execution_count": 230,
   "outputs": [
    {
     "data": {
      "text/plain": "  -7⋅x\n-ℯ    ",
      "image/png": "[encoded data removed]",
      "text/latex": "$\\displaystyle - e^{- 7 x}$"
     },
     "execution_count": 230,
     "metadata": {},
     "output_type": "execute_result"
    }
   ],
   "source": [
    "cdf = integrate(pdf, x)\n",
    "cdf"
   ],
   "metadata": {
    "collapsed": false,
    "pycharm": {
     "name": "#%%\n"
    }
   }
  },
  {
   "cell_type": "code",
   "execution_count": 231,
   "outputs": [
    {
     "data": {
      "text/plain": "  21   7⋅y\n  ── - ───\n  4     4 \n-ℯ        ",
      "image/png": "[encoded data removed]",
      "text/latex": "$\\displaystyle - e^{\\frac{21}{4} - \\frac{7 y}{4}}$"
     },
     "execution_count": 231,
     "metadata": {},
     "output_type": "execute_result"
    }
   ],
   "source": [
    "y_cdf = cdf.subs(x, (y-3)/4)\n",
    "y_cdf #"
   ],
   "metadata": {
    "collapsed": false,
    "pycharm": {
     "name": "#%%\n"
    }
   }
  },
  {
   "cell_type": "code",
   "execution_count": 232,
   "outputs": [
    {
     "data": {
      "text/plain": "   21   7⋅y\n   ── - ───\n   4     4 \n7⋅ℯ        \n───────────\n     4     ",
      "image/png": "[encoded data removed]",
      "text/latex": "$\\displaystyle \\frac{7 e^{\\frac{21}{4} - \\frac{7 y}{4}}}{4}$"
     },
     "execution_count": 232,
     "metadata": {},
     "output_type": "execute_result"
    }
   ],
   "source": [
    "y_pdf = diff(y_cdf)\n",
    "y_pdf"
   ],
   "metadata": {
    "collapsed": false,
    "pycharm": {
     "name": "#%%\n"
    }
   }
  },
  {
   "cell_type": "code",
   "execution_count": 233,
   "outputs": [
    {
     "data": {
      "text/plain": "1",
      "image/png": "[encoded data removed]",
      "text/latex": "$\\displaystyle 1$"
     },
     "execution_count": 233,
     "metadata": {},
     "output_type": "execute_result"
    }
   ],
   "source": [
    "integrate(y_pdf, (y, 3, oo))  # this looks right because it integrates to 1 but something feels off"
   ],
   "metadata": {
    "collapsed": false,
    "pycharm": {
     "name": "#%%\n"
    }
   }
  },
  {
   "cell_type": "markdown",
   "source": [
    "# Slide 76 examples\n",
    "\n",
    "for the following $Y=X^2$ where $X$ has the density:\n",
    "\n",
    "$$f_X(x) = 30x^2(1-x)^2, 0 < x < 1$$\n",
    "\n",
    "- find the pdf of y\n",
    "- plot the pdf of y in R\n",
    "- show that the pdf integrates to one in R"
   ],
   "metadata": {
    "collapsed": false,
    "pycharm": {
     "name": "#%% md\n"
    }
   }
  },
  {
   "cell_type": "code",
   "execution_count": 234,
   "outputs": [
    {
     "data": {
      "text/plain": "    2        2\n30⋅x ⋅(1 - x) ",
      "image/png": "[encoded data removed]",
      "text/latex": "$\\displaystyle 30 x^{2} \\left(1 - x\\right)^{2}$"
     },
     "execution_count": 234,
     "metadata": {},
     "output_type": "execute_result"
    }
   ],
   "source": [
    "pdf = 30*x**2*(1-x)**2\n",
    "pdf"
   ],
   "metadata": {
    "collapsed": false,
    "pycharm": {
     "name": "#%%\n"
    }
   }
  },
  {
   "cell_type": "code",
   "execution_count": 235,
   "outputs": [
    {
     "data": {
      "text/plain": "   5       4       3\n6⋅x  - 15⋅x  + 10⋅x ",
      "image/png": "[encoded data removed]",
      "text/latex": "$\\displaystyle 6 x^{5} - 15 x^{4} + 10 x^{3}$"
     },
     "execution_count": 235,
     "metadata": {},
     "output_type": "execute_result"
    }
   ],
   "source": [
    "cdf = integrate(pdf, x)\n",
    "cdf"
   ],
   "metadata": {
    "collapsed": false,
    "pycharm": {
     "name": "#%%\n"
    }
   }
  },
  {
   "cell_type": "code",
   "execution_count": 236,
   "outputs": [
    {
     "data": {
      "text/plain": "   5/2       3/2       2\n6⋅y    + 10⋅y    - 15⋅y ",
      "image/png": "[encoded data removed]",
      "text/latex": "$\\displaystyle 6 y^{\\frac{5}{2}} + 10 y^{\\frac{3}{2}} - 15 y^{2}$"
     },
     "execution_count": 236,
     "metadata": {},
     "output_type": "execute_result"
    }
   ],
   "source": [
    "y_cdf = cdf.subs(x, sqrt(y))\n",
    "y_cdf #"
   ],
   "metadata": {
    "collapsed": false,
    "pycharm": {
     "name": "#%%\n"
    }
   }
  },
  {
   "cell_type": "code",
   "execution_count": 237,
   "outputs": [
    {
     "data": {
      "text/plain": "    3/2               \n15⋅y    + 15⋅√y - 30⋅y",
      "image/png": "[encoded data removed]",
      "text/latex": "$\\displaystyle 15 y^{\\frac{3}{2}} + 15 \\sqrt{y} - 30 y$"
     },
     "execution_count": 237,
     "metadata": {},
     "output_type": "execute_result"
    }
   ],
   "source": [
    "y_pdf = diff(y_cdf)\n",
    "y_pdf"
   ],
   "metadata": {
    "collapsed": false,
    "pycharm": {
     "name": "#%%\n"
    }
   }
  },
  {
   "cell_type": "code",
   "execution_count": 238,
   "outputs": [
    {
     "data": {
      "text/plain": "1",
      "image/png": "[encoded data removed]",
      "text/latex": "$\\displaystyle 1$"
     },
     "execution_count": 238,
     "metadata": {},
     "output_type": "execute_result"
    }
   ],
   "source": [
    "integrate(y_pdf, (y, 0, 1))"
   ],
   "metadata": {
    "collapsed": false,
    "pycharm": {
     "name": "#%%\n"
    }
   }
  }
 ],
 "metadata": {
  "kernelspec": {
   "display_name": "Python 3",
   "language": "python",
   "name": "python3"
  },
  "language_info": {
   "codemirror_mode": {
    "name": "ipython",
    "version": 2
   },
   "file_extension": ".py",
   "mimetype": "text/x-python",
   "name": "python",
   "nbconvert_exporter": "python",
   "pygments_lexer": "ipython2",
   "version": "2.7.6"
  }
 },
 "nbformat": 4,
 "nbformat_minor": 0
}