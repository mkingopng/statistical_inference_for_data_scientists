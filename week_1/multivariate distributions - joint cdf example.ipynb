{
 "cells": [
  {
   "cell_type": "code",
   "execution_count": 1,
   "id": "2f07be84",
   "metadata": {},
   "outputs": [],
   "source": [
    "from sympy import *\n",
    "from sympy import Symbol, Rational, expand_func\n",
    "from sympy.abc import * "
   ]
  },
  {
   "cell_type": "markdown",
   "id": "20140156",
   "metadata": {},
   "source": [
    "This notebooks is my solution to the question demonstrated in multivariate distributions, cdf of multivariate variabel function slide, question 2.\n",
    "\n",
    "Please, note that sympy renders equations in a manner that looks odd compared to how a human would write the equation, but the two are mathematically comparable, as evidenced by the fact that the final result is identical to that shown in the video of same title"
   ]
  },
  {
   "cell_type": "code",
   "execution_count": 2,
   "id": "8c3795db",
   "metadata": {},
   "outputs": [
    {
     "data": {
      "text/latex": [
       "$\\displaystyle c \\left(x + 2 y\\right)$"
      ],
      "text/plain": [
       "c*(x + 2*y)"
      ]
     },
     "execution_count": 2,
     "metadata": {},
     "output_type": "execute_result"
    }
   ],
   "source": [
    "func = c*(x + 2*y)\n",
    "func"
   ]
  },
  {
   "cell_type": "markdown",
   "id": "12837e72",
   "metadata": {},
   "source": [
    "substitute x,y for dummy variables u,v, because x,y are in the integrand"
   ]
  },
  {
   "cell_type": "code",
   "execution_count": 3,
   "id": "681e19c7",
   "metadata": {},
   "outputs": [
    {
     "data": {
      "text/latex": [
       "$\\displaystyle c \\left(u + 2 v\\right)$"
      ],
      "text/plain": [
       "c*(u + 2*v)"
      ]
     },
     "execution_count": 3,
     "metadata": {},
     "output_type": "execute_result"
    }
   ],
   "source": [
    "func = func.subs(x, u).subs(y, v)\n",
    "func"
   ]
  },
  {
   "cell_type": "markdown",
   "id": "eda06f6c",
   "metadata": {},
   "source": [
    "integrate with respect to v (y)"
   ]
  },
  {
   "cell_type": "code",
   "execution_count": 4,
   "id": "cbcf5d70",
   "metadata": {},
   "outputs": [
    {
     "data": {
      "text/latex": [
       "$\\displaystyle c u v + c v^{2}$"
      ],
      "text/plain": [
       "c*u*v + c*v**2"
      ]
     },
     "execution_count": 4,
     "metadata": {},
     "output_type": "execute_result"
    }
   ],
   "source": [
    "func2 = integrate(func, v)\n",
    "func2"
   ]
  },
  {
   "cell_type": "code",
   "execution_count": 5,
   "id": "15e3aac8",
   "metadata": {},
   "outputs": [
    {
     "data": {
      "text/latex": [
       "$\\displaystyle c u y + c y^{2}$"
      ],
      "text/plain": [
       "c*u*y + c*y**2"
      ]
     },
     "execution_count": 5,
     "metadata": {},
     "output_type": "execute_result"
    }
   ],
   "source": [
    "func2 = func2.subs(v, y)\n",
    "func2"
   ]
  },
  {
   "cell_type": "markdown",
   "id": "6c336ded",
   "metadata": {},
   "source": [
    "now we integrate this with respect to u (x)"
   ]
  },
  {
   "cell_type": "code",
   "execution_count": 6,
   "id": "1d8f67bc",
   "metadata": {},
   "outputs": [
    {
     "data": {
      "text/latex": [
       "$\\displaystyle \\frac{c u^{2} y}{2} + c u y^{2}$"
      ],
      "text/plain": [
       "c*u**2*y/2 + c*u*y**2"
      ]
     },
     "execution_count": 6,
     "metadata": {},
     "output_type": "execute_result"
    }
   ],
   "source": [
    "func3 = integrate(func2, u)\n",
    "func3"
   ]
  },
  {
   "cell_type": "markdown",
   "id": "cf7f5939",
   "metadata": {},
   "source": [
    "substitute x back in"
   ]
  },
  {
   "cell_type": "code",
   "execution_count": 7,
   "id": "1525a268",
   "metadata": {},
   "outputs": [
    {
     "data": {
      "text/latex": [
       "$\\displaystyle \\frac{c x^{2} y}{2} + c x y^{2}$"
      ],
      "text/plain": [
       "c*x**2*y/2 + c*x*y**2"
      ]
     },
     "execution_count": 7,
     "metadata": {},
     "output_type": "execute_result"
    }
   ],
   "source": [
    "func4 = func3.subs(u, x)\n",
    "func4"
   ]
  },
  {
   "cell_type": "markdown",
   "id": "5e88b63e",
   "metadata": {},
   "source": [
    "substitute in $c=0.25$ $x=1$ and $y=1/4$"
   ]
  },
  {
   "cell_type": "code",
   "execution_count": 9,
   "id": "88e17647",
   "metadata": {},
   "outputs": [
    {
     "data": {
      "text/latex": [
       "$\\displaystyle 0.046875$"
      ],
      "text/plain": [
       "0.0468750000000000"
      ]
     },
     "execution_count": 9,
     "metadata": {},
     "output_type": "execute_result"
    }
   ],
   "source": [
    "func4.subs(x, 1).subs(y, 0.25).subs(c, 0.25)"
   ]
  }
 ],
 "metadata": {
  "kernelspec": {
   "display_name": "Python 3 (ipykernel)",
   "language": "python",
   "name": "python3"
  },
  "language_info": {
   "codemirror_mode": {
    "name": "ipython",
    "version": 3
   },
   "file_extension": ".py",
   "mimetype": "text/x-python",
   "name": "python",
   "nbconvert_exporter": "python",
   "pygments_lexer": "ipython3",
   "version": "3.9.12"
  }
 },
 "nbformat": 4,
 "nbformat_minor": 5
}
