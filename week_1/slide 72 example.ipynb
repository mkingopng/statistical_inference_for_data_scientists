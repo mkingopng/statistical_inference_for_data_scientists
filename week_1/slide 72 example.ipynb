{
 "cells": [
  {
   "cell_type": "code",
   "execution_count": 40,
   "metadata": {
    "collapsed": true,
    "pycharm": {
     "name": "#%%\n"
    }
   },
   "outputs": [],
   "source": [
    "from sympy import *\n",
    "from sympy import symbols\n",
    "init_printing()\n",
    "from Cython import declare\n",
    "from sympy.stats import Expectation, Normal, Probability, Poisson\n",
    "from sympy import symbols, Integral, Sum, Rational, E"
   ]
  },
  {
   "cell_type": "code",
   "execution_count": 41,
   "outputs": [],
   "source": [
    "n, c, t, x, y, z = symbols(\"n, c, t, x, y, z\")\n",
    "mu = symbols(\"mu\")\n",
    "sigma = symbols(\"sigma\", positive=True)\n"
   ],
   "metadata": {
    "collapsed": false,
    "pycharm": {
     "name": "#%%\n"
    }
   }
  },
  {
   "cell_type": "markdown",
   "source": [
    "Suppose that X has the density function\n",
    "\n",
    "$$f_X(x) = 42x^5(1-x), 0 < x < 1$$\n",
    "\n",
    "find the pdf of $Y=X^3$, then using R, plot the density function and show that the pdf integrates to one"
   ],
   "metadata": {
    "collapsed": false,
    "pycharm": {
     "name": "#%% md\n"
    }
   }
  },
  {
   "cell_type": "code",
   "execution_count": 42,
   "outputs": [
    {
     "data": {
      "text/plain": "    5        \n42⋅x ⋅(1 - x)",
      "image/png": "[encoded data removed]",
      "text/latex": "$\\displaystyle 42 x^{5} \\left(1 - x\\right)$"
     },
     "execution_count": 42,
     "metadata": {},
     "output_type": "execute_result"
    }
   ],
   "source": [
    "pdf = 42*x**5 * (1 - x)\n",
    "pdf"
   ],
   "metadata": {
    "collapsed": false,
    "pycharm": {
     "name": "#%%\n"
    }
   }
  },
  {
   "cell_type": "markdown",
   "source": [
    "integrate to get the cdf"
   ],
   "metadata": {
    "collapsed": false,
    "pycharm": {
     "name": "#%% md\n"
    }
   }
  },
  {
   "cell_type": "code",
   "execution_count": 43,
   "outputs": [
    {
     "data": {
      "text/plain": "     7      6\n- 6⋅x  + 7⋅x ",
      "image/png": "[encoded data removed]",
      "text/latex": "$\\displaystyle - 6 x^{7} + 7 x^{6}$"
     },
     "execution_count": 43,
     "metadata": {},
     "output_type": "execute_result"
    }
   ],
   "source": [
    "cdf = integrate(pdf, x)\n",
    "cdf"
   ],
   "metadata": {
    "collapsed": false,
    "pycharm": {
     "name": "#%%\n"
    }
   }
  },
  {
   "cell_type": "markdown",
   "source": [
    "i take the cdf and substitute in the g inverse which is $y^{1/3}$"
   ],
   "metadata": {
    "collapsed": false,
    "pycharm": {
     "name": "#%% md\n"
    }
   }
  },
  {
   "cell_type": "code",
   "execution_count": 44,
   "outputs": [
    {
     "data": {
      "text/plain": "   2.0      2.33333333333333\n7⋅y    - 6⋅y                ",
      "image/png": "[encoded data removed]",
      "text/latex": "$\\displaystyle 7 y^{2.0} - 6 y^{2.33333333333333}$"
     },
     "execution_count": 44,
     "metadata": {},
     "output_type": "execute_result"
    }
   ],
   "source": [
    "y_cdf = cdf.subs(x, y**(1/3))\n",
    "y_cdf  # correct. matches Tom's notes"
   ],
   "metadata": {
    "collapsed": false,
    "pycharm": {
     "name": "#%%\n"
    }
   }
  },
  {
   "cell_type": "markdown",
   "source": [
    "if i take the derivative of this transform, i get the density function for the transformed variable"
   ],
   "metadata": {
    "collapsed": false,
    "pycharm": {
     "name": "#%% md\n"
    }
   }
  },
  {
   "cell_type": "code",
   "execution_count": 45,
   "outputs": [
    {
     "data": {
      "text/plain": "      1.0         1.33333333333333\n14.0⋅y    - 14.0⋅y                ",
      "image/png": "[encoded data removed]",
      "text/latex": "$\\displaystyle 14.0 y^{1.0} - 14.0 y^{1.33333333333333}$"
     },
     "execution_count": 45,
     "metadata": {},
     "output_type": "execute_result"
    }
   ],
   "source": [
    "y_pdf = diff(y_cdf)\n",
    "y_pdf  # this should be equivalent"
   ],
   "metadata": {
    "collapsed": false,
    "pycharm": {
     "name": "#%%\n"
    }
   }
  },
  {
   "cell_type": "code",
   "execution_count": 46,
   "outputs": [
    {
     "data": {
      "text/plain": "     ⎛     0.333333333333333⎞\n14⋅y⋅⎝1 - y                 ⎠",
      "image/png": "[encoded data removed]",
      "text/latex": "$\\displaystyle 14 y \\left(1 - y^{0.333333333333333}\\right)$"
     },
     "execution_count": 46,
     "metadata": {},
     "output_type": "execute_result"
    }
   ],
   "source": [
    "alt = 14*y**1 * (1 - y**(1/3))  # this is correct per Tom's slides. are they equivalent?\n",
    "alt"
   ],
   "metadata": {
    "collapsed": false,
    "pycharm": {
     "name": "#%%\n"
    }
   }
  },
  {
   "cell_type": "code",
   "execution_count": 47,
   "outputs": [
    {
     "data": {
      "text/plain": "1.00000000000000",
      "image/png": "[encoded data removed]",
      "text/latex": "$\\displaystyle 1.0$"
     },
     "execution_count": 47,
     "metadata": {},
     "output_type": "execute_result"
    }
   ],
   "source": [
    "integrate(y_pdf, (y, 0, 1))"
   ],
   "metadata": {
    "collapsed": false,
    "pycharm": {
     "name": "#%%\n"
    }
   }
  },
  {
   "cell_type": "code",
   "execution_count": 48,
   "outputs": [
    {
     "data": {
      "text/plain": "0.999999999999998",
      "image/png": "[encoded data removed]",
      "text/latex": "$\\displaystyle 0.999999999999998$"
     },
     "execution_count": 48,
     "metadata": {},
     "output_type": "execute_result"
    }
   ],
   "source": [
    "integrate(alt, (y, 0, 1))"
   ],
   "metadata": {
    "collapsed": false,
    "pycharm": {
     "name": "#%%\n"
    }
   }
  }
 ],
 "metadata": {
  "kernelspec": {
   "display_name": "Python 3",
   "language": "python",
   "name": "python3"
  },
  "language_info": {
   "codemirror_mode": {
    "name": "ipython",
    "version": 2
   },
   "file_extension": ".py",
   "mimetype": "text/x-python",
   "name": "python",
   "nbconvert_exporter": "python",
   "pygments_lexer": "ipython2",
   "version": "2.7.6"
  }
 },
 "nbformat": 4,
 "nbformat_minor": 0
}