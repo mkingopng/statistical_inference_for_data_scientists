{
 "cells": [
  {
   "cell_type": "markdown",
   "metadata": {
    "pycharm": {
     "name": "#%% md\n"
    }
   },
   "source": [
    "#ref slide 89, week 1 class notes:\n",
    "\n",
    "Apple is planning to host a live webcast of the next WWDC conference. The erver has a maximum capacity of 3 million people who can watch the live webcast. Let random variable X denote the number of poeple (measured in millions) that want to watch the live webcast, with pdf \n",
    "\n",
    "$f(x) = \\dfrac{x^2}{9}$ for $0 < x < 3$\n",
    "\n",
    "Find the expected number of people who wan to watch the webcast"
   ]
  },
  {
   "cell_type": "code",
   "execution_count": 1,
   "metadata": {
    "pycharm": {
     "name": "#%%\n"
    }
   },
   "outputs": [],
   "source": [
    "from sympy import *\n",
    "from sympy import symbols\n",
    "init_printing()\n",
    "from Cython import declare\n",
    "from sympy.stats import Expectation, Normal, Probability, Poisson\n",
    "from sympy import symbols, Integral, Sum\n"
   ]
  },
  {
   "cell_type": "code",
   "execution_count": 2,
   "metadata": {
    "pycharm": {
     "name": "#%%\n"
    }
   },
   "outputs": [],
   "source": [
    "x, y = symbols('x y')\n",
    "mu = symbols(\"mu\")\n",
    "sigma = symbols(\"sigma\", positive=True)"
   ]
  },
  {
   "cell_type": "code",
   "execution_count": 3,
   "metadata": {
    "pycharm": {
     "name": "#%%\n"
    }
   },
   "outputs": [
    {
     "data": {
      "text/plain": " 2\nx \n──\n9 ",
      "image/png": "[encoded data removed]",
      "text/latex": "$\\displaystyle \\frac{x^{2}}{9}$"
     },
     "execution_count": 3,
     "metadata": {},
     "output_type": "execute_result"
    }
   ],
   "source": [
    "density = (x**2)/9\n",
    "density"
   ]
  },
  {
   "cell_type": "code",
   "execution_count": 4,
   "metadata": {
    "pycharm": {
     "name": "#%%\n"
    }
   },
   "outputs": [
    {
     "data": {
      "text/plain": "3      \n⌠      \n⎮  2   \n⎮ x    \n⎮ ── dx\n⎮ 9    \n⌡      \n0      ",
      "image/png": "[encoded data removed]",
      "text/latex": "$\\displaystyle \\int\\limits_{0}^{3} \\frac{x^{2}}{9}\\, dx$"
     },
     "execution_count": 4,
     "metadata": {},
     "output_type": "execute_result"
    }
   ],
   "source": [
    "total_area = Integral(density, (x, 0, 3))\n",
    "total_area"
   ]
  },
  {
   "cell_type": "code",
   "execution_count": 5,
   "metadata": {
    "pycharm": {
     "name": "#%%\n"
    }
   },
   "outputs": [
    {
     "data": {
      "text/plain": "1",
      "image/png": "[encoded data removed]",
      "text/latex": "$\\displaystyle 1$"
     },
     "execution_count": 5,
     "metadata": {},
     "output_type": "execute_result"
    }
   ],
   "source": [
    "total_area.doit()  # so we know its correct because its integrating to 1"
   ]
  },
  {
   "cell_type": "markdown",
   "source": [
    "The expectation is the mean, which is 2.25m as a decimal or 9/4 as a fraction"
   ],
   "metadata": {
    "collapsed": false,
    "pycharm": {
     "name": "#%% md\n"
    }
   }
  },
  {
   "cell_type": "code",
   "execution_count": 6,
   "outputs": [
    {
     "data": {
      "text/plain": "2.25",
      "image/png": "[encoded data removed]",
      "text/latex": "$\\displaystyle 2.25$"
     },
     "execution_count": 6,
     "metadata": {},
     "output_type": "execute_result"
    }
   ],
   "source": [
    "expectation = Integral(x*density, (x, 0, 3)).doit()\n",
    "# expectation\n",
    "float(expectation)  # the expectaion or mean"
   ],
   "metadata": {
    "collapsed": false,
    "pycharm": {
     "name": "#%%\n"
    }
   }
  },
  {
   "cell_type": "code",
   "execution_count": 7,
   "metadata": {
    "pycharm": {
     "name": "#%%\n"
    }
   },
   "outputs": [
    {
     "data": {
      "text/plain": "5.4",
      "image/png": "[encoded data removed]",
      "text/latex": "$\\displaystyle 5.4$"
     },
     "execution_count": 7,
     "metadata": {},
     "output_type": "execute_result"
    }
   ],
   "source": [
    "expected_square = Integral((x**2)*density, (x, 0, 3)).doit()\n",
    "float(expected_square)"
   ]
  },
  {
   "cell_type": "code",
   "execution_count": 8,
   "outputs": [
    {
     "data": {
      "text/plain": "0.3375",
      "image/png": "[encoded data removed]",
      "text/latex": "$\\displaystyle 0.3375$"
     },
     "execution_count": 8,
     "metadata": {},
     "output_type": "execute_result"
    }
   ],
   "source": [
    "variance = expected_square - expectation**2\n",
    "# variance\n",
    "float(variance)  # the variance"
   ],
   "metadata": {
    "collapsed": false,
    "pycharm": {
     "name": "#%%\n"
    }
   }
  },
  {
   "cell_type": "markdown",
   "source": [
    "the variance is the second moment. The expected value (mean) and variance are correct per the notes."
   ],
   "metadata": {
    "collapsed": false,
    "pycharm": {
     "name": "#%% md\n"
    }
   }
  },
  {
   "cell_type": "code",
   "execution_count": 9,
   "outputs": [
    {
     "data": {
      "text/plain": "0.5809475019311126",
      "image/png": "[encoded data removed]",
      "text/latex": "$\\displaystyle 0.580947501931113$"
     },
     "execution_count": 9,
     "metadata": {},
     "output_type": "execute_result"
    }
   ],
   "source": [
    "sd = sqrt(variance)\n",
    "float(sd)  # this is theoretically correct but I struffle with it a little"
   ],
   "metadata": {
    "collapsed": false,
    "pycharm": {
     "name": "#%%\n"
    }
   }
  },
  {
   "cell_type": "markdown",
   "metadata": {
    "pycharm": {
     "name": "#%% md\n"
    }
   },
   "source": [
    "Show that if a pdf is symmetric about a point a, then $\\alpha_3 = 0$. This means show that the third moment is 0, which is kurtosis = 0. Hint: show that $\\mu_3 = 0$ for a general density function $f(x)$"
   ]
  }
 ],
 "metadata": {
  "kernelspec": {
   "display_name": "Python 3 (ipykernel)",
   "language": "python",
   "name": "python3"
  },
  "language_info": {
   "codemirror_mode": {
    "name": "ipython",
    "version": 3
   },
   "file_extension": ".py",
   "mimetype": "text/x-python",
   "name": "python",
   "nbconvert_exporter": "python",
   "pygments_lexer": "ipython3",
   "version": "3.9.12"
  }
 },
 "nbformat": 4,
 "nbformat_minor": 1
}