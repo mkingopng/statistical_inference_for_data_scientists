{
 "cells": [
  {
   "cell_type": "code",
   "execution_count": 1,
   "id": "4bc5e3de",
   "metadata": {},
   "outputs": [],
   "source": [
    "from sympy import *\n",
    "from sympy import Symbol , Rational, binomial, expand_func\n",
    "from sympy.abc import * \n",
    "from scipy.stats import binom"
   ]
  },
  {
   "cell_type": "markdown",
   "id": "867dc3cf",
   "metadata": {},
   "source": [
    "define the function"
   ]
  },
  {
   "cell_type": "code",
   "execution_count": 2,
   "id": "9559a464",
   "metadata": {},
   "outputs": [
    {
     "data": {
      "text/latex": [
       "$\\displaystyle c \\left(x + 2 y\\right)$"
      ],
      "text/plain": [
       "c*(x + 2*y)"
      ]
     },
     "execution_count": 2,
     "metadata": {},
     "output_type": "execute_result"
    }
   ],
   "source": [
    "function = c*(x+2*y)\n",
    "function"
   ]
  },
  {
   "cell_type": "markdown",
   "id": "c5619d2d",
   "metadata": {},
   "source": [
    "integrate for $x$"
   ]
  },
  {
   "cell_type": "code",
   "execution_count": 3,
   "id": "23fbd2d4",
   "metadata": {},
   "outputs": [
    {
     "data": {
      "text/latex": [
       "$\\displaystyle \\frac{c x^{2}}{2} + 2 c x y$"
      ],
      "text/plain": [
       "c*x**2/2 + 2*c*x*y"
      ]
     },
     "execution_count": 3,
     "metadata": {},
     "output_type": "execute_result"
    }
   ],
   "source": [
    "expr = integrate(function, x)\n",
    "expr"
   ]
  },
  {
   "cell_type": "markdown",
   "id": "1451320e",
   "metadata": {},
   "source": [
    "substitute $x=2$, because 2 is the upper bound of the range for x"
   ]
  },
  {
   "cell_type": "code",
   "execution_count": 4,
   "id": "c123087a",
   "metadata": {},
   "outputs": [
    {
     "data": {
      "text/latex": [
       "$\\displaystyle 4 c y + 2 c$"
      ],
      "text/plain": [
       "4*c*y + 2*c"
      ]
     },
     "execution_count": 4,
     "metadata": {},
     "output_type": "execute_result"
    }
   ],
   "source": [
    "expr2 = expr.subs(x, 2)\n",
    "expr2"
   ]
  },
  {
   "cell_type": "markdown",
   "id": "38d03eb7",
   "metadata": {},
   "source": [
    "integrate for $y$"
   ]
  },
  {
   "cell_type": "code",
   "execution_count": 5,
   "id": "3e49ff34",
   "metadata": {},
   "outputs": [
    {
     "data": {
      "text/latex": [
       "$\\displaystyle 2 c y^{2} + 2 c y$"
      ],
      "text/plain": [
       "2*c*y**2 + 2*c*y"
      ]
     },
     "execution_count": 5,
     "metadata": {},
     "output_type": "execute_result"
    }
   ],
   "source": [
    "expr3 = integrate(expr2, y)\n",
    "expr3"
   ]
  },
  {
   "cell_type": "markdown",
   "id": "f4698426",
   "metadata": {},
   "source": [
    "substitute $y=1$ because 1 is the upper bound of the range for $y$"
   ]
  },
  {
   "cell_type": "code",
   "execution_count": 7,
   "id": "5bb2722b",
   "metadata": {},
   "outputs": [
    {
     "data": {
      "text/latex": [
       "$\\displaystyle 4 c$"
      ],
      "text/plain": [
       "4*c"
      ]
     },
     "execution_count": 7,
     "metadata": {},
     "output_type": "execute_result"
    }
   ],
   "source": [
    "expr4 = expr3.subs(y,1)\n",
    "expr4"
   ]
  },
  {
   "cell_type": "markdown",
   "id": "62b244df",
   "metadata": {},
   "source": [
    "By definition this function must = 1 to be a properly defined denisty function. \n",
    "\n",
    "Now we can now solve for c. \n",
    "\n",
    "**nb**: the solve() function assumes that the equation = 0, so we have to take the expression - 1 in order to get the correct result"
   ]
  },
  {
   "cell_type": "code",
   "execution_count": 13,
   "id": "7fba61eb",
   "metadata": {},
   "outputs": [
    {
     "data": {
      "text/plain": [
       "[1/4]"
      ]
     },
     "execution_count": 13,
     "metadata": {},
     "output_type": "execute_result"
    }
   ],
   "source": [
    "solve(4*c - 1, c)"
   ]
  },
  {
   "cell_type": "markdown",
   "id": "bb930dfc",
   "metadata": {},
   "source": [
    "therefore $c = 0.25$"
   ]
  }
 ],
 "metadata": {
  "kernelspec": {
   "display_name": "Python 3 (ipykernel)",
   "language": "python",
   "name": "python3"
  },
  "language_info": {
   "codemirror_mode": {
    "name": "ipython",
    "version": 3
   },
   "file_extension": ".py",
   "mimetype": "text/x-python",
   "name": "python",
   "nbconvert_exporter": "python",
   "pygments_lexer": "ipython3",
   "version": "3.9.11"
  }
 },
 "nbformat": 4,
 "nbformat_minor": 5
}
