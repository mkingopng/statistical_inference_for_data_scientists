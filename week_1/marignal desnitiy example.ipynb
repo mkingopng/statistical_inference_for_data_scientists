{
 "cells": [
  {
   "cell_type": "code",
   "execution_count": 11,
   "metadata": {
    "collapsed": true,
    "pycharm": {
     "name": "#%%\n"
    }
   },
   "outputs": [],
   "source": [
    "from __future__ import division\n",
    "from sympy import *\n",
    "from sympy.stats import P, E, variance, Die, Normal\n",
    "from sympy import Eq, simplify"
   ]
  },
  {
   "cell_type": "code",
   "execution_count": 12,
   "outputs": [],
   "source": [
    "e, x, y = symbols('e x y')\n",
    "mu = symbols(\"mu\")\n",
    "sigma = symbols(\"sigma\", positive=True)\n",
    "theta = symbols(\"theta\", positive=True)"
   ],
   "metadata": {
    "collapsed": false,
    "pycharm": {
     "name": "#%%\n"
    }
   }
  },
  {
   "cell_type": "code",
   "execution_count": 15,
   "outputs": [
    {
     "data": {
      "text/plain": "0.5/(e*y)**(x*y)",
      "text/latex": "$\\displaystyle 0.5 \\left(e y\\right)^{- x y}$"
     },
     "execution_count": 15,
     "metadata": {},
     "output_type": "execute_result"
    }
   ],
   "source": [
    "expr = (1/2) * (y * e) ** (-x * y)\n",
    "expr"
   ],
   "metadata": {
    "collapsed": false,
    "pycharm": {
     "name": "#%%\n"
    }
   }
  },
  {
   "cell_type": "code",
   "execution_count": 16,
   "outputs": [
    {
     "data": {
      "text/plain": "Piecewise((-0.5/(y*(e*y)**(x*y)*log(e*y)), Ne(y*log(e*y), 0)), (0.5*x, True))",
      "text/latex": "$\\displaystyle \\begin{cases} - \\frac{0.5 \\left(e y\\right)^{- x y}}{y \\log{\\left(e y \\right)}} & \\text{for}\\: y \\log{\\left(e y \\right)} \\neq 0 \\\\0.5 x & \\text{otherwise} \\end{cases}$"
     },
     "execution_count": 16,
     "metadata": {},
     "output_type": "execute_result"
    }
   ],
   "source": [
    "integrate(expr, x)"
   ],
   "metadata": {
    "collapsed": false,
    "pycharm": {
     "name": "#%%\n"
    }
   }
  }
 ],
 "metadata": {
  "kernelspec": {
   "display_name": "Python 3",
   "language": "python",
   "name": "python3"
  },
  "language_info": {
   "codemirror_mode": {
    "name": "ipython",
    "version": 2
   },
   "file_extension": ".py",
   "mimetype": "text/x-python",
   "name": "python",
   "nbconvert_exporter": "python",
   "pygments_lexer": "ipython2",
   "version": "2.7.6"
  }
 },
 "nbformat": 4,
 "nbformat_minor": 0
}