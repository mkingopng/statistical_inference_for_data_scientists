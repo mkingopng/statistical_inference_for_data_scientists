{
 "cells": [
  {
   "cell_type": "code",
   "execution_count": 1,
   "id": "b0787d29",
   "metadata": {
    "pycharm": {
     "name": "#%%\n"
    }
   },
   "outputs": [],
   "source": [
    "from Cython import declare\n",
    "from sympy import *\n",
    "from sympy import symbols\n",
    "init_printing()"
   ]
  },
  {
   "cell_type": "code",
   "execution_count": 2,
   "id": "637cf23f",
   "metadata": {
    "pycharm": {
     "name": "#%%\n"
    }
   },
   "outputs": [
    {
     "data": {
      "text/plain": "<object at 0x7f531e93dc50>"
     },
     "execution_count": 2,
     "metadata": {},
     "output_type": "execute_result"
    }
   ],
   "source": [
    "x, y = symbols('x y')\n",
    "declare('x', interval=(0, 1))"
   ]
  },
  {
   "cell_type": "code",
   "execution_count": 3,
   "id": "e433a4d9",
   "metadata": {
    "pycharm": {
     "name": "#%%\n"
    }
   },
   "outputs": [
    {
     "data": {
      "text/plain": "     2        4\n105⋅x ⋅(1 - x) ",
      "image/png": "[encoded data removed]",
      "text/latex": "$\\displaystyle 105 x^{2} \\left(1 - x\\right)^{4}$"
     },
     "execution_count": 3,
     "metadata": {},
     "output_type": "execute_result"
    }
   ],
   "source": [
    "density = 105 * x**2 * (1-x)**4\n",
    "density"
   ]
  },
  {
   "cell_type": "code",
   "execution_count": 4,
   "id": "67c35e04",
   "metadata": {
    "pycharm": {
     "name": "#%%\n"
    }
   },
   "outputs": [
    {
     "data": {
      "text/plain": "1                   \n⌠                   \n⎮      2        4   \n⎮ 105⋅x ⋅(1 - x)  dx\n⌡                   \n0                   ",
      "image/png": "[encoded data removed]",
      "text/latex": "$\\displaystyle \\int\\limits_{0}^{1} 105 x^{2} \\left(1 - x\\right)^{4}\\, dx$"
     },
     "execution_count": 4,
     "metadata": {},
     "output_type": "execute_result"
    }
   ],
   "source": [
    "total_area = Integral(density, (x, 0, 1))\n",
    "total_area"
   ]
  },
  {
   "cell_type": "code",
   "execution_count": 5,
   "id": "fbd278ab",
   "metadata": {
    "pycharm": {
     "name": "#%%\n"
    }
   },
   "outputs": [
    {
     "data": {
      "text/plain": "1",
      "image/png": "[encoded data removed]",
      "text/latex": "$\\displaystyle 1$"
     },
     "execution_count": 5,
     "metadata": {},
     "output_type": "execute_result"
    }
   ],
   "source": [
    "total_area.doit()"
   ]
  },
  {
   "cell_type": "code",
   "execution_count": 6,
   "id": "dc5c8819",
   "metadata": {
    "pycharm": {
     "name": "#%%\n"
    }
   },
   "outputs": [
    {
     "data": {
      "text/plain": "0.432064000000001",
      "image/png": "[encoded data removed]",
      "text/latex": "$\\displaystyle 0.432064000000001$"
     },
     "execution_count": 6,
     "metadata": {},
     "output_type": "execute_result"
    }
   ],
   "source": [
    "p_02_04 = Integral(density, (x, 0.2, 0.4)).doit()\n",
    "p_02_04"
   ]
  },
  {
   "cell_type": "code",
   "execution_count": 8,
   "outputs": [
    {
     "data": {
      "text/plain": "    7       6        5        4       3\n15⋅x  - 70⋅x  + 126⋅x  - 105⋅x  + 35⋅x ",
      "image/png": "[encoded data removed]",
      "text/latex": "$\\displaystyle 15 x^{7} - 70 x^{6} + 126 x^{5} - 105 x^{4} + 35 x^{3}$"
     },
     "execution_count": 8,
     "metadata": {},
     "output_type": "execute_result"
    }
   ],
   "source": [
    "indefinite = Integral(density).doit()\n",
    "indefinite"
   ],
   "metadata": {
    "collapsed": false,
    "pycharm": {
     "name": "#%%\n"
    }
   }
  },
  {
   "cell_type": "code",
   "execution_count": 10,
   "outputs": [
    {
     "data": {
      "text/plain": "0",
      "image/png": "[encoded data removed]",
      "text/latex": "$\\displaystyle 0$"
     },
     "execution_count": 10,
     "metadata": {},
     "output_type": "execute_result"
    }
   ],
   "source": [
    "i_o = indefinite.subs(x,0)\n",
    "i_o"
   ],
   "metadata": {
    "collapsed": false,
    "pycharm": {
     "name": "#%%\n"
    }
   }
  },
  {
   "cell_type": "code",
   "execution_count": 11,
   "outputs": [
    {
     "data": {
      "text/plain": "    7       6        5        4       3\n15⋅x  - 70⋅x  + 126⋅x  - 105⋅x  + 35⋅x ",
      "image/png": "[encoded data removed]",
      "text/latex": "$\\displaystyle 15 x^{7} - 70 x^{6} + 126 x^{5} - 105 x^{4} + 35 x^{3}$"
     },
     "execution_count": 11,
     "metadata": {},
     "output_type": "execute_result"
    }
   ],
   "source": [
    "cdf = indefinite - i_o\n",
    "cdf"
   ],
   "metadata": {
    "collapsed": false,
    "pycharm": {
     "name": "#%%\n"
    }
   }
  },
  {
   "cell_type": "code",
   "execution_count": 12,
   "outputs": [
    {
     "data": {
      "text/plain": "0.580096000000001",
      "image/png": "[encoded data removed]",
      "text/latex": "$\\displaystyle 0.580096000000001$"
     },
     "execution_count": 12,
     "metadata": {},
     "output_type": "execute_result"
    }
   ],
   "source": [
    "cdf_04 = cdf.subs(x, 0.4)\n",
    "cdf_04"
   ],
   "metadata": {
    "collapsed": false,
    "pycharm": {
     "name": "#%%\n"
    }
   }
  },
  {
   "cell_type": "code",
   "execution_count": 14,
   "outputs": [
    {
     "data": {
      "text/plain": "0.432064000000001",
      "image/png": "[encoded data removed]",
      "text/latex": "$\\displaystyle 0.432064000000001$"
     },
     "execution_count": 14,
     "metadata": {},
     "output_type": "execute_result"
    }
   ],
   "source": [
    "cdf_02 = cdf.subs(x, 0.2)\n",
    "cdf_04 - cdf_02"
   ],
   "metadata": {
    "collapsed": false,
    "pycharm": {
     "name": "#%%\n"
    }
   }
  },
  {
   "cell_type": "code",
   "execution_count": 7,
   "id": "3b69e3b7",
   "metadata": {
    "pycharm": {
     "name": "#%%\n"
    }
   },
   "outputs": [
    {
     "data": {
      "text/plain": "3/8",
      "image/png": "[encoded data removed]",
      "text/latex": "$\\displaystyle \\frac{3}{8}$"
     },
     "execution_count": 7,
     "metadata": {},
     "output_type": "execute_result"
    }
   ],
   "source": [
    "expectation = Integral(x*density, (x, 0, 1)).doit()\n",
    "expectation"
   ]
  },
  {
   "cell_type": "code",
   "execution_count": 16,
   "id": "ae138aa2",
   "metadata": {
    "pycharm": {
     "name": "#%%\n"
    }
   },
   "outputs": [
    {
     "data": {
      "text/plain": "1/6",
      "image/png": "[encoded data removed]",
      "text/latex": "$\\displaystyle \\frac{1}{6}$"
     },
     "execution_count": 16,
     "metadata": {},
     "output_type": "execute_result"
    }
   ],
   "source": [
    "expected_square = Integral((x**2)*density, (x, 0, 1)).doit()\n",
    "expected_square"
   ]
  }
 ],
 "metadata": {
  "kernelspec": {
   "display_name": "Python 3 (ipykernel)",
   "language": "python",
   "name": "python3"
  },
  "language_info": {
   "codemirror_mode": {
    "name": "ipython",
    "version": 3
   },
   "file_extension": ".py",
   "mimetype": "text/x-python",
   "name": "python",
   "nbconvert_exporter": "python",
   "pygments_lexer": "ipython3",
   "version": "3.9.12"
  }
 },
 "nbformat": 4,
 "nbformat_minor": 5
}