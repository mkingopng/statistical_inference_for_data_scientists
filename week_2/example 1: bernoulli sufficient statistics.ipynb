{
 "cells": [
  {
   "cell_type": "markdown",
   "source": [
    "ref slide 13"
   ],
   "metadata": {
    "collapsed": false,
    "pycharm": {
     "name": "#%% md\n"
    }
   }
  },
  {
   "cell_type": "code",
   "execution_count": 1,
   "outputs": [],
   "source": [
    "from sympy import *\n",
    "init_printing()\n",
    "from Cython import declare\n",
    "from sympy.stats import P, E, Expectation, Normal, Probability, Poisson, Binomial, Bernoulli, ContinuousRV, density, Binomial, Geometric, Zeta, Beta, Cauchy, ChiSquared, Exponential, Gamma, Normal\n",
    "from sympy import symbols, Integral, Sum, Rational, E, Eq, simplify, oo, S, bernoulli"
   ],
   "metadata": {
    "collapsed": false,
    "pycharm": {
     "name": "#%%\n"
    }
   }
  },
  {
   "cell_type": "code",
   "execution_count": 2,
   "metadata": {
    "pycharm": {
     "name": "#%%\n"
    }
   },
   "outputs": [],
   "source": [
    "i, k, m, n, c, t, x, y, z = symbols(\"i, k, m, n, c, t, x, y, z\")\n",
    "mu = symbols(\"mu\")\n",
    "sigma = symbols(\"sigma\", positive=True)\n",
    "theta = symbols(\"theta\", positive=True)"
   ]
  },
  {
   "cell_type": "code",
   "execution_count": 3,
   "metadata": {
    "pycharm": {
     "name": "#%%\n"
    }
   },
   "outputs": [
    {
     "data": {
      "text/plain": "⎛n⎞\n⎜ ⎟\n⎝t⎠",
      "image/png": "[encoded data removed]",
      "text/latex": "$\\displaystyle {\\binom{n}{t}}$"
     },
     "execution_count": 3,
     "metadata": {},
     "output_type": "execute_result"
    }
   ],
   "source": [
    "choose = binomial(n, t)\n",
    "choose"
   ]
  },
  {
   "cell_type": "code",
   "execution_count": 4,
   "metadata": {
    "pycharm": {
     "name": "#%%\n"
    }
   },
   "outputs": [
    {
     "data": {
      "text/plain": " t        n - t ⎛n⎞\nθ ⋅(1 - θ)     ⋅⎜ ⎟\n                ⎝t⎠",
      "image/png": "[encoded data removed]",
      "text/latex": "$\\displaystyle \\theta^{t} \\left(1 - \\theta\\right)^{n - t} {\\binom{n}{t}}$"
     },
     "execution_count": 4,
     "metadata": {},
     "output_type": "execute_result"
    }
   ],
   "source": [
    "pmf = binomial(n, t) * theta ** t * (1 - theta) ** (n - t)\n",
    "pmf  # this is the form shown in the formula sheet"
   ]
  },
  {
   "cell_type": "code",
   "execution_count": 5,
   "metadata": {
    "pycharm": {
     "name": "#%%\n"
    }
   },
   "outputs": [
    {
     "data": {
      "text/plain": "  n    \n─┬─┬─  \n │ │  k\n │ │   \ni = 1  ",
      "image/png": "[encoded data removed]",
      "text/latex": "$\\displaystyle \\prod_{i=1}^{n} k$"
     },
     "execution_count": 5,
     "metadata": {},
     "output_type": "execute_result"
    }
   ],
   "source": [
    "Product(k, (i, 1, n))"
   ]
  },
  {
   "cell_type": "code",
   "execution_count": 6,
   "metadata": {
    "pycharm": {
     "name": "#%%\n"
    }
   },
   "outputs": [
    {
     "data": {
      "text/plain": " t        n - t\nθ ⋅(1 - θ)     ",
      "image/png": "[encoded data removed]",
      "text/latex": "$\\displaystyle \\theta^{t} \\left(1 - \\theta\\right)^{n - t}$"
     },
     "execution_count": 6,
     "metadata": {},
     "output_type": "execute_result"
    }
   ],
   "source": [
    "numerator = theta ** t * (1 - theta)**(n-t)\n",
    "numerator  # missing some steps required to come up with the numerator. based on the general form of the bernoulli"
   ]
  },
  {
   "cell_type": "code",
   "execution_count": 8,
   "outputs": [
    {
     "data": {
      "text/plain": "       -n + t        n - t\n(1 - θ)      ⋅(1 - θ)     \n──────────────────────────\n           ⎛n⎞            \n           ⎜ ⎟            \n           ⎝t⎠            ",
      "image/png": "[encoded data removed]",
      "text/latex": "$\\displaystyle \\frac{\\left(1 - \\theta\\right)^{- n + t} \\left(1 - \\theta\\right)^{n - t}}{{\\binom{n}{t}}}$"
     },
     "execution_count": 8,
     "metadata": {},
     "output_type": "execute_result"
    }
   ],
   "source": [
    "numerator/pmf"
   ],
   "metadata": {
    "collapsed": false,
    "pycharm": {
     "name": "#%%\n"
    }
   }
  },
  {
   "cell_type": "code",
   "execution_count": 7,
   "metadata": {
    "pycharm": {
     "name": "#%%\n"
    }
   },
   "outputs": [
    {
     "data": {
      "text/plain": " 1 \n───\n⎛n⎞\n⎜ ⎟\n⎝t⎠",
      "image/png": "[encoded data removed]",
      "text/latex": "$\\displaystyle \\frac{1}{{\\binom{n}{t}}}$"
     },
     "execution_count": 7,
     "metadata": {},
     "output_type": "execute_result"
    }
   ],
   "source": [
    "simplify(numerator / pmf)  # this works and gives the correct answer"
   ]
  }
 ],
 "metadata": {
  "kernelspec": {
   "display_name": "Python 3 (ipykernel)",
   "language": "python",
   "name": "python3"
  },
  "language_info": {
   "codemirror_mode": {
    "name": "ipython",
    "version": 3
   },
   "file_extension": ".py",
   "mimetype": "text/x-python",
   "name": "python",
   "nbconvert_exporter": "python",
   "pygments_lexer": "ipython3",
   "version": "3.9.12"
  }
 },
 "nbformat": 4,
 "nbformat_minor": 1
}