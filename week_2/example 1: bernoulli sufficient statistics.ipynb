{
 "cells": [
  {
   "cell_type": "code",
   "execution_count": 17,
   "metadata": {
    "collapsed": true,
    "pycharm": {
     "name": "#%%\n"
    }
   },
   "outputs": [],
   "source": [
    "from sympy import *\n",
    "init_printing()\n",
    "from Cython import declare\n",
    "from sympy.stats import P, E, Expectation, Normal, Probability, Poisson, Binomial, Bernoulli, ContinuousRV, density, Binomial, Geometric, Zeta, Beta, Cauchy, ChiSquared, Exponential, Gamma, Normal\n",
    "from sympy import symbols, Integral, Sum, Rational, E, Eq, simplify, oo, S, bernoulli"
   ]
  },
  {
   "cell_type": "code",
   "execution_count": 18,
   "outputs": [],
   "source": [
    "i, k, m, n, c, t, x, y, z = symbols(\"i, k, m, n, c, t, x, y, z\")\n",
    "mu = symbols(\"mu\")\n",
    "sigma = symbols(\"sigma\", positive=True)\n",
    "theta = symbols(\"theta\", positive=True)"
   ],
   "metadata": {
    "collapsed": false,
    "pycharm": {
     "name": "#%%\n"
    }
   }
  },
  {
   "cell_type": "code",
   "execution_count": 26,
   "outputs": [
    {
     "data": {
      "text/plain": "⎛n⎞\n⎜ ⎟\n⎝t⎠",
      "image/png": "[encoded data removed]",
      "text/latex": "$\\displaystyle {\\binom{n}{t}}$"
     },
     "execution_count": 26,
     "metadata": {},
     "output_type": "execute_result"
    }
   ],
   "source": [
    "choose = binomial(n, t)\n",
    "choose"
   ],
   "metadata": {
    "collapsed": false,
    "pycharm": {
     "name": "#%%\n"
    }
   }
  },
  {
   "cell_type": "code",
   "execution_count": 19,
   "outputs": [
    {
     "data": {
      "text/plain": " t        n - t ⎛n⎞\nθ ⋅(1 - θ)     ⋅⎜ ⎟\n                ⎝t⎠",
      "image/png": "[encoded data removed]",
      "text/latex": "$\\displaystyle \\theta^{t} \\left(1 - \\theta\\right)^{n - t} {\\binom{n}{t}}$"
     },
     "execution_count": 19,
     "metadata": {},
     "output_type": "execute_result"
    }
   ],
   "source": [
    "pmf = binomial(n, t) * theta ** t * (1 - theta) ** (n - t)\n",
    "pmf  # this is the form shown in the formula sheet"
   ],
   "metadata": {
    "collapsed": false,
    "pycharm": {
     "name": "#%%\n"
    }
   }
  },
  {
   "cell_type": "code",
   "execution_count": 20,
   "outputs": [
    {
     "data": {
      "text/plain": "  n    \n─┬─┬─  \n │ │  k\n │ │   \ni = 1  ",
      "image/png": "[encoded data removed]",
      "text/latex": "$\\displaystyle \\prod_{i=1}^{n} k$"
     },
     "execution_count": 20,
     "metadata": {},
     "output_type": "execute_result"
    }
   ],
   "source": [
    "Product(k, (i, 1, n))"
   ],
   "metadata": {
    "collapsed": false,
    "pycharm": {
     "name": "#%%\n"
    }
   }
  },
  {
   "cell_type": "code",
   "execution_count": 21,
   "outputs": [
    {
     "data": {
      "text/plain": " t        n - t\nθ ⋅(1 - θ)     ",
      "image/png": "[encoded data removed]",
      "text/latex": "$\\displaystyle \\theta^{t} \\left(1 - \\theta\\right)^{n - t}$"
     },
     "execution_count": 21,
     "metadata": {},
     "output_type": "execute_result"
    }
   ],
   "source": [
    "numerator = theta ** t * (1 - theta)**(n-t)\n",
    "numerator  # missing some steps required to come up with the numerator"
   ],
   "metadata": {
    "collapsed": false,
    "pycharm": {
     "name": "#%%\n"
    }
   }
  },
  {
   "cell_type": "code",
   "execution_count": 25,
   "outputs": [
    {
     "data": {
      "text/plain": " 1 \n───\n⎛n⎞\n⎜ ⎟\n⎝t⎠",
      "image/png": "[encoded data removed]",
      "text/latex": "$\\displaystyle \\frac{1}{{\\binom{n}{t}}}$"
     },
     "execution_count": 25,
     "metadata": {},
     "output_type": "execute_result"
    }
   ],
   "source": [
    "simplify(numerator / pmf)  # this works and gives the correct answer"
   ],
   "metadata": {
    "collapsed": false,
    "pycharm": {
     "name": "#%%\n"
    }
   }
  }
 ],
 "metadata": {
  "kernelspec": {
   "display_name": "Python 3",
   "language": "python",
   "name": "python3"
  },
  "language_info": {
   "codemirror_mode": {
    "name": "ipython",
    "version": 2
   },
   "file_extension": ".py",
   "mimetype": "text/x-python",
   "name": "python",
   "nbconvert_exporter": "python",
   "pygments_lexer": "ipython2",
   "version": "2.7.6"
  }
 },
 "nbformat": 4,
 "nbformat_minor": 0
}