{
 "cells": [
  {
   "cell_type": "markdown",
   "id": "9fb593dd",
   "metadata": {},
   "source": [
    "# Data Reduction"
   ]
  },
  {
   "cell_type": "code",
   "execution_count": 1,
   "id": "429196f3",
   "metadata": {},
   "outputs": [],
   "source": [
    "from sympy import *\n",
    "import sympy as sym\n",
    "from sympy.abc import e, x, X, y, z"
   ]
  },
  {
   "cell_type": "code",
   "execution_count": 2,
   "id": "54e85872",
   "metadata": {},
   "outputs": [
    {
     "data": {
      "text/latex": [
       "$\\displaystyle X_{i}$"
      ],
      "text/plain": [
       "X_i"
      ]
     },
     "execution_count": 2,
     "metadata": {},
     "output_type": "execute_result"
    }
   ],
   "source": [
    "Xi = sym.Symbol(\"X_i\") \n",
    "Xi"
   ]
  },
  {
   "cell_type": "code",
   "execution_count": 3,
   "id": "fd9450fd",
   "metadata": {},
   "outputs": [
    {
     "data": {
      "text/latex": [
       "$\\displaystyle !$"
      ],
      "text/plain": [
       "!"
      ]
     },
     "execution_count": 3,
     "metadata": {},
     "output_type": "execute_result"
    }
   ],
   "source": [
    "fact = sym.Symbol(\"!\")\n",
    "fact"
   ]
  },
  {
   "cell_type": "code",
   "execution_count": 4,
   "id": "be63f826",
   "metadata": {},
   "outputs": [
    {
     "data": {
      "text/latex": [
       "$\\displaystyle \\lambda$"
      ],
      "text/plain": [
       "lamda"
      ]
     },
     "execution_count": 4,
     "metadata": {},
     "output_type": "execute_result"
    }
   ],
   "source": [
    "lamda = sym.Symbol(\"lamda\", real=True)  # define the lambda symbol. nb: lambda is a reserved, use lamda. \n",
    "lamda"
   ]
  },
  {
   "cell_type": "code",
   "execution_count": 5,
   "id": "e0dc14be",
   "metadata": {},
   "outputs": [
    {
     "data": {
      "text/latex": [
       "$\\displaystyle \\sigma$"
      ],
      "text/plain": [
       "sigma"
      ]
     },
     "execution_count": 5,
     "metadata": {},
     "output_type": "execute_result"
    }
   ],
   "source": [
    "sigma = sym.Symbol(\"sigma\", real=True)\n",
    "sigma"
   ]
  },
  {
   "cell_type": "code",
   "execution_count": 6,
   "id": "79bdb8e1",
   "metadata": {},
   "outputs": [
    {
     "data": {
      "text/latex": [
       "$\\displaystyle \\theta$"
      ],
      "text/plain": [
       "theta"
      ]
     },
     "execution_count": 6,
     "metadata": {},
     "output_type": "execute_result"
    }
   ],
   "source": [
    "theta = sym.Symbol(\"theta\", real=True)\n",
    "theta"
   ]
  },
  {
   "cell_type": "markdown",
   "id": "5ec1fcb5",
   "metadata": {},
   "source": [
    "### data reduction: \n",
    "to summarise the information in the sample through transforming the sample values."
   ]
  },
  {
   "cell_type": "code",
   "execution_count": null,
   "id": "7fa7caa5",
   "metadata": {},
   "outputs": [],
   "source": []
  },
  {
   "cell_type": "markdown",
   "id": "459b51bb",
   "metadata": {},
   "source": [
    "### Definitions:\n",
    "- $\\theta$ the parameter. The thing we don't know that we want to find or approximate\n",
    "- $X$ a random variable with some distribution\n",
    "- $x$ a particular realisation\n",
    "- $T$ a statistic\n",
    "- $S$ a statistic\n",
    "- $\\hat{X}$ \n",
    "- $\\hat{Y}$ \n",
    "- $\\bar{X}$ \n",
    "- $\\bar{Y}$ "
   ]
  },
  {
   "cell_type": "code",
   "execution_count": 7,
   "id": "1059b596",
   "metadata": {},
   "outputs": [],
   "source": [
    "# likelihood function for each different distribution\n",
    "\n",
    "# factorise in such a way that we only have function of the statistic and the parameter."
   ]
  },
  {
   "cell_type": "markdown",
   "id": "13eb8ad4",
   "metadata": {},
   "source": [
    "### Sufficient statistic (slide 9)\n",
    "$T$ is an *m*-dimensional sufficient statistic for the parameter $\\theta$ of the family $P = \\{\\ P_{\\theta} (X) \\}\\$\n",
    "\n",
    "a statistic that retains all information about a parameter is said to be sufficient for that parameter\n",
    "\n",
    "a statistic T is sufficient for $\\theta$ if the conditional distribution of $X=X_1,...,X_n$ given $T = t$ does **NOT** depend on $\\theta$ for all values of t.\n",
    "\n",
    "Essentially, all the information contained in the x-values is contained in the sufficient statistic t. nothing more can be gained by looking at the X values.\n",
    "- sufficiency means $P(X_1 = X_1,...,X_n = X_n | T=t)$ is only a function of x and t (not $\\theta$)\n",
    "- we have two samples of the same population $T(X) = T(Y)$ then inference on $\\theta$ would be the same for $X = x$ or $Y = y$"
   ]
  },
  {
   "cell_type": "code",
   "execution_count": null,
   "id": "88c2eb39",
   "metadata": {},
   "outputs": [],
   "source": []
  },
  {
   "cell_type": "markdown",
   "id": "52a23a5c",
   "metadata": {},
   "source": [
    "### Sufficiency (slide 13)\n",
    "Let $X_1.X_2,X_3$ be a sample of size 3 from the Bernoulli $P$ distribution. Consider the two statistics $S=X_1 + X_2 + X_3$ and $T= X_1X_2 + X_3$. \n",
    "\n",
    "Show that $S$ is sufficient for $p$ and $T$ is not."
   ]
  },
  {
   "cell_type": "code",
   "execution_count": null,
   "id": "d8024d47",
   "metadata": {},
   "outputs": [],
   "source": []
  },
  {
   "cell_type": "markdown",
   "id": "92649135",
   "metadata": {},
   "source": [
    "## Factorisation criteria (slide 21)\n",
    "use the factorisation criterion to find a sufficient statistic for the parameter when $X_1,X_2,...,X_n$ are independent random variables with distribution:\n",
    "\n",
    "### Question 1\n",
    "\n",
    "$N (\\mu,1)$"
   ]
  },
  {
   "cell_type": "markdown",
   "id": "9511163b",
   "metadata": {},
   "source": [
    "### Solution\n",
    "\n",
    "Denoting $T = \\sum_{i=1}^{n} X_i$, you can factorise $L(X,\\mu)$ with \n",
    "\n",
    "$$h(X) = \\text{exp} \\Bigg(- \\dfrac{1}{2} \\sum_{i=1}^{n} X_i^2 \\Bigg)$$\n",
    "\n",
    "$$g(T,\\mu) = \\text{exp} \\Bigg( - \\dfrac{n}{2} \\mu^2 \\Bigg) \\text{exp}(T\\mu) \\dfrac{1}{(\\sqrt{2\\pi})^n}$$"
   ]
  },
  {
   "cell_type": "code",
   "execution_count": 8,
   "id": "7f6eb120",
   "metadata": {},
   "outputs": [
    {
     "data": {
      "text/latex": [
       "$\\displaystyle \\frac{1}{2 \\pi}$"
      ],
      "text/plain": [
       "1/(2*pi)"
      ]
     },
     "execution_count": 8,
     "metadata": {},
     "output_type": "execute_result"
    }
   ],
   "source": [
    "# the first thing we do is compute the likelihood\n",
    "expr = (1 / (2 * pi))  # the density function of a normal distribution\n",
    "expr"
   ]
  },
  {
   "cell_type": "code",
   "execution_count": 9,
   "id": "8ce1aaa3",
   "metadata": {},
   "outputs": [],
   "source": [
    "# take the product of the density function and evaluate it at all the samples\n"
   ]
  },
  {
   "cell_type": "code",
   "execution_count": 10,
   "id": "64366bd0",
   "metadata": {},
   "outputs": [],
   "source": [
    "# "
   ]
  },
  {
   "cell_type": "code",
   "execution_count": 11,
   "id": "860c0d84",
   "metadata": {},
   "outputs": [],
   "source": [
    "# anything that doesn't depend on mu we're going to take outside"
   ]
  },
  {
   "cell_type": "code",
   "execution_count": 12,
   "id": "1fc150e2",
   "metadata": {},
   "outputs": [],
   "source": [
    "# now we have our factorisation"
   ]
  },
  {
   "cell_type": "code",
   "execution_count": 13,
   "id": "c17740a0",
   "metadata": {},
   "outputs": [],
   "source": [
    "# a function that only depends on my data, it doesn't depend on the parameter mu"
   ]
  },
  {
   "cell_type": "code",
   "execution_count": 14,
   "id": "52abe5f5",
   "metadata": {},
   "outputs": [],
   "source": [
    "# a function that only depends on t and mu, it doesn't depend on the data except through t "
   ]
  },
  {
   "cell_type": "markdown",
   "id": "6491afbf",
   "metadata": {},
   "source": [
    "### Question 2: \n",
    "\n",
    "$N(0, \\sigma^2)$"
   ]
  },
  {
   "cell_type": "markdown",
   "id": "3ce9a93a",
   "metadata": {},
   "source": [
    "### Solution\n",
    "\n",
    "Denoting $T = \\sum_{i=1}^{n} X_i^2$ you can factorise $L(X, \\sigma^2)$ with\n",
    "\n",
    "$$h(X) = 1,g(T,\\sigma^2) = \\text{exp} \\bigg( - \\dfrac{1}{2\\sigma^2} T \\bigg) \\dfrac{1}{(\\sqrt{2 \\pi} \\sigma)^2}$$"
   ]
  },
  {
   "cell_type": "code",
   "execution_count": null,
   "id": "1899057a",
   "metadata": {},
   "outputs": [],
   "source": []
  },
  {
   "cell_type": "markdown",
   "id": "a761668f",
   "metadata": {},
   "source": [
    "### Question 3: \n",
    "\n",
    "Uniform $(\\theta, \\theta + 1)$"
   ]
  },
  {
   "cell_type": "markdown",
   "id": "d954e16c",
   "metadata": {},
   "source": [
    "### Solution\n",
    "for a point $x$ and a set $A$, we use the notation\n",
    "\n",
    "$$I_A = I(x \\in A) = \\begin{Bmatrix} 1 & \\text{ if } & x \\text{ is in } A, \\\\  0 & \\text{ if } & x \\text{ is not in } A \\\\  \\end{Bmatrix}$$\n",
    "\n",
    "then\n",
    "\n",
    "$$L(X, \\theta) = \\prod_{i=1}^{n} I_{(\\theta, \\theta+1)} (x_i) = I_{(\\theta, \\theta+1)} (x_{(n)}) I_{x_{(n)} - 1, \\infty)} (\\theta) I_{-\\infty, x_{(1)})} (\\theta)$$\n",
    "\n",
    "Hence $T = {X_{(1)} \\choose X_{(n)}}$ can be taken as a sufficient vector statistic"
   ]
  },
  {
   "cell_type": "code",
   "execution_count": 15,
   "id": "9e53e642",
   "metadata": {},
   "outputs": [],
   "source": [
    "# how do i get rid of the RHS bracket?"
   ]
  },
  {
   "cell_type": "code",
   "execution_count": null,
   "id": "105af37d",
   "metadata": {},
   "outputs": [],
   "source": []
  },
  {
   "cell_type": "markdown",
   "id": "0f639f35",
   "metadata": {},
   "source": [
    "### Question 4: \n",
    "\n",
    "Poisson $\\lambda$\n",
    "\n",
    "**hint**: use the property of Poisson random variables that\n",
    "\n",
    "$$\\sum_{i=1}^{n} X_i \\sim \\text{Poisson}(n \\lambda)$$"
   ]
  },
  {
   "cell_type": "markdown",
   "id": "e22bc588",
   "metadata": {},
   "source": [
    "### Solution\n",
    "\n",
    "Denoting $T = \\sum_{i=1}^{n} X_i$ you can factorise $L(X, \\lambda)$ with \n",
    "\n",
    "$$g(T, \\lambda) \\text{ exp}(-n \\lambda) \\lambda^T$$\n",
    "\n",
    "and\n",
    "\n",
    "$$h(X) = \\dfrac{1}{\\prod_{i=1}^{n} X_i !}$$\n",
    "\n",
    "According to the factorisation criterion, $T$ is sufficient.\n",
    "\n",
    "Now using the definition **and** noting that $T = \\sum_{i=1}^{n} X_i \\sim \\text{Poisson}(n \\lambda)$ we have:\n",
    "\n",
    "$$p(X = x|T=t) = \\dfrac{P(X=x \\cap T = t)}{P(T=t)} = \n",
    "\\begin{Bmatrix}\n",
    "0 & \\text{ if } & \\sum_{i=1}^{n} x_i \\neq t \\\\\n",
    "\\dfrac{P(X=x)}{P( \\sum_{i=1}^{n} X_i = t} & \\text{ if } & \\sum_{i=1}^{n} x_i = t \\\\\n",
    "\\end{Bmatrix}\n",
    "$$\n",
    "\n",
    "Since $T = \\sum_{i=1}^{n} X_i \\sim \\text{Poisson}(n \\lambda)$, the latter expression on the right can be seen to be equal to $\\dfrac{t!}{n^t \\prod_{i=1}^{n} x_i !}$ and obviously does not depend on $\\lambda$. Hence $T = \\sum_{i=1}^{n} X_i$ is sufficient according to the original definition of sufficiency. "
   ]
  },
  {
   "cell_type": "code",
   "execution_count": 16,
   "id": "86682c4a",
   "metadata": {},
   "outputs": [
    {
     "data": {
      "text/latex": [
       "$\\displaystyle \\frac{e^{\\lambda} \\lambda^{X_{i}}}{! X_{i}}$"
      ],
      "text/plain": [
       "e**lamda*lamda**X_i/(!*X_i)"
      ]
     },
     "execution_count": 16,
     "metadata": {},
     "output_type": "execute_result"
    }
   ],
   "source": [
    "# 1) first we want to compute the likelihood\n",
    "expr = (e**lamda * lamda**Xi)/(Xi * fact)  # the poisson density function\n",
    "expr"
   ]
  },
  {
   "cell_type": "code",
   "execution_count": 17,
   "id": "b44b9f25",
   "metadata": {},
   "outputs": [],
   "source": [
    "# 2) take the product of the distribution "
   ]
  },
  {
   "cell_type": "code",
   "execution_count": 18,
   "id": "383c8906",
   "metadata": {},
   "outputs": [],
   "source": [
    "# 3) factorize"
   ]
  },
  {
   "cell_type": "code",
   "execution_count": 19,
   "id": "c2969ea1",
   "metadata": {},
   "outputs": [],
   "source": [
    "# we have a function that is depends on t and lambda"
   ]
  },
  {
   "cell_type": "code",
   "execution_count": 20,
   "id": "ca2a0df6",
   "metadata": {},
   "outputs": [],
   "source": [
    "# we have a h(x)"
   ]
  },
  {
   "cell_type": "code",
   "execution_count": 21,
   "id": "d55f41e1",
   "metadata": {},
   "outputs": [],
   "source": [
    "# now we apply the definition of sufficiency -> P(X=x | T=t) does not depend on lambda"
   ]
  },
  {
   "cell_type": "code",
   "execution_count": null,
   "id": "c83f0083",
   "metadata": {},
   "outputs": [],
   "source": []
  },
  {
   "cell_type": "code",
   "execution_count": 22,
   "id": "481ec8ad",
   "metadata": {},
   "outputs": [],
   "source": [
    "# an ordered vector of heights is a statistic but there is not data reduction.\n",
    "# likelihood ratios\n",
    "# if we compute the likelihood ratio, we see if they simplify to a constant ratio."
   ]
  },
  {
   "cell_type": "markdown",
   "id": "67ea9a2a",
   "metadata": {},
   "source": [
    "### Minimal Sufficient Statistic (slide 31)\n",
    "\n",
    "Find a minimal sufficient statistic for the parameter when $X_1,X_2,...,X_n$ are independent random variables each with distribution:\n",
    "\n",
    "### Question 1: \n",
    "\n",
    "Poisson$(\\lambda)$ "
   ]
  },
  {
   "cell_type": "markdown",
   "id": "be23090e",
   "metadata": {},
   "source": [
    "$$\\dfrac{L(X,\\lambda)}{L(y,\\lambda)} = \\lambda^{\\sum_{i=1}^{n} x_i - \\sum_{i=1}^{n} y_i} \\dfrac{\\prod_{i=1}^{n} (y_i)!} {\\prod_{i=1}^{n}(x_1 !)!}$$\n",
    "\n",
    "This would not depend on $\\lambda$ if $\\sum_{i=1}^{n} x_i - \\sum_{i=1}^{n} y_i$\n",
    "\n",
    "Hence $\\sum_{i=1}^{n} X_i$ is minimally sufficient"
   ]
  },
  {
   "cell_type": "code",
   "execution_count": 23,
   "id": "f978cf5d",
   "metadata": {},
   "outputs": [],
   "source": [
    "# we have the likelihod function of (X, lambda) over the likelihood function of (Y, lambda)"
   ]
  },
  {
   "cell_type": "code",
   "execution_count": 24,
   "id": "d8e94ce2",
   "metadata": {},
   "outputs": [],
   "source": [
    "# "
   ]
  },
  {
   "cell_type": "markdown",
   "id": "ea91999c",
   "metadata": {},
   "source": [
    "### Question 2: \n",
    "\n",
    "$N(0, \\sigma^2)$"
   ]
  },
  {
   "cell_type": "markdown",
   "id": "78026b78",
   "metadata": {},
   "source": [
    "### Solution\n",
    "\n",
    "$$\\dfrac{L(X,\\sigma^2)}{L(y,\\sigma_2)} = \\text{exp} \\bigg( - \\dfrac{1}{2\\sigma^2} \\bigg( \\sum_{i=1}^{n} x_i^2 - \\sum_{i=1}^{n} y_i^2 \\bigg) \\bigg)$$\n",
    "\n",
    "This would not depend on $\\sigma^2$ if $\\sum_{i=1}^{n} x_i^2 = \\sum_{i=1}^{n} y_i^2$\n",
    "\n",
    "Hence $T(X) = \\sum_{i=1}^{n} X_i^2$ is minimal sufficient"
   ]
  },
  {
   "cell_type": "code",
   "execution_count": 25,
   "id": "8aece7ba",
   "metadata": {},
   "outputs": [],
   "source": [
    "# first compute the likelihood of X"
   ]
  },
  {
   "cell_type": "code",
   "execution_count": 26,
   "id": "93243c01",
   "metadata": {},
   "outputs": [
    {
     "data": {
      "text/latex": [
       "$\\displaystyle \\sigma^{2}$"
      ],
      "text/plain": [
       "sigma**2"
      ]
     },
     "execution_count": 26,
     "metadata": {},
     "output_type": "execute_result"
    }
   ],
   "source": [
    "sd = sigma**2 # standard deviation\n",
    "sd"
   ]
  },
  {
   "cell_type": "code",
   "execution_count": 27,
   "id": "02d68890",
   "metadata": {},
   "outputs": [
    {
     "data": {
      "text/latex": [
       "$\\displaystyle \\frac{\\sqrt{2}}{2 \\sqrt{\\pi} \\left|{\\sigma}\\right|}$"
      ],
      "text/plain": [
       "sqrt(2)/(2*sqrt(pi)*Abs(sigma))"
      ]
     },
     "execution_count": 27,
     "metadata": {},
     "output_type": "execute_result"
    }
   ],
   "source": [
    "# density of the normal distribution\n",
    "expr  = 1 / (sqrt(2 * pi * sd))\n",
    "expr"
   ]
  },
  {
   "cell_type": "code",
   "execution_count": 28,
   "id": "51b269ce",
   "metadata": {},
   "outputs": [],
   "source": [
    "# product?"
   ]
  },
  {
   "cell_type": "code",
   "execution_count": 29,
   "id": "8b52305c",
   "metadata": {},
   "outputs": [],
   "source": [
    "# likelihood ratio -> likelihood of X / likelihood of Y"
   ]
  },
  {
   "cell_type": "markdown",
   "id": "66597da2",
   "metadata": {},
   "source": [
    "### Question 3: \n",
    "\n",
    "gamma $(\\alpha)$, with density $f(x, \\alpha) = \\dfrac{1}{\\Gamma (\\alpha)} \\text{ exp}(-x)x^{\\alpha - 1}, x > 0$\n",
    "\n",
    "Here the Gamma function is definded as $\\Gamma (\\alpha) = \\int_{0}^{\\infty}e^{-x}x^{\\alpha - 1} dx$ and has the property $\\Gamma(\\alpha + 1) = \\alpha \\Gamma (\\alpha)$. In particular, for a natural number *n* $\\Gamma(n+1)=n!$ holds"
   ]
  },
  {
   "cell_type": "markdown",
   "id": "816a4964",
   "metadata": {},
   "source": [
    "### Solution\n",
    "\n",
    "Similarly, $T = \\prod_{i=1}^{n}X_i$ is minimal sufficient. We can also take $\\tilde{T} = \\sum_{i=1}^{n} \\log X_i$ as minimal sufficient"
   ]
  },
  {
   "cell_type": "code",
   "execution_count": null,
   "id": "bee0cc7d",
   "metadata": {},
   "outputs": [],
   "source": []
  },
  {
   "cell_type": "markdown",
   "id": "89ef95e6",
   "metadata": {},
   "source": [
    "### Question 4: \n",
    "Uniform $(0, \\theta)$"
   ]
  },
  {
   "cell_type": "markdown",
   "id": "52466c19",
   "metadata": {},
   "source": [
    "### Solution\n",
    "\n",
    "we have:\n",
    "\n",
    "$$\\dfrac{L(X, \\theta)}{L(Y, \\theta)} = \\dfrac{I_{(x_{(n)}, \\infty)}(\\theta)}{I_{(y_{(n)}, \\infty)}(\\theta)}$$\n",
    "\n",
    "This has to be considered as a function of $\\theta$ for fixed $x_{(n)}$ and $y_{(n)}$. Assume that $x_{(n)} \\neq y_{(n)}$ and to be specific, first let $x_{(n)} > y_{(n)}$. Then the ratio $\\dfrac{L(X, \\theta)}{L(Y, \\theta)}$ is:\n",
    "- not defined if $\\theta \\leq y_{(n)}$\n",
    "- equal to zero when $\\theta \\in [y_{(n)}, x_{(n)})$\n",
    "- equal to one when $\\theta > x_{(n)}$\n",
    "\n",
    "in other words, the ratio's value depends on the position of $\\theta$ on the real axis, that is, it is a function of $\\theta$. Similar conclusions will be reached if we had $x_{(n)} < y_{(n)}$ (do it yourself). Hence, if $x_{(n)} = y_{(n)}$ will the ratio not depend on $\\theta$. This implies that $T = X_{(n)}$ is minimally sufficient."
   ]
  },
  {
   "cell_type": "code",
   "execution_count": null,
   "id": "ea85cc0d",
   "metadata": {},
   "outputs": [],
   "source": []
  },
  {
   "cell_type": "markdown",
   "id": "25f595bb",
   "metadata": {},
   "source": [
    "**question 5**: Uniform $(\\theta, \\theta + 1)$"
   ]
  },
  {
   "cell_type": "code",
   "execution_count": null,
   "id": "f4b8cb19",
   "metadata": {},
   "outputs": [],
   "source": []
  },
  {
   "cell_type": "markdown",
   "id": "071bdc83",
   "metadata": {},
   "source": [
    "**question 6**: Uniform $(\\theta_1, \\theta_2)$"
   ]
  },
  {
   "cell_type": "code",
   "execution_count": null,
   "id": "6d20dea3",
   "metadata": {},
   "outputs": [],
   "source": []
  },
  {
   "cell_type": "markdown",
   "id": "29ff192d",
   "metadata": {},
   "source": [
    "### One parameter exponential family densities example (slide 35)"
   ]
  },
  {
   "cell_type": "code",
   "execution_count": null,
   "id": "c3957fa4",
   "metadata": {},
   "outputs": [],
   "source": []
  },
  {
   "cell_type": "markdown",
   "id": "ea30bde8",
   "metadata": {},
   "source": [
    "### One parameter exponential family of densities (slide 38)\n",
    "Show that the following densities belong to the exponential family of densities and identify the minimal sufficient statistic for each of the distributions."
   ]
  },
  {
   "cell_type": "markdown",
   "id": "062dde7c",
   "metadata": {},
   "source": [
    "### Question 1: \n",
    "Poisson $(\\theta): f(x, \\theta) = \\dfrac{e^{-\\theta \\theta^x}}{x!}, x \\in \\{\\ 0,1,2,... \\}\\ , \\theta > 0$"
   ]
  },
  {
   "cell_type": "markdown",
   "id": "ec52c61d",
   "metadata": {},
   "source": [
    "### solution\n",
    "\n",
    "$$f(x,\\theta) = \\dfrac{e^{-\\theta}\\theta^{x}}{x!} = e^{-\\theta} \\dfrac{1}{x!} e^{x \\ln \\theta}$$\n",
    "\n",
    "Hence, $a(\\theta) = e^{-\\theta}, b(x) = \\dfrac{1}{x!}, c(\\theta) = \\ln \\theta$ and $d(x) = x$\n",
    "\n",
    "Therefore $T = \\sum_{i=1}^{n} X_i$ is a minimal sufficient statistic for $\\theta$"
   ]
  },
  {
   "cell_type": "code",
   "execution_count": 35,
   "id": "9f42b431",
   "metadata": {},
   "outputs": [
    {
     "data": {
      "text/latex": [
       "$\\displaystyle \\frac{e^{- \\theta} \\theta^{x}}{! x}$"
      ],
      "text/plain": [
       "theta**x/(!*e**theta*x)"
      ]
     },
     "execution_count": 35,
     "metadata": {},
     "output_type": "execute_result"
    }
   ],
   "source": [
    "expr = ((e**-theta) * (theta**x)) / (x * fact)\n",
    "expr"
   ]
  },
  {
   "cell_type": "code",
   "execution_count": 31,
   "id": "15efa128",
   "metadata": {},
   "outputs": [],
   "source": [
    "# we want to seperate x and theta"
   ]
  },
  {
   "cell_type": "code",
   "execution_count": 32,
   "id": "70b94fc3",
   "metadata": {},
   "outputs": [],
   "source": [
    "# first take the log, "
   ]
  },
  {
   "cell_type": "code",
   "execution_count": 33,
   "id": "d026c58e",
   "metadata": {},
   "outputs": [],
   "source": [
    "# the exponential"
   ]
  },
  {
   "cell_type": "markdown",
   "id": "090ab0cb",
   "metadata": {},
   "source": [
    "### Question 2: \n",
    "Bernoulli $(\\theta): f(x, \\theta) = \\theta^x (1 - \\theta)^{1-x}, x \\in \\{\\ 0,1 \\}\\, \\theta \\in (0,1)$ "
   ]
  },
  {
   "cell_type": "markdown",
   "id": "1e3679f2",
   "metadata": {},
   "source": [
    "### Solution\n",
    "\n",
    "$$f(x,\\theta) = \\theta^x (1 - \\theta)^{1-x} = \\text{exp} \\{\\ \\ln (\\theta^x(1-\\theta)^{1-x}) \\}\\ = (1- \\theta) \\text{exp} \\{\\ x \\ln \\bigg( \\dfrac{\\theta}{1 - \\theta} \\bigg) \\}\\$$\n",
    "\n",
    "Hence $a(\\theta) = 1,c(\\theta) = \\ln(\\dfrac{\\theta}{1 - \\theta})$ and $d(x) = x$\n",
    "\n",
    "Therefore $T = \\sum_{i=1}^{n} X_i$ is a minimal sufficient statistic for $\\theta$."
   ]
  },
  {
   "cell_type": "code",
   "execution_count": null,
   "id": "653c6e94",
   "metadata": {},
   "outputs": [],
   "source": []
  },
  {
   "cell_type": "markdown",
   "id": "644121c1",
   "metadata": {},
   "source": [
    "### Question 3: \n",
    "Normal $N(\\theta,1): f(x, \\theta) = \\dfrac{1}{\\sqrt{2 \\pi }} e^{- \\dfrac{1}{2}(x - \\theta)^2}, x \\in R, \\theta \\in R$"
   ]
  },
  {
   "cell_type": "markdown",
   "id": "3e253363",
   "metadata": {},
   "source": [
    "### Solution\n",
    "\n",
    "$$\n",
    "\\begin{aligned}\n",
    "f(x, \\theta) &= \\dfrac{1}{\\sqrt{2 \\pi}} e^{\\dfrac{1}{2}(x-\\theta)^2} \\\\\n",
    "&= \\text{exp} \\{\\ -\\dfrac{x^2}{2} + x\\theta - \\dfrac{\\theta^2}{2} - \\dfrac{1}{2} \\ln(2 \\pi) \\}\\ \\\\\n",
    "&= \\text{exp} \\{\\ -\\dfrac{-\\theta^2}{2} - \\dfrac{1}{2} \\ln (2 \\pi) \\}\\ \\text{exp} \\{\\ - \\dfrac{x^2}{2} \\}\\ \\text{exp} \\{\\ \\theta x \\}\\ \\\\\n",
    "\\end{aligned}\n",
    "$$\n",
    "\n",
    "Hence, $a(\\theta) = \\text{exp} \\{\\ - \\dfrac{\\theta^2}{2} - \\dfrac{1}{2} \\ln (2 \\pi) \\}\\, b(x) = \\text{exp} \\{\\ - \\dfrac{x^2}{2} \\}\\, c(\\theta)$ and $d(x) = x$.\n",
    "\n",
    "Therefore, $T= \\sum_{i=1}^{n} X_i$ is a minimal sufficient statistic for $\\theta$."
   ]
  },
  {
   "cell_type": "code",
   "execution_count": null,
   "id": "d2b76ce5",
   "metadata": {},
   "outputs": [],
   "source": []
  },
  {
   "cell_type": "markdown",
   "id": "ee0d727b",
   "metadata": {},
   "source": [
    "### Question 4: \n",
    "Normal $N(0, \\theta^2): f(x, \\theta) = \\dfrac{1}{\\sqrt{2 \\pi \\theta^2 }} e^{\\dfrac{x^2}{2 \\theta^2}}, x \\in R, \\theta^2 > 0$"
   ]
  },
  {
   "cell_type": "markdown",
   "id": "f8c7938a",
   "metadata": {},
   "source": [
    "### Solution\n",
    "\n",
    "$$f(x,\\theta) = \\dfrac{1}{\\sqrt{2 \\pi \\theta^2}} e^{- \\dfrac{x^2}{2 \\theta^2}}$$\n",
    "\n",
    "note that the parameter of interest is here $\\theta^2$\n",
    "\n",
    "Hence, $a(\\theta^2) = \\dfrac{1}{\\sqrt{2 \\pi \\theta^2}}, b(x)=1, c(\\theta^2) = -\\dfrac{1}{2\\theta^2}$ and $d(x) = x^2$\n",
    "\n",
    "Therefore, $T = \\sum_{i=1}^{n} X_i^2$ is a minimal sufficient statistic for $\\theta^2$"
   ]
  },
  {
   "cell_type": "code",
   "execution_count": 37,
   "id": "bf040e5d",
   "metadata": {},
   "outputs": [
    {
     "data": {
      "text/latex": [
       "$\\displaystyle \\frac{\\sqrt{2}}{2 \\sqrt{\\pi} \\left|{\\theta}\\right|}$"
      ],
      "text/plain": [
       "sqrt(2)/(2*sqrt(pi)*Abs(theta))"
      ]
     },
     "execution_count": 37,
     "metadata": {},
     "output_type": "execute_result"
    }
   ],
   "source": [
    "expr = 1 / sqrt(2*pi * theta**2)  # the density function for a normal distribution\n",
    "expr  # nb: sympy does its own simplification"
   ]
  },
  {
   "cell_type": "code",
   "execution_count": null,
   "id": "91fa18ba",
   "metadata": {},
   "outputs": [],
   "source": []
  },
  {
   "cell_type": "code",
   "execution_count": null,
   "id": "773b3ff2",
   "metadata": {},
   "outputs": [],
   "source": []
  }
 ],
 "metadata": {
  "kernelspec": {
   "display_name": "Python 3 (ipykernel)",
   "language": "python",
   "name": "python3"
  },
  "language_info": {
   "codemirror_mode": {
    "name": "ipython",
    "version": 3
   },
   "file_extension": ".py",
   "mimetype": "text/x-python",
   "name": "python",
   "nbconvert_exporter": "python",
   "pygments_lexer": "ipython3",
   "version": "3.9.5"
  }
 },
 "nbformat": 4,
 "nbformat_minor": 5
}
