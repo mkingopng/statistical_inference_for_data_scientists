{
 "cells": [
  {
   "cell_type": "code",
   "execution_count": 1,
   "id": "391be560",
   "metadata": {
    "pycharm": {
     "name": "#%%\n"
    }
   },
   "outputs": [],
   "source": [
    "from sympy import *\n",
    "from sympy import symbols\n",
    "init_printing()\n",
    "from Cython import declare\n",
    "from sympy.stats import Expectation, Normal, Probability, Poisson\n",
    "from sympy import symbols, Integral, Sum, Rational, E"
   ]
  },
  {
   "cell_type": "code",
   "execution_count": 4,
   "id": "8fc604bb",
   "metadata": {
    "pycharm": {
     "name": "#%%\n"
    }
   },
   "outputs": [],
   "source": [
    "x, y = symbols('x y')\n",
    "mu = symbols(\"mu\")\n",
    "theta = symbols(\"theta\")\n",
    "sigma = symbols(\"sigma\", positive=True)"
   ]
  },
  {
   "cell_type": "markdown",
   "id": "84eeea80",
   "metadata": {
    "pycharm": {
     "name": "#%% md\n"
    }
   },
   "source": [
    "### Score & Information\n",
    "For simplicty take $\\theta$ to be one-dimensional. (For a vector $\\theta$ apply the argument below for each of the components of $\\theta$).\n",
    "\n",
    "Use the short-hand notation:\n",
    "\n",
    "$$dX = dX_1 dX_2,...,dX_n$$\n",
    "\n",
    "and a single integral sign to denote the integration over the region in $R^n$. Then \n",
    "\n",
    "$$\n",
    "\\begin{aligned}\n",
    "E \\bigg[ \\dfrac{\\partial}{\\partial \\theta} \\log L(X, \\theta) \\bigg] &= \\int \\dfrac{\\dfrac{\\partial}{\\partial \\theta} L(X, \\theta)}{L(X, \\theta)} L(X, \\theta) dX \\\\\n",
    "&= \\dfrac{\\partial}{\\partial\\theta} \\int L(X, \\theta)dX \\\\\n",
    "&= \\dfrac{\\partial}{\\partial\\theta}1 \\\\\n",
    "&= 0\n",
    "\\end{aligned}\n",
    "$$\n",
    "\n",
    "(Where we used the fact that the integral of any density over its support is equal to one).\n",
    "\n",
    "The above-defined notion of Information is fundamental in Statistics. It has made RA Fisher ()1890 - 1962), a reknowned applied statistician, one of the greatest of all time.\n",
    "\n",
    "Among his pivotal contributions to the field, the introduction of the Maximum Likelihood Estimation method, the analysis of variance (ANOVA) and the notion of *Expected Fisher Information* (as defined above) are the most outstanding."
   ]
  },
  {
   "cell_type": "code",
   "execution_count": 2,
   "id": "8688d7d4",
   "metadata": {
    "pycharm": {
     "name": "#%%\n"
    }
   },
   "outputs": [],
   "source": []
  },
  {
   "cell_type": "markdown",
   "id": "c04e37f7",
   "metadata": {
    "pycharm": {
     "name": "#%% md\n"
    }
   },
   "source": [
    "## Cramer Rao Lower bound and UMVUE\n",
    "Calculate the Cramer-Rao lower bound for the variance of an unbiased estimator of $\\theta$ and then find a statistic with variance equal to  the bound  when $X_1, X_2,...,X_n$ are independent random variables each with a distribution from the exponential family of distributions.\n",
    "\n",
    "### Question 1\n",
    "Exponential $(\\theta): f(x, \\theta = \\dfrac{1}{\\theta}e^{-x/\\theta}, x>0$"
   ]
  },
  {
   "cell_type": "markdown",
   "id": "b31bd8d3",
   "metadata": {
    "pycharm": {
     "name": "#%% md\n"
    }
   },
   "source": [
    "**solution**: \n",
    "\n",
    "CLRB: $\\dfrac{\\theta^2}{n}$\n",
    "\n",
    "UMVUE: $\\bar{X}$"
   ]
  },
  {
   "cell_type": "code",
   "execution_count": 2,
   "id": "c3f4573a",
   "metadata": {
    "pycharm": {
     "name": "#%%\n"
    }
   },
   "outputs": [],
   "source": []
  },
  {
   "cell_type": "markdown",
   "id": "34c3b139",
   "metadata": {
    "pycharm": {
     "name": "#%% md\n"
    }
   },
   "source": [
    "### Question 2\n",
    "Bernoulli $(\\theta): f(x,\\theta) = \\theta^x (1-\\theta)^{1-x} \\in \\{\\ 0,1 \\}\\ , \\theta \\in (0,1)$"
   ]
  },
  {
   "cell_type": "markdown",
   "id": "cca1a706",
   "metadata": {
    "pycharm": {
     "name": "#%% md\n"
    }
   },
   "source": [
    "**Solution**\n",
    "\n",
    "CRLB: $\\dfrac{\\theta (1-\\theta)}{n}$\n",
    "\n",
    "UMVUE: $bar{X}$"
   ]
  },
  {
   "cell_type": "code",
   "execution_count": 5,
   "id": "2db7b29a",
   "metadata": {
    "pycharm": {
     "name": "#%%\n"
    }
   },
   "outputs": [
    {
     "data": {
      "image/png": "[encoded data removed]",
      "text/latex": [
       "$\\displaystyle \\theta^{x} \\left(1 - \\theta\\right)^{1 - x}$"
      ],
      "text/plain": [
       " x        1 - x\n",
       "θ ⋅(1 - θ)     "
      ]
     },
     "execution_count": 5,
     "metadata": {},
     "output_type": "execute_result"
    }
   ],
   "source": [
    "expr = theta**x * (1 - theta)**(1 - x)\n",
    "expr"
   ]
  },
  {
   "cell_type": "markdown",
   "id": "e9ff4db0",
   "metadata": {
    "pycharm": {
     "name": "#%% md\n"
    }
   },
   "source": [
    "calculate the cramer rao lower bound"
   ]
  },
  {
   "cell_type": "code",
   "execution_count": 7,
   "id": "e49889bf",
   "metadata": {
    "pycharm": {
     "name": "#%%\n"
    }
   },
   "outputs": [
    {
     "data": {
      "image/png": "[encoded data removed]",
      "text/latex": [
       "$\\displaystyle \\log{\\left(\\theta^{x} \\left(1 - \\theta\\right)^{1 - x} \\right)}$"
      ],
      "text/plain": [
       "   ⎛ x        1 - x⎞\n",
       "log⎝θ ⋅(1 - θ)     ⎠"
      ]
     },
     "execution_count": 7,
     "metadata": {},
     "output_type": "execute_result"
    }
   ],
   "source": []
  },
  {
   "cell_type": "markdown",
   "id": "43bfa480",
   "metadata": {
    "pycharm": {
     "name": "#%% md\n"
    }
   },
   "source": [
    "### Question 3\n",
    "$N(\\theta, 1): f)x, \\theta) = \\dfrac{1}{\\sqrt{2\\pi}}e^{- \\dfrac{1}{2}(x - \\theta)^2}, x \\in R,\\theta \\in R$\n",
    "\n",
    "**Solution**\n",
    "\n",
    "CRLB: $\\dfrac{1}{n}$\n",
    "\n",
    "UMVUE: $\\bar{X}$"
   ]
  },
  {
   "cell_type": "code",
   "execution_count": null,
   "id": "f5f47d6a",
   "metadata": {
    "pycharm": {
     "name": "#%%\n"
    }
   },
   "outputs": [],
   "source": []
  },
  {
   "cell_type": "markdown",
   "id": "8842da9b",
   "metadata": {
    "pycharm": {
     "name": "#%% md\n"
    }
   },
   "source": [
    "### Question 4\n",
    "$N(0,\\theta): f(x,\\theta) = \\dfrac{1}{\\sqrt{2 \\pi \\theta}} e^{-\\dfrac{x^2}{2\\theta}}, x \\in R, \\theta > 0$\n",
    "\n",
    "**Hint**: Note that Var$(X_i^2)=2\\theta^2$\n",
    "\n",
    "**Solution**\n",
    "\n",
    "CRLB: $\\dfrac{2 \\theta^2}{n}$\n",
    "\n",
    "UMVUE: $\\dfrac{1}{n} \\sum_{i=1}^{n} X_i^2$\n",
    "\n",
    "**Explanation**\n",
    "\n",
    "CLRB: Since\n",
    "\n",
    "$$f(x, \\theta) = \\dfrac{1}{\\sqrt{2 \\pi \\theta}} e^{-x^2 / \\theta}$$\n",
    "\n",
    "we have\n",
    "\n",
    "$$\\log f(x, \\theta) = -\\dfrac{1}{2} \\log 2\\pi - \\dfrac{1}{2} \\log \\theta - \\dfrac{x^2}{2\\theta}$$\n",
    "\n",
    "with\n",
    "\n",
    "$$\\dfrac{\\partial}{\\partial \\theta} \\log f(x;\\theta) = - \\dfrac{1}{2\\theta} + \\dfrac{x^2}{2\\theta^2}$$\n",
    "\n",
    "and\n",
    "\n",
    "$$\\dfrac{\\partial^2}{\\partial \\theta}\\log f(x; \\theta) = \\dfrac{1}{2 \\theta^2} - \\dfrac{x^2}{\\theta^3}$$\n",
    "\n",
    "and finally\n",
    "\n",
    "$$I_{X_1} (\\theta) = -E \\bigg[ \\dfrac{1}{2\\theta^2} - \\dfrac{X^2}{\\theta^3} \\bigg] = - \\dfrac{1}{2\\theta^2} + \\dfrac{1}{2\\theta^2} = \\dfrac{1}{2\\theta^2}$$\n",
    "\n",
    "since\n",
    "\n",
    "$$E(X^2) = \\text{Var}(X) + (E(X))^2 = \\theta + 0 = \\theta$$\n",
    "\n",
    "and thus the Cramer Rao lower bound is \n",
    "\n",
    "$$\\dfrac{(\\tau'(\\theta))^2}{nI_{X_1}(\\theta)} = \\dfrac{2\\theta^2}{n}$$"
   ]
  },
  {
   "cell_type": "code",
   "execution_count": null,
   "id": "dabc0e8f",
   "metadata": {
    "pycharm": {
     "name": "#%%\n"
    }
   },
   "outputs": [],
   "source": []
  },
  {
   "cell_type": "markdown",
   "id": "5f9d97d9",
   "metadata": {
    "pycharm": {
     "name": "#%% md\n"
    }
   },
   "source": [
    "# UMVUE"
   ]
  },
  {
   "cell_type": "markdown",
   "id": "0e59a9ca",
   "metadata": {
    "pycharm": {
     "name": "#%% md\n"
    }
   },
   "source": [
    "### Question 1\n",
    "Find the UMVUE of $\\theta^2$ when $X_1, X_2,...,X_n$ are independent Bernoulli $(\\theta)$ random variables. Check that your estimator does have mean $\\theta^2$"
   ]
  },
  {
   "cell_type": "code",
   "execution_count": null,
   "id": "ff135fe7",
   "metadata": {
    "pycharm": {
     "name": "#%%\n"
    }
   },
   "outputs": [],
   "source": [
    "# 1) find a complete and sufficient statistic for theta"
   ]
  },
  {
   "cell_type": "code",
   "execution_count": null,
   "id": "331ecbf5",
   "metadata": {
    "pycharm": {
     "name": "#%%\n"
    }
   },
   "outputs": [],
   "source": [
    "# 2) find an unbiased estimator for tau of theta"
   ]
  },
  {
   "cell_type": "code",
   "execution_count": null,
   "id": "a2793e5a",
   "metadata": {
    "pycharm": {
     "name": "#%%\n"
    }
   },
   "outputs": [],
   "source": [
    "# 3) apply Lehman Scheffe theorem to find the UMVUE"
   ]
  },
  {
   "cell_type": "markdown",
   "id": "bf1fc61f",
   "metadata": {
    "pycharm": {
     "name": "#%% md\n"
    }
   },
   "source": [
    "### Question 2\n",
    "Find the UMVUE of $\\theta^2$ when $X_1, X_2,...,X_n$ are independent random variables each with density\n",
    "\n",
    "$$f(x;\\theta) = \\dfrac{1}{\\theta} e^{- \\dfrac{x}{\\theta}},  X > 0, \\theta > 0,$$\n",
    "\n",
    "**Hint**: consider $\\bar{X}$"
   ]
  },
  {
   "cell_type": "code",
   "execution_count": null,
   "id": "d0573a09",
   "metadata": {
    "pycharm": {
     "name": "#%%\n"
    }
   },
   "outputs": [],
   "source": []
  },
  {
   "cell_type": "markdown",
   "id": "1eeec968",
   "metadata": {
    "pycharm": {
     "name": "#%% md\n"
    }
   },
   "source": [
    "Suppose $X_1, X_2,...,X_n$ are independent Uniform $(0,\\theta)$ random variables.\n",
    "\n",
    "### Question 3\n",
    "Find the UMVUE of $\\theta^2$ and calculate its variance"
   ]
  },
  {
   "cell_type": "code",
   "execution_count": null,
   "id": "75d9c5b3",
   "metadata": {
    "pycharm": {
     "name": "#%%\n"
    }
   },
   "outputs": [],
   "source": []
  },
  {
   "cell_type": "markdown",
   "id": "fa6d9f73",
   "metadata": {
    "pycharm": {
     "name": "#%% md\n"
    }
   },
   "source": [
    "### Question 4\n",
    "find the UMVUE of $\\dfrac{1}{\\theta}$"
   ]
  },
  {
   "cell_type": "code",
   "execution_count": null,
   "id": "bbb8c78a",
   "metadata": {
    "pycharm": {
     "name": "#%%\n"
    }
   },
   "outputs": [],
   "source": []
  }
 ],
 "metadata": {
  "kernelspec": {
   "display_name": "Python 3 (ipykernel)",
   "language": "python",
   "name": "python3"
  },
  "language_info": {
   "codemirror_mode": {
    "name": "ipython",
    "version": 3
   },
   "file_extension": ".py",
   "mimetype": "text/x-python",
   "name": "python",
   "nbconvert_exporter": "python",
   "pygments_lexer": "ipython3",
   "version": "3.9.12"
  }
 },
 "nbformat": 4,
 "nbformat_minor": 5
}
