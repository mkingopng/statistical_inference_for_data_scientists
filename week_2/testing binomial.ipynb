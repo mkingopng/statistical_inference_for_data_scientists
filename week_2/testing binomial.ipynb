{
 "cells": [
  {
   "cell_type": "code",
   "execution_count": 1,
   "id": "abb88a24",
   "metadata": {},
   "outputs": [],
   "source": [
    "from sympy.stats import P, E, variance, Die, Normal, density, Binomial, std, cdf, skewness, quantile, marginal_distribution\n",
    "from sympy import Eq, simplify, binomial, symbols, S, Symbol"
   ]
  },
  {
   "cell_type": "code",
   "execution_count": 2,
   "id": "2e40c300",
   "metadata": {},
   "outputs": [],
   "source": [
    "i, k, m, n, p, c, t, x, y, z = symbols(\"i, k, m, n, p, c, t, x, y, z\")\n",
    "mu = symbols(\"mu\")\n",
    "theta = symbols(\"theta\", positive=True)"
   ]
  },
  {
   "cell_type": "code",
   "execution_count": 3,
   "id": "cc9198c3",
   "metadata": {},
   "outputs": [
    {
     "data": {
      "text/plain": [
       "{0: 1/16, 1: 1/4, 2: 3/8, 3: 1/4, 4: 1/16}"
      ]
     },
     "execution_count": 3,
     "metadata": {},
     "output_type": "execute_result"
    }
   ],
   "source": [
    "X = Binomial('X', 4, S.Half)\n",
    "density(X).dict"
   ]
  },
  {
   "cell_type": "code",
   "execution_count": 4,
   "id": "bd7ff378",
   "metadata": {},
   "outputs": [],
   "source": [
    "z = Symbol(\"z\")\n",
    "mu = Symbol(\"mu\", positive = True)\n",
    "sigma = Symbol(\"sigma\", positive = True)\n",
    "X = Normal(\"x\", mu, sigma)"
   ]
  },
  {
   "cell_type": "code",
   "execution_count": 5,
   "id": "c9cf76af",
   "metadata": {},
   "outputs": [
    {
     "data": {
      "text/latex": [
       "$\\displaystyle \\frac{\\operatorname{erf}{\\left(\\frac{\\sqrt{2} \\left(- \\mu + z\\right)}{2 \\sigma} \\right)}}{2} + \\frac{1}{2}$"
      ],
      "text/plain": [
       "erf(sqrt(2)*(-mu + z)/(2*sigma))/2 + 1/2"
      ]
     },
     "execution_count": 5,
     "metadata": {},
     "output_type": "execute_result"
    }
   ],
   "source": [
    "C = simplify(cdf(X))(z)\n",
    "C"
   ]
  },
  {
   "cell_type": "code",
   "execution_count": 6,
   "id": "3d867ba1",
   "metadata": {},
   "outputs": [
    {
     "data": {
      "text/latex": [
       "$\\displaystyle \\mu + \\sqrt{2} \\sigma \\operatorname{erfinv}{\\left(2 p - 1 \\right)}$"
      ],
      "text/plain": [
       "mu + sqrt(2)*sigma*erfinv(2*p - 1)"
      ]
     },
     "execution_count": 6,
     "metadata": {},
     "output_type": "execute_result"
    }
   ],
   "source": [
    "quantile(X)(p)"
   ]
  },
  {
   "cell_type": "code",
   "execution_count": 7,
   "id": "e80ca807",
   "metadata": {},
   "outputs": [
    {
     "data": {
      "text/latex": [
       "$\\displaystyle 0$"
      ],
      "text/plain": [
       "0"
      ]
     },
     "execution_count": 7,
     "metadata": {},
     "output_type": "execute_result"
    }
   ],
   "source": [
    "simplify(skewness(X))"
   ]
  },
  {
   "cell_type": "code",
   "execution_count": 8,
   "id": "85bb7b96",
   "metadata": {},
   "outputs": [
    {
     "data": {
      "text/latex": [
       "$\\displaystyle \\frac{\\sqrt{2} e^{- \\frac{\\left(- \\mu + z\\right)^{2}}{2 \\sigma^{2}}}}{2 \\sqrt{\\pi} \\sigma}$"
      ],
      "text/plain": [
       "sqrt(2)*exp(-(-mu + z)**2/(2*sigma**2))/(2*sqrt(pi)*sigma)"
      ]
     },
     "execution_count": 8,
     "metadata": {},
     "output_type": "execute_result"
    }
   ],
   "source": [
    "density(X)(z)"
   ]
  },
  {
   "cell_type": "code",
   "execution_count": 9,
   "id": "5cdf13a4",
   "metadata": {},
   "outputs": [
    {
     "data": {
      "text/latex": [
       "$\\displaystyle 2 \\mu + 1$"
      ],
      "text/plain": [
       "2*mu + 1"
      ]
     },
     "execution_count": 9,
     "metadata": {},
     "output_type": "execute_result"
    }
   ],
   "source": [
    "E(2*X + 1)"
   ]
  },
  {
   "cell_type": "code",
   "execution_count": 10,
   "id": "c6146c01",
   "metadata": {},
   "outputs": [
    {
     "data": {
      "text/latex": [
       "$\\displaystyle 0$"
      ],
      "text/plain": [
       "0"
      ]
     },
     "execution_count": 10,
     "metadata": {},
     "output_type": "execute_result"
    }
   ],
   "source": [
    "simplify(std(2*x + 1))"
   ]
  },
  {
   "cell_type": "code",
   "execution_count": null,
   "id": "b3bf0958",
   "metadata": {},
   "outputs": [],
   "source": []
  }
 ],
 "metadata": {
  "kernelspec": {
   "display_name": "Python 3 (ipykernel)",
   "language": "python",
   "name": "python3"
  },
  "language_info": {
   "codemirror_mode": {
    "name": "ipython",
    "version": 3
   },
   "file_extension": ".py",
   "mimetype": "text/x-python",
   "name": "python",
   "nbconvert_exporter": "python",
   "pygments_lexer": "ipython3",
   "version": "3.9.12"
  }
 },
 "nbformat": 4,
 "nbformat_minor": 5
}
