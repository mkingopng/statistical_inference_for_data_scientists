{
 "cells": [
  {
   "cell_type": "raw",
   "source": [
    "https://docs.sympy.org/latest/modules/stats.html"
   ],
   "metadata": {
    "collapsed": false,
    "pycharm": {
     "name": "#%% raw\n"
    }
   }
  },
  {
   "cell_type": "code",
   "execution_count": 1,
   "outputs": [],
   "source": [
    "from sympy.stats import Gamma, density, cdf, E, variance\n",
    "from sympy import Symbol, pprint, simplify"
   ],
   "metadata": {
    "collapsed": false,
    "pycharm": {
     "name": "#%%\n"
    }
   }
  },
  {
   "cell_type": "code",
   "execution_count": 2,
   "outputs": [],
   "source": [
    "k = Symbol(\"k\", postive=True)\n",
    "theta = Symbol(\"theta\", positive=True)\n",
    "z = Symbol(\"z\")"
   ],
   "metadata": {
    "collapsed": false,
    "pycharm": {
     "name": "#%%\n"
    }
   }
  },
  {
   "cell_type": "code",
   "execution_count": 7,
   "outputs": [
    {
     "data": {
      "text/plain": "x",
      "text/latex": "$\\displaystyle x$"
     },
     "execution_count": 7,
     "metadata": {},
     "output_type": "execute_result"
    }
   ],
   "source": [
    "X = Gamma(\"x\", k, theta)"
   ],
   "metadata": {
    "collapsed": false,
    "pycharm": {
     "name": "#%%\n"
    }
   }
  },
  {
   "cell_type": "code",
   "execution_count": 8,
   "outputs": [
    {
     "name": "stdout",
     "output_type": "stream",
     "text": [
      "                 -z  \n",
      "                -----\n",
      "     -k  k - 1  theta\n",
      "theta  *z     *e     \n",
      "---------------------\n",
      "       Gamma(k)      \n"
     ]
    }
   ],
   "source": [
    "D = density(X)(z)\n",
    "pprint(D, use_unicode=False)"
   ],
   "metadata": {
    "collapsed": false,
    "pycharm": {
     "name": "#%%\n"
    }
   }
  },
  {
   "cell_type": "code",
   "execution_count": 9,
   "outputs": [
    {
     "name": "stdout",
     "output_type": "stream",
     "text": [
      "/            /     z  \\            \n",
      "|k*lowergamma|k, -----|            \n",
      "|            \\   theta/            \n",
      "<----------------------  for z >= 0\n",
      "|     Gamma(k + 1)                 \n",
      "|                                  \n",
      "\\          0             otherwise \n"
     ]
    }
   ],
   "source": [
    "C = cdf(X, meijerg=True)(z)\n",
    "pprint(C, use_unicode=False)"
   ],
   "metadata": {
    "collapsed": false,
    "pycharm": {
     "name": "#%%\n"
    }
   }
  },
  {
   "cell_type": "code",
   "execution_count": 10,
   "outputs": [
    {
     "data": {
      "text/plain": "k*theta",
      "text/latex": "$\\displaystyle k \\theta$"
     },
     "execution_count": 10,
     "metadata": {},
     "output_type": "execute_result"
    }
   ],
   "source": [
    "E(X)"
   ],
   "metadata": {
    "collapsed": false,
    "pycharm": {
     "name": "#%%\n"
    }
   }
  },
  {
   "cell_type": "code",
   "execution_count": 11,
   "outputs": [
    {
     "name": "stdout",
     "output_type": "stream",
     "text": [
      "       2\n",
      "k*theta \n"
     ]
    }
   ],
   "source": [
    "V = simplify(variance(X))\n",
    "pprint(V, use_unicode=False)"
   ],
   "metadata": {
    "collapsed": false,
    "pycharm": {
     "name": "#%%\n"
    }
   }
  }
 ],
 "metadata": {
  "kernelspec": {
   "display_name": "Python 3",
   "language": "python",
   "name": "python3"
  },
  "language_info": {
   "codemirror_mode": {
    "name": "ipython",
    "version": 2
   },
   "file_extension": ".py",
   "mimetype": "text/x-python",
   "name": "python",
   "nbconvert_exporter": "python",
   "pygments_lexer": "ipython2",
   "version": "2.7.6"
  }
 },
 "nbformat": 4,
 "nbformat_minor": 0
}