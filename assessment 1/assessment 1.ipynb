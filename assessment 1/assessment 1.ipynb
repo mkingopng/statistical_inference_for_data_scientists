{
 "cells": [
  {
   "cell_type": "code",
   "execution_count": 1,
   "id": "2e12610b",
   "metadata": {
    "pycharm": {
     "name": "#%%\n"
    }
   },
   "outputs": [],
   "source": [
    "from sympy import *\n",
    "from sympy import Symbol , Rational, binomial, expand_func\n",
    "from sympy.abc import * \n",
    "from scipy.stats import binom"
   ]
  },
  {
   "cell_type": "markdown",
   "id": "d7b7b05b",
   "metadata": {
    "pycharm": {
     "name": "#%% md\n"
    }
   },
   "source": [
    "# Q1 (done)"
   ]
  },
  {
   "cell_type": "markdown",
   "id": "965bc123",
   "metadata": {
    "pycharm": {
     "name": "#%% md\n"
    }
   },
   "source": [
    "Suppose that three unbiased dice are rolled. Find the probability that at least two of the three dice have a face value of five or more. Give your answer to two decimal places."
   ]
  },
  {
   "cell_type": "markdown",
   "id": "5e290968",
   "metadata": {
    "pycharm": {
     "name": "#%% md\n"
    }
   },
   "source": [
    "the binomial function"
   ]
  },
  {
   "cell_type": "code",
   "execution_count": 2,
   "id": "fe978917",
   "metadata": {
    "pycharm": {
     "name": "#%%\n"
    }
   },
   "outputs": [
    {
     "data": {
      "text/latex": [
       "$\\displaystyle p^{x} \\left(1 - p\\right)^{n - x} {\\binom{n}{x}}$"
      ],
      "text/plain": [
       "p**x*(1 - p)**(n - x)*binomial(n, x)"
      ]
     },
     "execution_count": 2,
     "metadata": {},
     "output_type": "execute_result"
    }
   ],
   "source": [
    "function = binomial(n,x) * p**x * (1-p)**(n-x)  # the binomial function\n",
    "function"
   ]
  },
  {
   "cell_type": "markdown",
   "id": "1bd836e2",
   "metadata": {
    "pycharm": {
     "name": "#%% md\n"
    }
   },
   "source": [
    "substitute in $n=3$, $x=2$, $p = \\dfrac{1}{3}$"
   ]
  },
  {
   "cell_type": "code",
   "execution_count": 8,
   "id": "fabde10d",
   "metadata": {
    "pycharm": {
     "name": "#%%\n"
    }
   },
   "outputs": [
    {
     "data": {
      "text/latex": [
       "$\\displaystyle 0.222222222222222$"
      ],
      "text/plain": [
       "0.222222222222222"
      ]
     },
     "execution_count": 8,
     "metadata": {},
     "output_type": "execute_result"
    }
   ],
   "source": [
    "function2 = function.subs(n, 3).subs(x, 2).subs(p, 1/3)\n",
    "function2"
   ]
  },
  {
   "cell_type": "markdown",
   "id": "d40d67f8",
   "metadata": {
    "pycharm": {
     "name": "#%% md\n"
    }
   },
   "source": [
    "repeat for $x=3$"
   ]
  },
  {
   "cell_type": "code",
   "execution_count": 9,
   "id": "6c124f20",
   "metadata": {
    "pycharm": {
     "name": "#%%\n"
    }
   },
   "outputs": [
    {
     "data": {
      "text/latex": [
       "$\\displaystyle 0.037037037037037$"
      ],
      "text/plain": [
       "0.0370370370370370"
      ]
     },
     "execution_count": 9,
     "metadata": {},
     "output_type": "execute_result"
    }
   ],
   "source": [
    "function3 = function.subs(n, 3).subs(x, 3).subs(p, 1/3)\n",
    "function3"
   ]
  },
  {
   "cell_type": "markdown",
   "id": "9e9c7271",
   "metadata": {
    "pycharm": {
     "name": "#%% md\n"
    }
   },
   "source": [
    "Add the two together"
   ]
  },
  {
   "cell_type": "code",
   "execution_count": 10,
   "id": "f1a7cb01",
   "metadata": {
    "pycharm": {
     "name": "#%%\n"
    }
   },
   "outputs": [
    {
     "data": {
      "text/latex": [
       "$\\displaystyle 0.259259259259259$"
      ],
      "text/plain": [
       "0.259259259259259"
      ]
     },
     "execution_count": 10,
     "metadata": {},
     "output_type": "execute_result"
    }
   ],
   "source": [
    "function2 + function3"
   ]
  },
  {
   "cell_type": "markdown",
   "id": "5bad7521",
   "metadata": {
    "pycharm": {
     "name": "#%% md\n"
    }
   },
   "source": [
    "# Q2 (done)"
   ]
  },
  {
   "cell_type": "markdown",
   "id": "9ed0e6ca",
   "metadata": {
    "pycharm": {
     "name": "#%% md\n"
    }
   },
   "source": [
    "Suppose that  denotes that a randomly selected individual is female and B denotes that a randomly selected individual has blonde hair.  It is known that \n",
    "- $P(F)=0.57$, \n",
    "- $P(B) = 0.21$ and \n",
    "- $P(F \\cup B) = 0.60$\n",
    "Find the conditional probability that an individual is female given that we know they have blonde hair. "
   ]
  },
  {
   "cell_type": "markdown",
   "id": "3fa2cbfd",
   "metadata": {
    "pycharm": {
     "name": "#%% md\n"
    }
   },
   "source": [
    "use $P(F \\cup B) = 0.60$ to calculate $P(F \\cup B)$"
   ]
  },
  {
   "cell_type": "markdown",
   "id": "113d67c0",
   "metadata": {
    "pycharm": {
     "name": "#%% md\n"
    }
   },
   "source": [
    "$$\\begin{aligned}\n",
    "P(F \\cup B) &= 0.60 \\\\\n",
    "P(F \\cup B) &= P(F) + P(B) - P(F \\cap B) \\\\\n",
    "P(F \\cup B) + P(F \\cap B) &= P(F) + P(B) \\\\ \n",
    "P(F \\cap B) &= P(F) + P(B) - P(F \\cup B) \\\\\n",
    "P(F \\cap B) &= 0.57 + 0.21 - 0.6 \\\\\n",
    "P(F \\cap B) &= 0.18 \\\\\n",
    "\\end{aligned}$$"
   ]
  },
  {
   "cell_type": "markdown",
   "id": "1ecf54ae",
   "metadata": {
    "pycharm": {
     "name": "#%% md\n"
    }
   },
   "source": [
    "# Q3 (done)"
   ]
  },
  {
   "cell_type": "code",
   "execution_count": null,
   "id": "1e2f5330",
   "metadata": {
    "pycharm": {
     "name": "#%%\n"
    }
   },
   "outputs": [],
   "source": []
  },
  {
   "cell_type": "markdown",
   "id": "93fc6a5f",
   "metadata": {
    "pycharm": {
     "name": "#%% md\n"
    }
   },
   "source": [
    "# Q4 (done)"
   ]
  },
  {
   "cell_type": "code",
   "execution_count": null,
   "id": "c9044fd4",
   "metadata": {
    "pycharm": {
     "name": "#%%\n"
    }
   },
   "outputs": [],
   "source": []
  },
  {
   "cell_type": "code",
   "execution_count": null,
   "id": "54c74e2a",
   "metadata": {
    "pycharm": {
     "name": "#%%\n"
    }
   },
   "outputs": [],
   "source": []
  },
  {
   "cell_type": "markdown",
   "id": "306b2ae0",
   "metadata": {
    "pycharm": {
     "name": "#%% md\n"
    }
   },
   "source": [
    "# Q5: not done yet"
   ]
  },
  {
   "cell_type": "markdown",
   "id": "58753ac2",
   "metadata": {
    "pycharm": {
     "name": "#%% md\n"
    }
   },
   "source": [
    "$X$ has a probability density function\n",
    "\n",
    "$$f(x) = \\theta e^{-\\theta x}$$\n",
    "\n",
    "for $0 < x < \\infty$ and $\\theta > 0$ a positive constant. FInd the probability density function of \n",
    "\n",
    "$$Y = \\sqrt{X}$$\n",
    "\n",
    "the domain must also be specified in your answer"
   ]
  },
  {
   "cell_type": "code",
   "execution_count": 11,
   "id": "d657804d",
   "metadata": {
    "pycharm": {
     "name": "#%%\n"
    }
   },
   "outputs": [
    {
     "data": {
      "text/latex": [
       "$\\displaystyle \\theta$"
      ],
      "text/plain": [
       "theta"
      ]
     },
     "execution_count": 11,
     "metadata": {},
     "output_type": "execute_result"
    }
   ],
   "source": [
    "theta = Symbol('theta', real=True)\n",
    "theta"
   ]
  },
  {
   "cell_type": "code",
   "execution_count": 12,
   "id": "2ae95a1c",
   "metadata": {
    "pycharm": {
     "name": "#%%\n"
    }
   },
   "outputs": [
    {
     "data": {
      "text/latex": [
       "$\\displaystyle e^{- \\theta x} \\theta$"
      ],
      "text/plain": [
       "theta/e**(theta*x)"
      ]
     },
     "execution_count": 12,
     "metadata": {},
     "output_type": "execute_result"
    }
   ],
   "source": [
    "function = theta*e**(-theta*x)\n",
    "function"
   ]
  },
  {
   "cell_type": "markdown",
   "id": "f99f971d",
   "metadata": {
    "pycharm": {
     "name": "#%% md\n"
    }
   },
   "source": [
    "Find the probability density function of"
   ]
  },
  {
   "cell_type": "code",
   "execution_count": 13,
   "id": "b8c99366",
   "metadata": {
    "pycharm": {
     "name": "#%%\n"
    }
   },
   "outputs": [
    {
     "data": {
      "text/latex": [
       "$\\displaystyle \\sqrt{X}$"
      ],
      "text/plain": [
       "sqrt(X)"
      ]
     },
     "execution_count": 13,
     "metadata": {},
     "output_type": "execute_result"
    }
   ],
   "source": [
    "Y = sqrt(X)\n",
    "Y"
   ]
  },
  {
   "cell_type": "code",
   "execution_count": null,
   "id": "6469735b",
   "metadata": {
    "pycharm": {
     "name": "#%%\n"
    }
   },
   "outputs": [],
   "source": []
  },
  {
   "cell_type": "markdown",
   "id": "bb1c22b1",
   "metadata": {
    "pycharm": {
     "name": "#%% md\n"
    }
   },
   "source": [
    "# Q6: (not done yet)"
   ]
  },
  {
   "cell_type": "markdown",
   "id": "536d8182",
   "metadata": {
    "pycharm": {
     "name": "#%% md\n"
    }
   },
   "source": [
    "Let the continuous random vector $(X,Y)$ have joint density\n",
    "\n",
    "$$f(x,y) = e^{-x}, 0<y<x<\\infty$$\n",
    "\n",
    "find the conditional density of $X$ conditioned on $Y=y$"
   ]
  },
  {
   "cell_type": "code",
   "execution_count": null,
   "id": "b43bdbd2",
   "metadata": {
    "pycharm": {
     "name": "#%%\n"
    }
   },
   "outputs": [],
   "source": []
  },
  {
   "cell_type": "markdown",
   "id": "8fb0a075",
   "metadata": {
    "pycharm": {
     "name": "#%% md\n"
    }
   },
   "source": [
    "# Q7: (done)"
   ]
  },
  {
   "cell_type": "markdown",
   "id": "5be87a5d",
   "metadata": {
    "pycharm": {
     "name": "#%% md\n"
    }
   },
   "source": []
  },
  {
   "cell_type": "code",
   "execution_count": null,
   "id": "eb9129f4",
   "metadata": {
    "pycharm": {
     "name": "#%%\n"
    }
   },
   "outputs": [],
   "source": []
  },
  {
   "cell_type": "markdown",
   "id": "af76c584",
   "metadata": {
    "pycharm": {
     "name": "#%% md\n"
    }
   },
   "source": [
    "# Q8: (done)"
   ]
  },
  {
   "cell_type": "code",
   "execution_count": null,
   "id": "57b78051",
   "metadata": {
    "pycharm": {
     "name": "#%%\n"
    }
   },
   "outputs": [],
   "source": []
  },
  {
   "cell_type": "code",
   "execution_count": null,
   "id": "4e0c9290",
   "metadata": {
    "pycharm": {
     "name": "#%%\n"
    }
   },
   "outputs": [],
   "source": []
  },
  {
   "cell_type": "markdown",
   "id": "f7453779",
   "metadata": {
    "pycharm": {
     "name": "#%% md\n"
    }
   },
   "source": [
    "# Q9 not done yet"
   ]
  },
  {
   "cell_type": "code",
   "execution_count": null,
   "id": "f1d95385",
   "metadata": {
    "pycharm": {
     "name": "#%%\n"
    }
   },
   "outputs": [],
   "source": []
  },
  {
   "cell_type": "code",
   "execution_count": null,
   "id": "97eaace7",
   "metadata": {
    "pycharm": {
     "name": "#%%\n"
    }
   },
   "outputs": [],
   "source": []
  },
  {
   "cell_type": "markdown",
   "id": "9854e9a4",
   "metadata": {
    "pycharm": {
     "name": "#%% md\n"
    }
   },
   "source": [
    "# Q10 not done yet"
   ]
  },
  {
   "cell_type": "code",
   "execution_count": null,
   "id": "53e046c8",
   "metadata": {
    "pycharm": {
     "name": "#%%\n"
    }
   },
   "outputs": [],
   "source": []
  },
  {
   "cell_type": "code",
   "execution_count": null,
   "id": "884d2dbf",
   "metadata": {
    "pycharm": {
     "name": "#%%\n"
    }
   },
   "outputs": [],
   "source": []
  }
 ],
 "metadata": {
  "kernelspec": {
   "display_name": "Python 3 (ipykernel)",
   "language": "python",
   "name": "python3"
  },
  "language_info": {
   "codemirror_mode": {
    "name": "ipython",
    "version": 3
   },
   "file_extension": ".py",
   "mimetype": "text/x-python",
   "name": "python",
   "nbconvert_exporter": "python",
   "pygments_lexer": "ipython3",
   "version": "3.9.12"
  }
 },
 "nbformat": 4,
 "nbformat_minor": 5
}