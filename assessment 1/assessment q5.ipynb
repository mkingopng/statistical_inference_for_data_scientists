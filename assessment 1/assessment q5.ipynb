{
 "cells": [
  {
   "cell_type": "code",
   "execution_count": 1,
   "id": "f21f0653",
   "metadata": {
    "pycharm": {
     "name": "#%%\n"
    }
   },
   "outputs": [],
   "source": [
    "from sympy import *\n",
    "from sympy import Symbol, Rational, expand_func\n",
    "from sympy.abc import * "
   ]
  },
  {
   "cell_type": "markdown",
   "id": "92b326c7",
   "metadata": {
    "pycharm": {
     "name": "#%% md\n"
    }
   },
   "source": [
    "$X$ has a probability density function\n",
    "\n",
    "$$f(x) = \\theta e^{-\\theta x}$$\n",
    "\n",
    "for $0 < x < \\infty$ and $\\theta > 0$ a positive constant. FInd the probability density function of \n",
    "\n",
    "$$Y = \\sqrt{X}$$\n",
    "\n",
    "the domain must also be specified in your answer"
   ]
  },
  {
   "cell_type": "code",
   "execution_count": 2,
   "id": "1a5c6158",
   "metadata": {
    "pycharm": {
     "name": "#%%\n"
    }
   },
   "outputs": [
    {
     "data": {
      "text/latex": [
       "$\\displaystyle \\theta$"
      ],
      "text/plain": [
       "theta"
      ]
     },
     "execution_count": 2,
     "metadata": {},
     "output_type": "execute_result"
    }
   ],
   "source": [
    "theta = Symbol('theta', real=True)  # cal theta symbol\n",
    "theta"
   ]
  },
  {
   "cell_type": "code",
   "execution_count": 3,
   "id": "dbd67edd",
   "metadata": {
    "pycharm": {
     "name": "#%%\n"
    }
   },
   "outputs": [
    {
     "data": {
      "text/latex": [
       "$\\displaystyle e^{- \\theta x} \\theta$"
      ],
      "text/plain": [
       "theta/e**(theta*x)"
      ]
     },
     "execution_count": 3,
     "metadata": {},
     "output_type": "execute_result"
    }
   ],
   "source": [
    "function = theta*e**(-theta*x)  # pdf of x\n",
    "function"
   ]
  },
  {
   "cell_type": "markdown",
   "id": "203a1914",
   "metadata": {
    "pycharm": {
     "name": "#%% md\n"
    }
   },
   "source": [
    "we can rearrange so that $X = y^2$ and substitute that into the equation"
   ]
  },
  {
   "cell_type": "code",
   "execution_count": 5,
   "id": "f1f0e918",
   "metadata": {
    "pycharm": {
     "name": "#%%\n"
    }
   },
   "outputs": [
    {
     "data": {
      "text/latex": [
       "$\\displaystyle e^{- \\theta y^{2}} \\theta$"
      ],
      "text/plain": [
       "theta/e**(theta*y**2)"
      ]
     },
     "execution_count": 5,
     "metadata": {},
     "output_type": "execute_result"
    }
   ],
   "source": [
    "func = function.subs(x, y**2)\n",
    "func"
   ]
  },
  {
   "cell_type": "code",
   "execution_count": 9,
   "id": "03f541eb",
   "metadata": {
    "pycharm": {
     "name": "#%%\n"
    }
   },
   "outputs": [
    {
     "data": {
      "text/latex": [
       "$\\displaystyle \\theta \\int e^{- \\theta y^{2}}\\, dy$"
      ],
      "text/plain": [
       "theta*Integral(e**(-theta*y**2), y)"
      ]
     },
     "execution_count": 9,
     "metadata": {},
     "output_type": "execute_result"
    }
   ],
   "source": [
    "integrate(func, y).doit()"
   ]
  }
 ],
 "metadata": {
  "kernelspec": {
   "display_name": "Python 3 (ipykernel)",
   "language": "python",
   "name": "python3"
  },
  "language_info": {
   "codemirror_mode": {
    "name": "ipython",
    "version": 3
   },
   "file_extension": ".py",
   "mimetype": "text/x-python",
   "name": "python",
   "nbconvert_exporter": "python",
   "pygments_lexer": "ipython3",
   "version": "3.9.11"
  }
 },
 "nbformat": 4,
 "nbformat_minor": 5
}